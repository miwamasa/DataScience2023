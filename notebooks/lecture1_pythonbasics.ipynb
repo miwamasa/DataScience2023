{
 "cells": [
  {
   "cell_type": "markdown",
   "metadata": {},
   "source": [
    "# Lecture1 - Python Basics -\n",
    "<div dir='rtl'>\n",
    "2022.4岩政\n",
    "</div>\n",
    "\n",
    "ここでは、Python言語のおさらいをします。基本的には以下を参考にしています。\n",
    "\n",
    "https://fri-datascience.github.io/course_ids/handbook/python-introduction-chapter.html\n",
    "\n",
    "https://github.com/sg-nm/Python-basic"
   ]
  },
  {
   "cell_type": "markdown",
   "metadata": {},
   "source": [
    "## Pythonについて\n",
    "- Pythonは文法が簡単である、型指定（後述）をしなくても変数が使えるので、手軽である。\n",
    "- パッケージが充実している（特にデータサイエンス系、機械学習系、可視化系）\n",
    "- 様々な計算機環境で同じように動作する(Windows,Mac,ブラウザ)\n",
    "- Pythonのバージョンは3.6以上を想定しています(Colabのpythonは、Python 3.7.13)\n",
    "### 岩政の私見\n",
    "- Pythonはスクリプト言語です。スクリプト言語は手軽に試してみて動作を確認することができます。\n",
    "- 必要最小限の文法を使えるようになりましょう。忘れたらググり（検索し）ましょう、既存のコードをコピぺしましょう。\n",
    "- できるだけ、何をしたいかを直接書くスタイル＝宣言的プログラミングをとりましょう。\n",
    "  - 宣言的：何をしたいかを書く。手続き的：処理を書く(例：for文)\n",
    "  - pandas(後後で出てます)パッケージを使うと、宣言的なプログラミングスタイルが沢山でてきます。\n",
    "\n",
    "宣言的の例：リストが欲しい！と一発でわかる。リストの内包表記ともいう。\n",
    "```Python\n",
    "[i*2 for i in range(10)]\n",
    "```\n",
    "手続き的の例：処理が書かれていて何がしたいか直接はわからない\n",
    "```Python\n",
    "ret=[]\n",
    "for i in range(10):\n",
    "    ret.append(i*2)\n",
    "```"
   ]
  },
  {
   "cell_type": "markdown",
   "metadata": {},
   "source": [
    "## **基本的な計算方法**\n",
    "\n",
    "### **基本的なルール**\n",
    "\n",
    "\n",
    "*   基本的に1行が1文で，1つの処理になります．\n",
    "*   1行が長くなりすぎるときは，行末に `\\` を置くことでその行を次行に継続させることができます．なお，かっこ類 `() [] {}` の中では自由に改行可能です．\n",
    "*   字下げ（インデント）で制御構文や関数のブロック（適用範囲）を表現するので，**行の先頭に勝手に空白を入れてはいけない**．\n",
    "*   `#` から行末まではコメントになります．実行結果には影響しません．"
   ]
  },
  {
   "cell_type": "markdown",
   "metadata": {},
   "source": [
    "### **変数およびprint文**\n",
    "\n",
    "- 文字列と'+'でつなげて出力できます。\n",
    "- 文字列に対する 'format()'関数で値を反映することもできます。\n",
    "- フォーマットなどは、[こちら](https://www.python.org/dev/peps/pep-0498/)を参照"
   ]
  },
  {
   "cell_type": "code",
   "execution_count": 1,
   "metadata": {},
   "outputs": [
    {
     "name": "stdout",
     "output_type": "stream",
     "text": [
      "Hi, I am Mark and I am 42 years old.\n",
      "Hi, I am Mark and I am 42 years old.\n",
      "Hi, I am Mark and I am 42 years old.\n",
      "Hi, I am Mark and I am  42 years old.\n",
      "Hi, I am Mark and I am  42 years old\n",
      "91.00 Fahrenheit is 32.78 Celsius\n"
     ]
    }
   ],
   "source": [
    "name = \"Mark\"\n",
    "age = 42\n",
    "\n",
    "# Basic old-style string concatenation\n",
    "print(\"Hi, I am \" + name + \" and I am \" + str(age) + \" years old.\")\n",
    "\n",
    "# %-formatting\n",
    "print(\"Hi, I am %s and I am %d years old.\" % (name, age))\n",
    "\n",
    "# Cleaner syntax using format function\n",
    "print(\"Hi, I am {} and I am {} years old.\".format(name, age))\n",
    "\n",
    "# Format function with extended features of parameter naming and output formatting\n",
    "print(\"Hi, I am {name} and I am {age:3d} years old.\".format(age=age, name=name))\n",
    "\n",
    "# Same features as format function with evaluations directly within curly braces\n",
    "print(f\"Hi, I am {name} and I am {age:3d} years old\")\n",
    "\n",
    "# Another example\n",
    "f = 91\n",
    "print(f\"{f:.2f} Fahrenheit is {(f - 32) * 5 / 9:.2f} Celsius\")"
   ]
  },
  {
   "cell_type": "markdown",
   "metadata": {},
   "source": [
    "### **変数の型**\n",
    "\n",
    "代表的な型には以下があります\n",
    "*   int\n",
    "*   float\n",
    "*   str\n",
    "*   bool\n",
    "*   list\n",
    "*   dict\n",
    "*   tuple\n",
    "\n",
    "代入（`=`）によって，左辺の変数に右辺の値を割り当てることができます．変数を利用することで，値や計算結果などの情報に名前をつけることができるようになります．\n",
    "\n",
    "代入文では，右辺を先に評価した後に左辺の変数に割り当てるという順番に従います\n",
    "\n",
    "C言語などでは変数の宣言には型(int,double等)を指定する必要がありますが，Pythonでは型を指定する必要がありません．\n",
    "\n",
    "x = 5と書くと，xに整数型（int）が自動的に割り当てられます．\n",
    "\n",
    "変数の型は'type()'関数で確かめることができます。"
   ]
  },
  {
   "cell_type": "code",
   "execution_count": 2,
   "metadata": {},
   "outputs": [
    {
     "name": "stdout",
     "output_type": "stream",
     "text": [
      "Type of a is <class 'int'>\n",
      "Type of c is <class 'complex'>\n",
      "Type of d is <class 'bool'>\n",
      "Type of e is <class 'str'>\n",
      "Type of f is <class 'NoneType'>\n"
     ]
    }
   ],
   "source": [
    "a = 2864\n",
    "print(f\"Type of a is {type(a)}\")\n",
    "b = 18+64j\n",
    "print(f\"Type of c is {type(b)}\")\n",
    "c = False\n",
    "print(f\"Type of d is {type(c)}\")\n",
    "d = \"I'm loving it!\"\n",
    "print(f\"Type of e is {type(d)}\")\n",
    "e = None\n",
    "print(f\"Type of f is {type(e)}\")"
   ]
  },
  {
   "cell_type": "markdown",
   "metadata": {},
   "source": [
    "#### **変数名の付け方**\n",
    "\n",
    "変数名は英字またはアンダースコアで始まり，英数字もしくはアンダースコアが1個以上続くもので定義可能です．\n",
    "\n",
    "ただし，いくつか例外があります．\n",
    "\n",
    "\n",
    "*   `if`や`while`などのように，Python内であらかじめ定義されているキーワードは使用できません\n",
    "*   アンダースコア2個（`__`）で始まる変数名は使用できません"
   ]
  },
  {
   "cell_type": "markdown",
   "metadata": {},
   "source": [
    "## 数値と基本演算子\n",
    "\n",
    "#### **演算の優先順位**\n",
    "\n",
    "掛け算，除算は加算や減算よりも先に実行されます．同じ優先順位の演算子が並んでいる場合は，文の先頭に近い方から実行されます．\n",
    "\n",
    "ただし，かっこを使うことで優先順位を変更することができます．\n",
    "\n",
    "#### **空白**\n",
    "また，数式や演算子の間には，自由に空白（半角空白）を入れることができます．上記でみるように1つだけ空白を挿入するケースがよく見られます．\n",
    "ただし，複数文字からなる演算子（`**`, `//`）の間に空白を入れることはできません"
   ]
  },
  {
   "cell_type": "code",
   "execution_count": 3,
   "metadata": {},
   "outputs": [
    {
     "name": "stdout",
     "output_type": "stream",
     "text": [
      "Addition: 5.5\n",
      "Multiplication: 7.5\n",
      "Division: 1.2\n",
      "Addition to Boolean: 6\n",
      "String multiplication: 55555\n"
     ]
    }
   ],
   "source": [
    "a = 3  \n",
    "b = 2.5  \n",
    "c = a + b \n",
    "print(f\"Addition: {c}\")\n",
    "c = a * b\n",
    "print(f\"Multiplication: {c}\")\n",
    "c = a / b\n",
    "print(f\"Division: {c}\")\n",
    "c = True + 5\n",
    "print(f\"Addition to Boolean: {c}\")\n",
    "c = \"5\" * 5\n",
    "print(f\"String multiplication: {c}\")"
   ]
  },
  {
   "cell_type": "markdown",
   "metadata": {},
   "source": [
    "## **文字列**、結合、等\n",
    "\n",
    "\n",
    "文字列は変更不能なシーケンスです．"
   ]
  },
  {
   "cell_type": "code",
   "execution_count": 4,
   "metadata": {},
   "outputs": [],
   "source": [
    "# シングルクォートでもダブルクォートでもOK\n",
    "s = \"hello, world\"\n",
    "s = 'hello, world'"
   ]
  },
  {
   "cell_type": "markdown",
   "metadata": {},
   "source": [
    "文字列独特の演算があります"
   ]
  },
  {
   "cell_type": "code",
   "execution_count": 5,
   "metadata": {},
   "outputs": [
    {
     "name": "stdout",
     "output_type": "stream",
     "text": [
      "['hello', 'world']\n"
     ]
    }
   ],
   "source": [
    "# スペースで分割\n",
    "s = \"hello world\"\n",
    "s = s.split()\n",
    "print(s)"
   ]
  },
  {
   "cell_type": "code",
   "execution_count": 6,
   "metadata": {},
   "outputs": [
    {
     "name": "stdout",
     "output_type": "stream",
     "text": [
      "['hello', ' world']\n"
     ]
    }
   ],
   "source": [
    "# 指定した文字で分割\n",
    "s = \"hello, world\"\n",
    "s = s.split(',')\n",
    "print(s)"
   ]
  },
  {
   "cell_type": "code",
   "execution_count": 7,
   "metadata": {},
   "outputs": [
    {
     "name": "stdout",
     "output_type": "stream",
     "text": [
      "2021/10/25\n"
     ]
    }
   ],
   "source": [
    "# 指定した文字列で置換\n",
    "date = \"2021-10-25\"\n",
    "date = date.replace('-', '/')\n",
    "print(date)"
   ]
  },
  {
   "cell_type": "markdown",
   "metadata": {},
   "source": [
    "文字列と数値の結合"
   ]
  },
  {
   "cell_type": "code",
   "execution_count": 8,
   "metadata": {},
   "outputs": [
    {
     "name": "stdout",
     "output_type": "stream",
     "text": [
      "October 25, 2021\n"
     ]
    }
   ],
   "source": [
    "# 引数指定も可能\n",
    "s = \"{1} {2}, {0}\".format(2021, \"October\", 25)\n",
    "print(s)"
   ]
  },
  {
   "cell_type": "code",
   "execution_count": 9,
   "metadata": {},
   "outputs": [
    {
     "data": {
      "text/plain": [
       "'00123'"
      ]
     },
     "execution_count": 9,
     "metadata": {},
     "output_type": "execute_result"
    }
   ],
   "source": [
    "# 書式も指定可能(足りない部分はゼロ埋め)\n",
    "\"{:05}\".format(123)"
   ]
  },
  {
   "cell_type": "markdown",
   "metadata": {},
   "source": [
    "色々な文字列操作"
   ]
  },
  {
   "cell_type": "code",
   "execution_count": 10,
   "metadata": {},
   "outputs": [
    {
     "name": "stdout",
     "output_type": "stream",
     "text": [
      "Concatenated string: 'Data science a multi-disciplinary field'\n",
      "First word: 'Data' and last word: 'field'.\n",
      "First word lowercased: 'data'and last word uppercased: 'FIELD'.\n",
      "Substring replacement: 'Data management a multi-disciplinary field'\n"
     ]
    }
   ],
   "source": [
    "a = \"Data science\" \n",
    "b = 'a multi-disciplinary field' # we can use double or single quotes\n",
    "c = a + \" \" + b\n",
    "print(f\"Concatenated string: '{c}'\")\n",
    "first = c[:4]\n",
    "last = c[-5:]\n",
    "print(f\"First word: '{first}' and last word: '{last}'.\")\n",
    "firstLower = first.lower()\n",
    "lastUpper = last.upper()\n",
    "print(\n",
    "  (f\"First word lowercased: '{firstLower}'\"\n",
    "   f\"and last word uppercased: '{lastUpper}'.\")\n",
    ")\n",
    "management = c.replace(\"science\", \"management\")\n",
    "print(f\"Substring replacement: '{management}'\")"
   ]
  },
  {
   "cell_type": "markdown",
   "metadata": {},
   "source": [
    "[string](https://docs.python.org/3/library/string.html)パッケージを使うとこうなります。"
   ]
  },
  {
   "cell_type": "code",
   "execution_count": 11,
   "metadata": {},
   "outputs": [
    {
     "name": "stdout",
     "output_type": "stream",
     "text": [
      "Punctuation symbols: '!\"#$%&'()*+,-./:;<=>?@[\\]^_`{|}~'\n"
     ]
    }
   ],
   "source": [
    "# string package\n",
    "import string\n",
    "print(f\"Punctuation symbols: '{string.punctuation}'\")"
   ]
  },
  {
   "cell_type": "markdown",
   "metadata": {},
   "source": [
    "## データ構造、リスト(List)、タプル(Tupple)、集合(Set)、辞書(Dictionary)"
   ]
  },
  {
   "cell_type": "code",
   "execution_count": 12,
   "metadata": {},
   "outputs": [],
   "source": [
    "l = [1, 2, 3, \"a\", 10] # List  \n",
    "t = (1, 2, 3, \"a\", 10) # Tuple (immutable)\n",
    "s = {\"a\", \"b\", \"c\"}     # Set"
   ]
  },
  {
   "cell_type": "markdown",
   "metadata": {},
   "source": [
    "### リストへの操作"
   ]
  },
  {
   "cell_type": "code",
   "execution_count": 13,
   "metadata": {},
   "outputs": [
    {
     "name": "stdout",
     "output_type": "stream",
     "text": [
      "5\n",
      "3\n",
      "10\n",
      "[1, 2, 3]\n",
      "[3, 'a', 10]\n",
      "[1, 2]\n"
     ]
    }
   ],
   "source": [
    "# 基本操作\n",
    "## 長さ\n",
    "print(len(l))\n",
    "## 要素アクセス\n",
    "print(l[2])\n",
    "## 最後の要素\n",
    "print(l[-1])\n",
    "\n",
    "#スライス\n",
    "## x[0]〜x[2] までを取得（x[3]は含まれない）\n",
    "print(l[0:3])\n",
    "## x[2]以降を取得\n",
    "print(l[2:])\n",
    "## x[1]までを取得\n",
    "print(l[:2])"
   ]
  },
  {
   "cell_type": "markdown",
   "metadata": {},
   "source": [
    "#### **リストの連結**\n",
    "\n",
    "リスト同士の連結は「+」で実行可能です．"
   ]
  },
  {
   "cell_type": "code",
   "execution_count": 14,
   "metadata": {},
   "outputs": [
    {
     "data": {
      "text/plain": [
       "[1, 2, 3, 4, 5, 6]"
      ]
     },
     "execution_count": 14,
     "metadata": {},
     "output_type": "execute_result"
    }
   ],
   "source": [
    "[1,2,3]+[4,5,6]"
   ]
  },
  {
   "cell_type": "markdown",
   "metadata": {},
   "source": [
    "同じ要素を繰り返す場合は'*'で"
   ]
  },
  {
   "cell_type": "code",
   "execution_count": 15,
   "metadata": {},
   "outputs": [
    {
     "data": {
      "text/plain": [
       "[1, 2, 1, 2, 1, 2, 1, 2, 1, 2]"
      ]
     },
     "execution_count": 15,
     "metadata": {},
     "output_type": "execute_result"
    }
   ],
   "source": [
    "[1,2]*5"
   ]
  },
  {
   "cell_type": "markdown",
   "metadata": {},
   "source": [
    "#### **リストの生成方法**\n",
    "\n",
    "連番を作りたいときは，range関数との組み合わせが効率的です．"
   ]
  },
  {
   "cell_type": "code",
   "execution_count": 16,
   "metadata": {},
   "outputs": [
    {
     "data": {
      "text/plain": [
       "[0, 1, 2, 3, 4]"
      ]
     },
     "execution_count": 16,
     "metadata": {},
     "output_type": "execute_result"
    }
   ],
   "source": [
    "# 要素数が5つのリスト生成、0起点\n",
    "list(range(5))"
   ]
  },
  {
   "cell_type": "code",
   "execution_count": 17,
   "metadata": {},
   "outputs": [
    {
     "data": {
      "text/plain": [
       "[2, 3, 4]"
      ]
     },
     "execution_count": 17,
     "metadata": {},
     "output_type": "execute_result"
    }
   ],
   "source": [
    "# 2から5までの要素(5は入らず”)\n",
    "list(range(2,5))"
   ]
  },
  {
   "cell_type": "code",
   "execution_count": 18,
   "metadata": {},
   "outputs": [
    {
     "name": "stdout",
     "output_type": "stream",
     "text": [
      "[10, 20]\n"
     ]
    }
   ],
   "source": [
    "# リストへの要素の追加(末尾に追加していく)\n",
    "x = []\n",
    "x.append(10)\n",
    "x.append(20)\n",
    "print(x)"
   ]
  },
  {
   "cell_type": "markdown",
   "metadata": {},
   "source": [
    "### **辞書(dict)**\n",
    "\n",
    "辞書型では整数以外のものでインデクシングできます．\n",
    "\n",
    "インデクシングするものを「key」，keyがもつ値を「value」と呼びます．keyとしては，文字列，数値，タプルなどのimmutableなデータ型を使うことができる．\n",
    "\n",
    "一方，valueとしては，あらゆる型のデータを指定できます．\n",
    "\n",
    "下記は，文字列をkeyに，整数値をvalueとして初期化した辞書の例です．"
   ]
  },
  {
   "cell_type": "code",
   "execution_count": 19,
   "metadata": {},
   "outputs": [
    {
     "name": "stdout",
     "output_type": "stream",
     "text": [
      "{'title': 'Introduction to Data Science', 'year': 1, 'semester': 'fall', 'classroom': 'P03'}\n"
     ]
    }
   ],
   "source": [
    "dict = {\n",
    "  \"title\": \"Introduction to Data Science\",\n",
    "  \"year\": 1,\n",
    "  \"semester\": \"fall\",\n",
    "  \"classroom\": \"P02\"\n",
    "}\n",
    "dict[\"classroom\"] = \"P03\" \n",
    "# key='classroom'が上書きされたことに注意\n",
    "print(dict)"
   ]
  },
  {
   "cell_type": "code",
   "execution_count": 20,
   "metadata": {},
   "outputs": [
    {
     "name": "stdout",
     "output_type": "stream",
     "text": [
      "{'title': 'Introduction to Data Science', 'year': 1, 'semester': 'fall', 'classroom': 'P03', 'hoge': 'foo'}\n"
     ]
    }
   ],
   "source": [
    "## 要素の追加\n",
    "dict['hoge']='foo'\n",
    "print(dict)"
   ]
  },
  {
   "cell_type": "code",
   "execution_count": 21,
   "metadata": {},
   "outputs": [
    {
     "data": {
      "text/plain": [
       "True"
      ]
     },
     "execution_count": 21,
     "metadata": {},
     "output_type": "execute_result"
    }
   ],
   "source": [
    "# keyの有無はin演算子で調べることができる\n",
    "'semester' in dict"
   ]
  },
  {
   "cell_type": "markdown",
   "metadata": {},
   "source": [
    "#### 要素の一覧"
   ]
  },
  {
   "cell_type": "code",
   "execution_count": 22,
   "metadata": {},
   "outputs": [
    {
     "data": {
      "text/plain": [
       "['Alice', 'Bob', 'Charlie']"
      ]
     },
     "execution_count": 22,
     "metadata": {},
     "output_type": "execute_result"
    }
   ],
   "source": [
    "score = {'Alice': 80, 'Bob': 90, 'Charlie': 100}\n",
    "# keyの一覧 (list(score)と同じ)\n",
    "list(score.keys())"
   ]
  },
  {
   "cell_type": "code",
   "execution_count": 23,
   "metadata": {},
   "outputs": [
    {
     "data": {
      "text/plain": [
       "[80, 90, 100]"
      ]
     },
     "execution_count": 23,
     "metadata": {},
     "output_type": "execute_result"
    }
   ],
   "source": [
    "# value一覧\n",
    "list(score.values())"
   ]
  },
  {
   "cell_type": "code",
   "execution_count": 24,
   "metadata": {},
   "outputs": [
    {
     "data": {
      "text/plain": [
       "[('Alice', 80), ('Bob', 90), ('Charlie', 100)]"
      ]
     },
     "execution_count": 24,
     "metadata": {},
     "output_type": "execute_result"
    }
   ],
   "source": [
    "# key/value一覧\n",
    "list(score.items())"
   ]
  },
  {
   "cell_type": "markdown",
   "metadata": {},
   "source": [
    "#### 辞書のコピー\n"
   ]
  },
  {
   "cell_type": "code",
   "execution_count": 25,
   "metadata": {},
   "outputs": [
    {
     "name": "stdout",
     "output_type": "stream",
     "text": [
      "{'Alice': 80, 'Bob': 90, 'Charlie': 100}\n"
     ]
    }
   ],
   "source": [
    "score = {'Alice': 80, 'Bob': 90, 'Charlie': 100}\n",
    "score_copy = score.copy()\n",
    "print(score_copy)"
   ]
  },
  {
   "cell_type": "markdown",
   "metadata": {},
   "source": [
    "リストなどのデータ構造の要素に一度に、同じ処理を行う場合にmap関数を使うことがよくあります。for文書かなくてもよいでしょう！"
   ]
  },
  {
   "cell_type": "code",
   "execution_count": 26,
   "metadata": {},
   "outputs": [
    {
     "name": "stdout",
     "output_type": "stream",
     "text": [
      "Doubled: <map object at 0x00000244FBA1D820>\n",
      "Filtered: <filter object at 0x00000244FBA1D880>\n",
      "Sum value: 52\n"
     ]
    }
   ],
   "source": [
    "# Python 3 import for reduce (not needed for Python 2)\n",
    "from functools import reduce \n",
    "\n",
    "l = [6, 8, 22, 4, 12]\n",
    "doubled = map(lambda x: x*2, l)\n",
    "print(f\"Doubled: {doubled}\")\n",
    "filtered = filter(lambda x: x > 10, l)\n",
    "print(f\"Filtered: {filtered}\")\n",
    "sum = reduce(lambda x, y: x+y, l)\n",
    "print(f\"Sum value: {sum}\")"
   ]
  },
  {
   "cell_type": "markdown",
   "metadata": {},
   "source": []
  },
  {
   "cell_type": "markdown",
   "metadata": {},
   "source": [
    "Python3から、filter,reduce,map関数は、generatorというのを生成するようになり、値を直接表示できません、いったん評価する必要があります。例えばlist()関数に入れれば中身をリストとして評価できます。"
   ]
  },
  {
   "cell_type": "code",
   "execution_count": 27,
   "metadata": {},
   "outputs": [
    {
     "name": "stdout",
     "output_type": "stream",
     "text": [
      "Doubled: [12, 16, 44, 8, 24]\n",
      "Filtered: [22, 12]\n"
     ]
    }
   ],
   "source": [
    "print(f\"Doubled: {list(doubled)}\")\n",
    "print(f\"Filtered: {list(filtered)}\")"
   ]
  },
  {
   "cell_type": "markdown",
   "metadata": {},
   "source": [
    "map関数はかっこいいけども面倒ですね、リストの場合は内包表記というやりかたもあり、こちらのほうが理解しやすいかもしれません。"
   ]
  },
  {
   "cell_type": "code",
   "execution_count": 28,
   "metadata": {},
   "outputs": [
    {
     "name": "stdout",
     "output_type": "stream",
     "text": [
      "Squared values between 5 and 10: [36, 64]\n"
     ]
    }
   ],
   "source": [
    "l = [6, 8, 22, 4, 12]\n",
    "newList = [x**2 for x in l if x >= 5 and x <= 10]\n",
    "print(f\"Squared values between 5 and 10: {newList}\")"
   ]
  },
  {
   "cell_type": "markdown",
   "metadata": {},
   "source": [
    "特定のインデクス（複数）を抽出する、しかもこれを繰り返すならばsliceを使って、選択するインデクスを定義することもできます。"
   ]
  },
  {
   "cell_type": "code",
   "execution_count": 29,
   "metadata": {},
   "outputs": [
    {
     "name": "stdout",
     "output_type": "stream",
     "text": [
      "List: [0, 1, 2, 3, 4, 5, 6, 7, 8, 9]\n",
      "Sliced list: [2, 4, 6]\n"
     ]
    }
   ],
   "source": [
    "l = list(range(10))\n",
    "print(f\"List: {l}\")\n",
    "\n",
    "slice_indexes = slice(2,8,2)\n",
    "print(f\"Sliced list: {l[slice_indexes]}\")"
   ]
  },
  {
   "cell_type": "markdown",
   "metadata": {},
   "source": [
    "### **制御文**\n",
    "\n",
    "制御文を使うことで，より複雑なコードを実装することができます．\n",
    "\n",
    "下記に代表的な制御文である`if`文，`for`文を説明します．"
   ]
  },
  {
   "cell_type": "markdown",
   "metadata": {},
   "source": [
    "#### **条件文（if）**\n",
    "\n",
    "if文を使うことで，条件分岐のプロセスを実装することができます．if文の中身はインデントを1つ下げることを忘れないようにしましょう．"
   ]
  },
  {
   "cell_type": "code",
   "execution_count": 30,
   "metadata": {},
   "outputs": [
    {
     "name": "stdout",
     "output_type": "stream",
     "text": [
      "a is greater than 1\n"
     ]
    }
   ],
   "source": [
    "a = 2  \n",
    "if a > 1:  \n",
    "    print('a is greater than 1')\n",
    "elif a == 1:  \n",
    "    print('a is equal to 1')\n",
    "else:  \n",
    "    print('a is less than 1')"
   ]
  },
  {
   "cell_type": "markdown",
   "metadata": {},
   "source": [
    "if文を使って値の売分けを１行で書くこともできます"
   ]
  },
  {
   "cell_type": "code",
   "execution_count": 31,
   "metadata": {},
   "outputs": [
    {
     "name": "stdout",
     "output_type": "stream",
     "text": [
      "a is greater than 1\n"
     ]
    }
   ],
   "source": [
    "# Inline if statement\n",
    "a = 2\n",
    "print('a is greater than 1' if a > 1 else 'a is lower or equal to 2')"
   ]
  },
  {
   "cell_type": "markdown",
   "metadata": {},
   "source": [
    "#### **繰り返し文（for, while）**\n",
    "\n",
    "同じ処理を繰り返したい場合は，`for`文もしくは`while`文が使用されます．\n",
    "forもしくはwhile文内のインデントは下げるように気をつけましょう．"
   ]
  },
  {
   "cell_type": "code",
   "execution_count": 32,
   "metadata": {},
   "outputs": [
    {
     "name": "stdout",
     "output_type": "stream",
     "text": [
      "4\n",
      "5\n"
     ]
    }
   ],
   "source": [
    "for i in range(4, 6):\n",
    "    print(i)"
   ]
  },
  {
   "cell_type": "markdown",
   "metadata": {},
   "source": [
    "for文はリスト，文字列，辞書など様々なデータ型に適用することが可能です．"
   ]
  },
  {
   "cell_type": "code",
   "execution_count": 33,
   "metadata": {},
   "outputs": [
    {
     "name": "stdout",
     "output_type": "stream",
     "text": [
      "Ann\n",
      "Bob\n",
      "Charles\n"
     ]
    }
   ],
   "source": [
    "people_list = ['Ann', 'Bob', 'Charles']  \n",
    "for person in people_list:\n",
    "    print(person)"
   ]
  },
  {
   "cell_type": "markdown",
   "metadata": {},
   "source": [
    "while文もC言語などと同様に条件がTrueのときに，ブロック内の処理を繰り返します．"
   ]
  },
  {
   "cell_type": "code",
   "execution_count": 34,
   "metadata": {},
   "outputs": [
    {
     "name": "stdout",
     "output_type": "stream",
     "text": [
      "1\n",
      "2\n",
      "3\n"
     ]
    }
   ],
   "source": [
    "i = 1\n",
    "while i <= 3:\n",
    "  print(i)\n",
    "  i = i + 1"
   ]
  },
  {
   "cell_type": "markdown",
   "metadata": {},
   "source": [
    "## 関数\n",
    "関数はある一連の処理に名前を付けて自由に呼び出せるようにしたものであり，関数を利用することでコード全体が読みやすくなります．\n",
    "\n",
    "また，頻出する処理を関数で定義しておけば，毎回イチから同じ処理内容のコードを書く必要がないため，効率よく実装を行うことができます．\n",
    "\n",
    "関数は以下の形式で定義します．\n",
    "\n",
    "```Python\n",
    "def 関数名(引数1, 引数2,...):\n",
    "    関数本体の処理\n",
    "    ...\n",
    "    return 返り値\n",
    "```\n",
    "\n",
    "\n",
    "*   `def 関数名`と`関数本体の処理`のインデントは1つずらす（＝インデントによって，定義した関数の内容がどこまでなのかを表す）．\n",
    "*   引数が0個の場合は`関数名()`のように定義します．\n",
    "*   返り値が必要ない場合は，`return`とだけ記述します．その場合は`None`という特殊な値が返ります．\n",
    "*   関数内部で定義された変数は，その関数内部だけで使えるローカル変数になります（関数外部から参照することはできない）"
   ]
  },
  {
   "cell_type": "code",
   "execution_count": 35,
   "metadata": {},
   "outputs": [
    {
     "name": "stdout",
     "output_type": "stream",
     "text": [
      "Hello my friend Janez!\n"
     ]
    }
   ],
   "source": [
    "def greetMe(name):\n",
    "  print(f\"Hello my friend {name}!\")\n",
    "  \n",
    "greetMe(\"Janez\")"
   ]
  },
  {
   "cell_type": "markdown",
   "metadata": {},
   "source": [
    "#### **デフォルト引数**\n",
    "\n",
    "事前にあらかたの引数の値が決まっている場合などは，引数にデフォルト値を指定することもできます．"
   ]
  },
  {
   "cell_type": "code",
   "execution_count": 36,
   "metadata": {},
   "outputs": [
    {
     "name": "stdout",
     "output_type": "stream",
     "text": [
      "12.56\n",
      "314.0\n"
     ]
    }
   ],
   "source": [
    "# radiusのデフォルト値を2で指定\n",
    "def calc_area(radius=2):\n",
    "  pi = 3.14\n",
    "  area = pi * radius ** 2\n",
    "  return area\n",
    "\n",
    "# 引数無し（デフォルト値）で関数を呼び出してみる\n",
    "area = calc_area()\n",
    "print(area)\n",
    "\n",
    "# もちろん引数ありで関数を呼び出すことも可能\n",
    "area = calc_area(10)\n",
    "print(area)"
   ]
  },
  {
   "cell_type": "markdown",
   "metadata": {},
   "source": [
    "複数の引数を取ることができ、引数は、オプション引数、デフォルト値付きをもうけることもできる"
   ]
  },
  {
   "cell_type": "code",
   "execution_count": 37,
   "metadata": {},
   "outputs": [
    {
     "name": "stdout",
     "output_type": "stream",
     "text": [
      "Hello Mr. Janez!\n",
      "Hello Mrs. Mojca!\n",
      "Hello Mrs. Mojca!\n"
     ]
    }
   ],
   "source": [
    "def greet(name, title = \"Mr.\"):\n",
    "  print(f\"Hello {title} {name}!\")\n",
    "  \n",
    "greet(\"Janez\")\n",
    "greet(\"Mojca\", \"Mrs.\")\n",
    "greet(\"Mojca\", title = \"Mrs.\")"
   ]
  },
  {
   "cell_type": "markdown",
   "metadata": {},
   "source": [
    "再帰呼び出しもできます"
   ]
  },
  {
   "cell_type": "code",
   "execution_count": 38,
   "metadata": {},
   "outputs": [
    {
     "name": "stdout",
     "output_type": "stream",
     "text": [
      "Sum of all positive integers up to 50 is: 1275\n"
     ]
    }
   ],
   "source": [
    "def sumUpTo(value):\n",
    "  if value > 0:\n",
    "    return value + sumUpTo(value-1)\n",
    "  else: \n",
    "    return 0\n",
    "print(f\"Sum of all positive integers up to 50 is: {sumUpTo(50)}\")"
   ]
  },
  {
   "cell_type": "markdown",
   "metadata": {},
   "source": [
    "関数は、Tuppleを使って複数値をかえすことができる"
   ]
  },
  {
   "cell_type": "code",
   "execution_count": 39,
   "metadata": {},
   "outputs": [
    {
     "name": "stdout",
     "output_type": "stream",
     "text": [
      "Janez:\n",
      "\tBMI: 23.334120982986768\n",
      "\tBMR: 1791.3070000000002\n",
      "\tIBW: 78.756\n",
      "Mojca:\n",
      "\tBMI: 20.830703194041156\n",
      "\tBMR: 1457.7890000000002\n",
      "\tIBW: 68.79599999999999\n"
     ]
    }
   ],
   "source": [
    "def calculateHealth(height_cm, weight_kg, age, gender = 'male'):\n",
    "  # Body mass index\n",
    "  bmi = weight_kg/(height_cm/100)**2\n",
    "  # Basal metabolic rate (Revised Harris-Benedict Equation)\n",
    "  bmr = 0\n",
    "  # Ideal body weight\n",
    "  ibw = 0\n",
    "  if gender == 'male':\n",
    "    bmr = 13.397*weight_kg + 4.799*height_cm - 5.677*age + 88.362\n",
    "    ibw = 50 + (0.91 * (height_cm - 152.4))\n",
    "  else:\n",
    "    bmr = 9.247*weight_kg + 3.098*height_cm - 4.330*age + 447.593\n",
    "    ibw = 45.5 + (0.91 * (height_cm - 152.4))\n",
    "  return (bmi, bmr, ibw)\n",
    "\n",
    "janez_health = calculateHealth(184, 79, 42)\n",
    "(bmi, bmr, ibw) = calculateHealth(178, 66, 35, 'female')\n",
    "\n",
    "print(f\"Janez:\\n\\tBMI: {janez_health[0]}\\n\\tBMR: {janez_health[1]}\\n\\tIBW: {janez_health[2]}\")\n",
    "print(f\"Mojca:\\n\\tBMI: {bmi}\\n\\tBMR: {bmr}\\n\\tIBW: {ibw}\")"
   ]
  },
  {
   "cell_type": "markdown",
   "metadata": {},
   "source": [
    "関数内で定義した変数は、外からは見えない、外から見えるにはglobal変数にする"
   ]
  },
  {
   "cell_type": "code",
   "execution_count": 40,
   "metadata": {},
   "outputs": [
    {
     "name": "stdout",
     "output_type": "stream",
     "text": [
      "Before function: 5 and [3, 6, 9]\n",
      "Within function: 10 and [3, 6, 9, 22] and 3\n",
      "After function: 5 and [3, 6, 9, 22] and 3\n"
     ]
    }
   ],
   "source": [
    "def playWithVariables(value1, list1):\n",
    "  global globVal \n",
    "  globVal = 3\n",
    "  \n",
    "  value1 = 10\n",
    "  list1.append(22)\n",
    "  print(f\"Within function: {value1} and {list1} and {globVal}\")\n",
    "\n",
    "value1 = 5\n",
    "list1 = [3, 6, 9]\n",
    "print(f\"Before function: {value1} and {list1}\")\n",
    "playWithVariables(value1, list1)\n",
    "print(f\"After function: {value1} and {list1} and {globVal}\")"
   ]
  },
  {
   "cell_type": "markdown",
   "metadata": {},
   "source": [
    "可変長引数（*args, **kwargs）\n",
    "\n",
    " unnamed (args) and/or named (kwargs) arguments.\n",
    "\n",
    "- *args: 複数の引数をタプルとして受け取る\n",
    "- **kwargs: 複数のキーワード引数を辞書として受け取る"
   ]
  },
  {
   "cell_type": "code",
   "execution_count": 41,
   "metadata": {},
   "outputs": [
    {
     "name": "stdout",
     "output_type": "stream",
     "text": [
      "Non-named arguments: '(1, 'a', [1, 5, 6])'\n",
      "Named arguments: '{'studentIds': [234, 451, 842], 'maxScore': 100.0}'\n"
     ]
    }
   ],
   "source": [
    "def paramsWriter(*args, **kwargs):\n",
    "  print(f\"Non-named arguments: '{args}'\\nNamed arguments: '{kwargs}'\")\n",
    "\n",
    "paramsWriter(1, \"a\", [1,5,6], studentIds = [234, 451, 842], maxScore = 100.0)"
   ]
  },
  {
   "cell_type": "markdown",
   "metadata": {},
   "source": [
    "####  無名関数(lambda)とmap関数について\n",
    "先ほど、関数は'def'構文で定義する例を紹介しましたが、名前のない関数をlambdaを使ってつくることができます。"
   ]
  },
  {
   "cell_type": "code",
   "execution_count": 47,
   "metadata": {},
   "outputs": [
    {
     "data": {
      "text/plain": [
       "4"
      ]
     },
     "execution_count": 47,
     "metadata": {},
     "output_type": "execute_result"
    }
   ],
   "source": [
    "myfun=lambda x: x*2\n",
    "myfun(2)"
   ]
  },
  {
   "cell_type": "code",
   "execution_count": 48,
   "metadata": {},
   "outputs": [
    {
     "data": {
      "text/plain": [
       "129"
      ]
     },
     "execution_count": 48,
     "metadata": {},
     "output_type": "execute_result"
    }
   ],
   "source": [
    "(lambda x: x+100)(29)"
   ]
  },
  {
   "cell_type": "markdown",
   "metadata": {},
   "source": [
    "'map(関数、引数)'は、引数で与えられるリストや配列のそれぞれの要素に対して関数を適用したリストや配列を返します。\n",
    "\n",
    "返り値はmapオブジェクトなので、リストに戻すにはlist()変換を行います。"
   ]
  },
  {
   "cell_type": "code",
   "execution_count": 49,
   "metadata": {},
   "outputs": [
    {
     "name": "stdout",
     "output_type": "stream",
     "text": [
      "[2, 4, 6, 8]\n"
     ]
    }
   ],
   "source": [
    "# map(関数、引数)\n",
    "a = map(myfun, [1, 2, 3, 4])  # Output [2, 4, 6, 8]\n",
    "print(list(a))"
   ]
  },
  {
   "cell_type": "markdown",
   "metadata": {},
   "source": [
    "lambdaとmapを組み合わせてみます"
   ]
  },
  {
   "cell_type": "code",
   "execution_count": 59,
   "metadata": {},
   "outputs": [
    {
     "data": {
      "text/plain": [
       "[2, 4, 6, 8]"
      ]
     },
     "execution_count": 59,
     "metadata": {},
     "output_type": "execute_result"
    }
   ],
   "source": [
    "a = map((lambda x: x*2),[1, 2, 3, 4])\n",
    "list(a)"
   ]
  },
  {
   "cell_type": "markdown",
   "metadata": {},
   "source": [
    "for文で書くよりも、よっぽど宣言的で、間違いにくいのです"
   ]
  },
  {
   "cell_type": "code",
   "execution_count": 57,
   "metadata": {},
   "outputs": [
    {
     "data": {
      "text/plain": [
       "[2, 4, 6, 8]"
      ]
     },
     "execution_count": 57,
     "metadata": {},
     "output_type": "execute_result"
    }
   ],
   "source": [
    "lst= [1,2,3,4]\n",
    "ret=[]\n",
    "for i in range(len(lst)):\n",
    "    ret.append(lst[i]*2)\n",
    "ret"
   ]
  },
  {
   "cell_type": "markdown",
   "metadata": {},
   "source": [
    "## クラス、\n",
    "オブジェクト指向的な記述もできます"
   ]
  },
  {
   "cell_type": "code",
   "execution_count": 42,
   "metadata": {},
   "outputs": [],
   "source": [
    "class Classroom:\n",
    "  class_counter = 0\n",
    "  \n",
    "  def num_classes():\n",
    "    return Classroom.class_counter\n",
    "  \n",
    "  def __init__(self, name):\n",
    "    Classroom.class_counter += 1\n",
    "    self.name = \"Best of Data Science class \" + name\n",
    "    self.students = []\n",
    "    \n",
    "  def enroll(self, student):\n",
    "    self.students.append(student)\n",
    "    \n",
    "  def __str__(self):\n",
    "    return f\"Class: '{self.name}', students: '{self.students}'\""
   ]
  },
  {
   "cell_type": "code",
   "execution_count": 43,
   "metadata": {},
   "outputs": [
    {
     "name": "stdout",
     "output_type": "stream",
     "text": [
      "Num classes: 2\n",
      "Num classes: 2\n",
      "Class: 'Best of Data Science class old sports', students: '['Slavko Žitnik', 'Erik Štrumbelj', 'Tomaž Curk']'\n"
     ]
    }
   ],
   "source": [
    "class1 = Classroom(\"best of millenials\")\n",
    "class2 = Classroom(\"old sports\")\n",
    "\n",
    "print(f\"Num classes: {Classroom.class_counter}\")\n",
    "print(f\"Num classes: {Classroom.num_classes()}\")\n",
    "\n",
    "class2.enroll(\"Slavko Žitnik\")\n",
    "class2.enroll(\"Erik Štrumbelj\")\n",
    "class2.enroll(\"Tomaž Curk\")\n",
    "\n",
    "print(class2)"
   ]
  },
  {
   "cell_type": "markdown",
   "metadata": {},
   "source": [
    "## ファイル入出力\n",
    "\n",
    "```\n",
    "r - reading only,\n",
    "w - writing to a file (previous content will be deleted),\n",
    "x - creating a new file (function fails of a file already exists),\n",
    "a - appending to a file,\n",
    "t - opening a file in text mode,\n",
    "b - opening a file in binary mode and\n",
    "+ - opening a file for reading and writind (updating).\n",
    "```"
   ]
  },
  {
   "cell_type": "code",
   "execution_count": 44,
   "metadata": {},
   "outputs": [],
   "source": [
    "file = open(\"tmp/ids.txt\",\"w+\")\n",
    "for i in range(10):\n",
    "     file.write(f\"This is line {i}.\\r\\n\")\n",
    "file.close()"
   ]
  },
  {
   "cell_type": "code",
   "execution_count": 45,
   "metadata": {},
   "outputs": [
    {
     "name": "stdout",
     "output_type": "stream",
     "text": [
      "This is line 0.\n",
      "\n",
      "\n",
      "\n",
      "This is line 1.\n",
      "\n",
      "\n",
      "\n",
      "This is line 2.\n",
      "\n",
      "\n",
      "\n",
      "This is line 3.\n",
      "\n",
      "\n",
      "\n",
      "This is line 4.\n",
      "\n",
      "\n",
      "\n",
      "This is line 5.\n",
      "\n",
      "\n",
      "\n",
      "This is line 6.\n",
      "\n",
      "\n",
      "\n",
      "This is line 7.\n",
      "\n",
      "\n",
      "\n",
      "This is line 8.\n",
      "\n",
      "\n",
      "\n",
      "This is line 9.\n",
      "\n",
      "\n",
      "\n"
     ]
    }
   ],
   "source": [
    "#Open the file and read the contents\n",
    "file = open(\"tmp/ids.txt\", \"r\")\n",
    "\n",
    "# Reading the whole content into a variable\n",
    "contents = file.read()\n",
    "\n",
    "# Reading file into a list of lines\n",
    "file.seek(0) #Move to the beginning as we already readt the whole file\n",
    "lines = file.readlines() \n",
    "\n",
    "# Reading line by line\n",
    "file.seek(0)\n",
    "for line in file:\n",
    "  print(line)\n",
    "file.close()"
   ]
  },
  {
   "cell_type": "markdown",
   "metadata": {},
   "source": [
    "jsonを読み書きする例"
   ]
  },
  {
   "cell_type": "code",
   "execution_count": 46,
   "metadata": {},
   "outputs": [
    {
     "name": "stdout",
     "output_type": "stream",
     "text": [
      "{'name': 'Janez', 'age': 'Novak', 'marks': [{'OPB': 8, 'IDS': 6, 'WIER': 10}]}\n"
     ]
    }
   ],
   "source": [
    "import json\n",
    "\n",
    "json_obj = {'name': 'Janez', 'age': 'Novak', 'marks': [{'OPB': 8, 'IDS': 6, 'WIER': 10}]}\n",
    "\n",
    "# Write json to a file\n",
    "json.dump(json_obj, open('tmp/json_output.json', 'w'))\n",
    "\n",
    "# Read json to a variable from file\n",
    "janez = json.load(open('tmp/json_output.json', 'r'))\n",
    "print(janez)"
   ]
  },
  {
   "cell_type": "code",
   "execution_count": null,
   "metadata": {},
   "outputs": [],
   "source": []
  }
 ],
 "metadata": {
  "interpreter": {
   "hash": "2db524e06e9f5f4ffedc911c917cb75e12dbc923643829bf417064a77eb14d37"
  },
  "kernelspec": {
   "display_name": "Python 3.8.3 64-bit",
   "language": "python",
   "name": "python3"
  },
  "language_info": {
   "codemirror_mode": {
    "name": "ipython",
    "version": 3
   },
   "file_extension": ".py",
   "mimetype": "text/x-python",
   "name": "python",
   "nbconvert_exporter": "python",
   "pygments_lexer": "ipython3",
   "version": "3.8.3"
  },
  "orig_nbformat": 4
 },
 "nbformat": 4,
 "nbformat_minor": 2
}
