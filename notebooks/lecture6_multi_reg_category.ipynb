{
 "cells": [
  {
   "cell_type": "markdown",
   "metadata": {},
   "source": [
    "# Lecture6 重回帰、statsmodelsにおけるカテゴリー変数の取り扱い\n",
    "\n",
    "「Pythonで学ぶ計量経済学」より\n",
    "\n",
    "https://py4etrics.github.io/13_Dummies.html"
   ]
  },
  {
   "cell_type": "code",
   "execution_count": 2,
   "metadata": {},
   "outputs": [],
   "source": [
    "import numpy as np\n",
    "import pandas as pd\n",
    "from statsmodels.formula.api import ols\n",
    "import wooldridge"
   ]
  },
  {
   "cell_type": "code",
   "execution_count": 3,
   "metadata": {},
   "outputs": [
    {
     "name": "stdout",
     "output_type": "stream",
     "text": [
      "Requirement already satisfied: wooldridge in c:\\python38\\lib\\site-packages (0.4.4)\n",
      "Requirement already satisfied: pandas in c:\\python38\\lib\\site-packages (from wooldridge) (1.4.0)\n",
      "Requirement already satisfied: python-dateutil>=2.8.1 in c:\\python38\\lib\\site-packages (from pandas->wooldridge) (2.8.2)\n",
      "Requirement already satisfied: numpy>=1.18.5 in c:\\python38\\lib\\site-packages (from pandas->wooldridge) (1.22.2)\n",
      "Requirement already satisfied: pytz>=2020.1 in c:\\python38\\lib\\site-packages (from pandas->wooldridge) (2021.3)\n",
      "Requirement already satisfied: six>=1.5 in c:\\python38\\lib\\site-packages (from python-dateutil>=2.8.1->pandas->wooldridge) (1.16.0)\n"
     ]
    }
   ],
   "source": [
    "!pip install wooldridge"
   ]
  },
  {
   "cell_type": "code",
   "execution_count": 4,
   "metadata": {},
   "outputs": [],
   "source": [
    "import wooldridge"
   ]
  },
  {
   "cell_type": "code",
   "execution_count": null,
   "metadata": {},
   "outputs": [],
   "source": []
  },
  {
   "cell_type": "markdown",
   "metadata": {},
   "source": [
    "## ケース１：定数項だけの回帰分析\n",
    "### ダミー変数なし\n",
    "直感的な説明にするために説明変数が定数項だけの回帰分析から始める。 具体的には次の回帰式を考える。\n",
    "\n",
    "$y=\\beta_0 + \\epsilon$\n",
    "\n",
    "実は，この場合のOLS推定量\n",
    "は被説明変数の平均と等しいことになる。この結果を確認するために以下ではwooldridgeパッケージのwage1のデータを使う。"
   ]
  },
  {
   "cell_type": "code",
   "execution_count": 5,
   "metadata": {},
   "outputs": [
    {
     "name": "stdout",
     "output_type": "stream",
     "text": [
      "name of dataset: wage1\n",
      "no of variables: 24\n",
      "no of observations: 526\n",
      "\n",
      "+----------+---------------------------------+\n",
      "| variable | label                           |\n",
      "+----------+---------------------------------+\n",
      "| wage     | average hourly earnings         |\n",
      "| educ     | years of education              |\n",
      "| exper    | years potential experience      |\n",
      "| tenure   | years with current employer     |\n",
      "| nonwhite | =1 if nonwhite                  |\n",
      "| female   | =1 if female                    |\n",
      "| married  | =1 if married                   |\n",
      "| numdep   | number of dependents            |\n",
      "| smsa     | =1 if live in SMSA              |\n",
      "| northcen | =1 if live in north central U.S |\n",
      "| south    | =1 if live in southern region   |\n",
      "| west     | =1 if live in western region    |\n",
      "| construc | =1 if work in construc. indus.  |\n",
      "| ndurman  | =1 if in nondur. manuf. indus.  |\n",
      "| trcommpu | =1 if in trans, commun, pub ut  |\n",
      "| trade    | =1 if in wholesale or retail    |\n",
      "| services | =1 if in services indus.        |\n",
      "| profserv | =1 if in prof. serv. indus.     |\n",
      "| profocc  | =1 if in profess. occupation    |\n",
      "| clerocc  | =1 if in clerical occupation    |\n",
      "| servocc  | =1 if in service occupation     |\n",
      "| lwage    | log(wage)                       |\n",
      "| expersq  | exper^2                         |\n",
      "| tenursq  | tenure^2                        |\n",
      "+----------+---------------------------------+\n",
      "\n",
      "These are data from the 1976 Current Population Survey, collected by\n",
      "Henry Farber when he and I were colleagues at MIT in 1988.\n"
     ]
    }
   ],
   "source": [
    "wage1 = wooldridge.data('wage1')\n",
    "wooldridge.data('wage1',description=True)"
   ]
  },
  {
   "cell_type": "code",
   "execution_count": 6,
   "metadata": {},
   "outputs": [
    {
     "data": {
      "text/plain": [
       "Intercept    5.896103\n",
       "dtype: float64"
      ]
     },
     "execution_count": 6,
     "metadata": {},
     "output_type": "execute_result"
    }
   ],
   "source": [
    "form_const = 'wage ~ 1'  # 定数項だけの場合は１が必要\n",
    "\n",
    "res_const = ols(form_const, data=wage1).fit()\n",
    "res_const.params"
   ]
  },
  {
   "cell_type": "markdown",
   "metadata": {},
   "source": [
    "この$\\beta_0$は、平均と同じ"
   ]
  },
  {
   "cell_type": "code",
   "execution_count": 7,
   "metadata": {},
   "outputs": [
    {
     "data": {
      "text/plain": [
       "5.896102674787035"
      ]
     },
     "execution_count": 7,
     "metadata": {},
     "output_type": "execute_result"
    }
   ],
   "source": [
    "wage1['wage'].mean()"
   ]
  },
  {
   "cell_type": "markdown",
   "metadata": {},
   "source": [
    "## ダミー変数あり：２つのケース\n",
    "同じデータを使って$\\{0,1\\}$の値を取るダミー変数を考える。データセットwage1の中のfemaleという変数があり，以下の値を取る。\n",
    "\n",
    ">女性の場合：female = 1</br>\n",
    ">男性の場合：female = 0\n",
    "\n",
    "値が０のカテゴリーを基本カテゴリーという。\n",
    "\n",
    "$D$をfemaleのダミー変数とすると回帰式は以下のようになる。\n",
    "\n",
    "$$y=\\beta_0+\\beta_1 D $$\n",
    "\n",
    "さらに，この式はの$D=\\{0,1\\}$の値によって以下のように表すことができる。\n",
    "\n",
    "男性：$D=0 \\implies y=\\beta_0 +\\epsilon $\n",
    "\n",
    "女性：$D=1 \\implies y=\\beta_0 +\\beta_1 D+\\epsilon $\n",
    "\n",
    "即ち，OLS推定量は以下を表すことになる。\n",
    "\n",
    "$\\hat{\\beta_0}$：男性の平均賃金\n",
    "\n",
    "$\\hat{\\beta_0}+\\hat{\\beta_1}$：女性の平均賃金\n",
    "\n",
    "この回帰式を使い，時間賃金の男女間の差について考察する"
   ]
  },
  {
   "cell_type": "code",
   "execution_count": 8,
   "metadata": {},
   "outputs": [
    {
     "data": {
      "text/plain": [
       "Intercept    7.099489\n",
       "female      -2.511830\n",
       "dtype: float64"
      ]
     },
     "execution_count": 8,
     "metadata": {},
     "output_type": "execute_result"
    }
   ],
   "source": [
    "form_const_2 = 'wage ~ female'\n",
    "\n",
    "res_const_2 = ols(form_const_2, data=wage1).fit()\n",
    "\n",
    "res_const_2.params"
   ]
  },
  {
   "cell_type": "code",
   "execution_count": 9,
   "metadata": {},
   "outputs": [
    {
     "data": {
      "text/plain": [
       "4.587658740225293"
      ]
     },
     "execution_count": 9,
     "metadata": {},
     "output_type": "execute_result"
    }
   ],
   "source": [
    "res_const_2.params.Intercept + res_const_2.params.female"
   ]
  },
  {
   "cell_type": "markdown",
   "metadata": {},
   "source": [
    "というわけで、女性の時間賃金は約2.51ドル低い"
   ]
  },
  {
   "cell_type": "markdown",
   "metadata": {},
   "source": [
    "## ダミー変数あり：４つのケース\n",
    "データセットwage1にはmarriedという変数が含まれており，以下の値をとる。\n",
    "\n",
    "> 既婚者の場合：married = 1</br>\n",
    "> 未婚者の場合：married = 0\n",
    "\n",
    "femaleと組み合わせることにより，次の４つのケースを分けることができる。\n",
    "\n",
    ">未婚男性：female=0, married=0</br>\n",
    ">未婚女性：female=1, married=0</br>\n",
    ">既婚女性：female=1, married=1</br>\n",
    ">既婚男性：female=0, married=1\n",
    "\n",
    "この４つのケースを捉えるために、femaleとmarriedの値によって0もしくは1の値になるダミー変数を作成するが，２つのステップに分けて説明する。\n",
    "\n",
    "### カテゴリ変数を無視して回帰を行った場合"
   ]
  },
  {
   "cell_type": "code",
   "execution_count": 10,
   "metadata": {},
   "outputs": [
    {
     "data": {
      "text/html": [
       "<table class=\"simpletable\">\n",
       "<caption>OLS Regression Results</caption>\n",
       "<tr>\n",
       "  <th>Dep. Variable:</th>          <td>wage</td>       <th>  R-squared:         </th> <td>   0.146</td>\n",
       "</tr>\n",
       "<tr>\n",
       "  <th>Model:</th>                   <td>OLS</td>       <th>  Adj. R-squared:    </th> <td>   0.143</td>\n",
       "</tr>\n",
       "<tr>\n",
       "  <th>Method:</th>             <td>Least Squares</td>  <th>  F-statistic:       </th> <td>   44.78</td>\n",
       "</tr>\n",
       "<tr>\n",
       "  <th>Date:</th>             <td>Sat, 23 Apr 2022</td> <th>  Prob (F-statistic):</th> <td>1.12e-18</td>\n",
       "</tr>\n",
       "<tr>\n",
       "  <th>Time:</th>                 <td>10:25:35</td>     <th>  Log-Likelihood:    </th> <td> -1391.5</td>\n",
       "</tr>\n",
       "<tr>\n",
       "  <th>No. Observations:</th>      <td>   526</td>      <th>  AIC:               </th> <td>   2789.</td>\n",
       "</tr>\n",
       "<tr>\n",
       "  <th>Df Residuals:</th>          <td>   523</td>      <th>  BIC:               </th> <td>   2802.</td>\n",
       "</tr>\n",
       "<tr>\n",
       "  <th>Df Model:</th>              <td>     2</td>      <th>                     </th>     <td> </td>   \n",
       "</tr>\n",
       "<tr>\n",
       "  <th>Covariance Type:</th>      <td>nonrobust</td>    <th>                     </th>     <td> </td>   \n",
       "</tr>\n",
       "</table>\n",
       "<table class=\"simpletable\">\n",
       "<tr>\n",
       "      <td></td>         <th>coef</th>     <th>std err</th>      <th>t</th>      <th>P>|t|</th>  <th>[0.025</th>    <th>0.975]</th>  \n",
       "</tr>\n",
       "<tr>\n",
       "  <th>Intercept</th> <td>    6.1804</td> <td>    0.296</td> <td>   20.856</td> <td> 0.000</td> <td>    5.598</td> <td>    6.763</td>\n",
       "</tr>\n",
       "<tr>\n",
       "  <th>female</th>    <td>   -2.2944</td> <td>    0.303</td> <td>   -7.582</td> <td> 0.000</td> <td>   -2.889</td> <td>   -1.700</td>\n",
       "</tr>\n",
       "<tr>\n",
       "  <th>married</th>   <td>    1.3395</td> <td>    0.310</td> <td>    4.325</td> <td> 0.000</td> <td>    0.731</td> <td>    1.948</td>\n",
       "</tr>\n",
       "</table>\n",
       "<table class=\"simpletable\">\n",
       "<tr>\n",
       "  <th>Omnibus:</th>       <td>229.596</td> <th>  Durbin-Watson:     </th> <td>   1.782</td> \n",
       "</tr>\n",
       "<tr>\n",
       "  <th>Prob(Omnibus):</th> <td> 0.000</td>  <th>  Jarque-Bera (JB):  </th> <td> 987.027</td> \n",
       "</tr>\n",
       "<tr>\n",
       "  <th>Skew:</th>          <td> 1.975</td>  <th>  Prob(JB):          </th> <td>4.67e-215</td>\n",
       "</tr>\n",
       "<tr>\n",
       "  <th>Kurtosis:</th>      <td> 8.425</td>  <th>  Cond. No.          </th> <td>    3.73</td> \n",
       "</tr>\n",
       "</table><br/><br/>Notes:<br/>[1] Standard Errors assume that the covariance matrix of the errors is correctly specified."
      ],
      "text/plain": [
       "<class 'statsmodels.iolib.summary.Summary'>\n",
       "\"\"\"\n",
       "                            OLS Regression Results                            \n",
       "==============================================================================\n",
       "Dep. Variable:                   wage   R-squared:                       0.146\n",
       "Model:                            OLS   Adj. R-squared:                  0.143\n",
       "Method:                 Least Squares   F-statistic:                     44.78\n",
       "Date:                Sat, 23 Apr 2022   Prob (F-statistic):           1.12e-18\n",
       "Time:                        10:25:35   Log-Likelihood:                -1391.5\n",
       "No. Observations:                 526   AIC:                             2789.\n",
       "Df Residuals:                     523   BIC:                             2802.\n",
       "Df Model:                           2                                         \n",
       "Covariance Type:            nonrobust                                         \n",
       "==============================================================================\n",
       "                 coef    std err          t      P>|t|      [0.025      0.975]\n",
       "------------------------------------------------------------------------------\n",
       "Intercept      6.1804      0.296     20.856      0.000       5.598       6.763\n",
       "female        -2.2944      0.303     -7.582      0.000      -2.889      -1.700\n",
       "married        1.3395      0.310      4.325      0.000       0.731       1.948\n",
       "==============================================================================\n",
       "Omnibus:                      229.596   Durbin-Watson:                   1.782\n",
       "Prob(Omnibus):                  0.000   Jarque-Bera (JB):              987.027\n",
       "Skew:                           1.975   Prob(JB):                    4.67e-215\n",
       "Kurtosis:                       8.425   Cond. No.                         3.73\n",
       "==============================================================================\n",
       "\n",
       "Notes:\n",
       "[1] Standard Errors assume that the covariance matrix of the errors is correctly specified.\n",
       "\"\"\""
      ]
     },
     "execution_count": 10,
     "metadata": {},
     "output_type": "execute_result"
    }
   ],
   "source": [
    "form_const_3 = 'wage ~ female+married'\n",
    "\n",
    "res_const_3 = ols(form_const_3, data=wage1).fit()\n",
    "\n",
    "res_const_3.summary()"
   ]
  },
  {
   "cell_type": "code",
   "execution_count": 11,
   "metadata": {},
   "outputs": [
    {
     "name": "stdout",
     "output_type": "stream",
     "text": [
      "singmale: 6.180429110566367\n",
      "marmale: 7.51991011113031\n",
      "singfem: 3.8860258351679904\n",
      "marfem: 5.225506835731934\n"
     ]
    }
   ],
   "source": [
    "print(\"singmale:\",res_const_3.params.Intercept)\n",
    "print(\"marmale:\",res_const_3.params.Intercept+res_const_3.params.married)\n",
    "print(\"singfem:\",res_const_3.params.Intercept+res_const_3.params.female)\n",
    "print(\"marfem:\",res_const_3.params.Intercept+res_const_3.params.female+res_const_3.params.married)"
   ]
  },
  {
   "cell_type": "code",
   "execution_count": 12,
   "metadata": {},
   "outputs": [
    {
     "data": {
      "text/plain": [
       "5.168023282705351"
      ]
     },
     "execution_count": 12,
     "metadata": {},
     "output_type": "execute_result"
    }
   ],
   "source": [
    "#答え合わせ独身男性の賃金平均\n",
    "wage1.query('female==0 & married==0')['wage'].mean()"
   ]
  },
  {
   "cell_type": "markdown",
   "metadata": {},
   "source": [
    "単純に重回帰しただけだと、答え合わせと合わない。\n",
    "\n",
    "そこで、カテゴリー変数を導入する"
   ]
  },
  {
   "cell_type": "markdown",
   "metadata": {},
   "source": [
    "$y= \\beta_0+\\beta_1 D_1 + \\beta_2 D_2 + \\beta_3 D_3$\n",
    "\n",
    "- 基本カテゴリー：singmale \n",
    "- $D_1$=marmale  \n",
    "- $D_2$=singfem\n",
    "- $D_3$=marfem"
   ]
  },
  {
   "cell_type": "markdown",
   "metadata": {},
   "source": [
    "$D_1=\\{0,1\\},D_2=\\{0,1\\},D_3=\\{0,1\\}$の取る値を考慮すると，以下の４つのパターンに分けることができる。\n",
    "\n",
    "\n",
    "$D_1=0 \\& D_2=0 \\& D_3=0 \\implies y=\\beta_0+\\epsilon$\n",
    "\n",
    "$D_1=1 \\& D_2=0 \\& D_3=0 \\implies y=\\beta_0+\\beta_1 +\\epsilon$\n",
    "\n",
    "$D_1=0 \\& D_2=1 \\& D_3=0 \\implies y=\\beta_0+\\beta_2+\\epsilon$\n",
    "\n",
    "$D_1=0 \\& D_2=0 \\& D_3=1 \\implies y=\\beta_0+\\beta_3+\\epsilon$\n",
    " \n",
    "\n",
    "即ち，OLS推定量は以下を表すことになる。\n",
    "\n",
    "$\\hat{\\beta_0}$：未婚男性の平均賃金\n",
    "\n",
    "$\\hat{\\beta_0}+\\hat{\\beta_1}$：既婚男性の平均賃金\n",
    "\n",
    "$\\hat{\\beta_0}+\\hat{\\beta_2}$：未婚女性の平均賃金\n",
    "\n",
    "$\\hat{\\beta_0}+\\hat{\\beta_3}$：既婚女性の平均賃金"
   ]
  },
  {
   "cell_type": "code",
   "execution_count": null,
   "metadata": {},
   "outputs": [],
   "source": []
  },
  {
   "cell_type": "code",
   "execution_count": 13,
   "metadata": {},
   "outputs": [],
   "source": [
    "# 以下では row をDataFrameの行と考える。\n",
    "\n",
    "# 未婚男性の関数\n",
    "def singmale(row):\n",
    "    if row['female'] == 0 and row['married'] == 0:\n",
    "        return 1\n",
    "    else:\n",
    "        return 0\n",
    "\n",
    "# 既婚男性の関数\n",
    "def marmale(row):\n",
    "    if row['female'] == 0 and row['married'] == 1:\n",
    "        return 1\n",
    "    else:\n",
    "        return 0\n",
    "\n",
    "# 未婚女性の関数\n",
    "def singfem(row):\n",
    "    if row['female'] == 1 and row['married'] == 0:\n",
    "        return 1\n",
    "    else:\n",
    "        return 0\n",
    "\n",
    "# 既婚女性の関数\n",
    "def marfem(row):\n",
    "    if row['female'] == 1 and row['married'] == 1:\n",
    "        return 1\n",
    "    else:\n",
    "        return 0"
   ]
  },
  {
   "cell_type": "code",
   "execution_count": 14,
   "metadata": {},
   "outputs": [
    {
     "data": {
      "text/html": [
       "<div>\n",
       "<style scoped>\n",
       "    .dataframe tbody tr th:only-of-type {\n",
       "        vertical-align: middle;\n",
       "    }\n",
       "\n",
       "    .dataframe tbody tr th {\n",
       "        vertical-align: top;\n",
       "    }\n",
       "\n",
       "    .dataframe thead th {\n",
       "        text-align: right;\n",
       "    }\n",
       "</style>\n",
       "<table border=\"1\" class=\"dataframe\">\n",
       "  <thead>\n",
       "    <tr style=\"text-align: right;\">\n",
       "      <th></th>\n",
       "      <th>wage</th>\n",
       "      <th>educ</th>\n",
       "      <th>exper</th>\n",
       "      <th>tenure</th>\n",
       "      <th>nonwhite</th>\n",
       "      <th>female</th>\n",
       "      <th>married</th>\n",
       "      <th>numdep</th>\n",
       "      <th>smsa</th>\n",
       "      <th>northcen</th>\n",
       "      <th>...</th>\n",
       "      <th>profocc</th>\n",
       "      <th>clerocc</th>\n",
       "      <th>servocc</th>\n",
       "      <th>lwage</th>\n",
       "      <th>expersq</th>\n",
       "      <th>tenursq</th>\n",
       "      <th>singmale</th>\n",
       "      <th>marmale</th>\n",
       "      <th>singfem</th>\n",
       "      <th>marfem</th>\n",
       "    </tr>\n",
       "  </thead>\n",
       "  <tbody>\n",
       "    <tr>\n",
       "      <th>0</th>\n",
       "      <td>3.10</td>\n",
       "      <td>11</td>\n",
       "      <td>2</td>\n",
       "      <td>0</td>\n",
       "      <td>0</td>\n",
       "      <td>1</td>\n",
       "      <td>0</td>\n",
       "      <td>2</td>\n",
       "      <td>1</td>\n",
       "      <td>0</td>\n",
       "      <td>...</td>\n",
       "      <td>0</td>\n",
       "      <td>0</td>\n",
       "      <td>0</td>\n",
       "      <td>1.131402</td>\n",
       "      <td>4</td>\n",
       "      <td>0</td>\n",
       "      <td>0</td>\n",
       "      <td>0</td>\n",
       "      <td>1</td>\n",
       "      <td>0</td>\n",
       "    </tr>\n",
       "    <tr>\n",
       "      <th>1</th>\n",
       "      <td>3.24</td>\n",
       "      <td>12</td>\n",
       "      <td>22</td>\n",
       "      <td>2</td>\n",
       "      <td>0</td>\n",
       "      <td>1</td>\n",
       "      <td>1</td>\n",
       "      <td>3</td>\n",
       "      <td>1</td>\n",
       "      <td>0</td>\n",
       "      <td>...</td>\n",
       "      <td>0</td>\n",
       "      <td>0</td>\n",
       "      <td>1</td>\n",
       "      <td>1.175573</td>\n",
       "      <td>484</td>\n",
       "      <td>4</td>\n",
       "      <td>0</td>\n",
       "      <td>0</td>\n",
       "      <td>0</td>\n",
       "      <td>1</td>\n",
       "    </tr>\n",
       "    <tr>\n",
       "      <th>2</th>\n",
       "      <td>3.00</td>\n",
       "      <td>11</td>\n",
       "      <td>2</td>\n",
       "      <td>0</td>\n",
       "      <td>0</td>\n",
       "      <td>0</td>\n",
       "      <td>0</td>\n",
       "      <td>2</td>\n",
       "      <td>0</td>\n",
       "      <td>0</td>\n",
       "      <td>...</td>\n",
       "      <td>0</td>\n",
       "      <td>0</td>\n",
       "      <td>0</td>\n",
       "      <td>1.098612</td>\n",
       "      <td>4</td>\n",
       "      <td>0</td>\n",
       "      <td>1</td>\n",
       "      <td>0</td>\n",
       "      <td>0</td>\n",
       "      <td>0</td>\n",
       "    </tr>\n",
       "  </tbody>\n",
       "</table>\n",
       "<p>3 rows × 28 columns</p>\n",
       "</div>"
      ],
      "text/plain": [
       "   wage  educ  exper  tenure  nonwhite  female  married  numdep  smsa  \\\n",
       "0  3.10    11      2       0         0       1        0       2     1   \n",
       "1  3.24    12     22       2         0       1        1       3     1   \n",
       "2  3.00    11      2       0         0       0        0       2     0   \n",
       "\n",
       "   northcen  ...  profocc  clerocc  servocc     lwage  expersq  tenursq  \\\n",
       "0         0  ...        0        0        0  1.131402        4        0   \n",
       "1         0  ...        0        0        1  1.175573      484        4   \n",
       "2         0  ...        0        0        0  1.098612        4        0   \n",
       "\n",
       "   singmale  marmale  singfem  marfem  \n",
       "0         0        0        1       0  \n",
       "1         0        0        0       1  \n",
       "2         1        0        0       0  \n",
       "\n",
       "[3 rows x 28 columns]"
      ]
     },
     "execution_count": 14,
     "metadata": {},
     "output_type": "execute_result"
    }
   ],
   "source": [
    "wage1.loc[:,'singmale'] = wage1.apply(singmale, axis=1)  # axis='columns'でもOK\n",
    "wage1.loc[:,'marmale'] = wage1.apply(marmale, axis=1)    # axis='columns'でもOK\n",
    "wage1.loc[:,'singfem'] = wage1.apply(singfem, axis=1)    # axis='columns'でもOK\n",
    "wage1.loc[:,'marfem'] = wage1.apply(marfem, axis=1)      # axis='columns'でもOK\n",
    "\n",
    "wage1.head(3)"
   ]
  },
  {
   "cell_type": "code",
   "execution_count": 15,
   "metadata": {},
   "outputs": [
    {
     "data": {
      "text/plain": [
       "Intercept    5.168023\n",
       "marmale      2.815009\n",
       "singfem     -0.556440\n",
       "marfem      -0.602114\n",
       "dtype: float64"
      ]
     },
     "execution_count": 15,
     "metadata": {},
     "output_type": "execute_result"
    }
   ],
   "source": [
    "form_const_4 = 'wage ~ marmale + singfem + marfem'\n",
    "\n",
    "res_const_4 = ols(form_const_4, data=wage1).fit()\n",
    "\n",
    "res_const_4.params"
   ]
  },
  {
   "cell_type": "code",
   "execution_count": 16,
   "metadata": {},
   "outputs": [
    {
     "data": {
      "text/plain": [
       "5.168023282705351"
      ]
     },
     "execution_count": 16,
     "metadata": {},
     "output_type": "execute_result"
    }
   ],
   "source": [
    "#答え合わせ独身男性の賃金平均\n",
    "wage1.query('female==0 & married==0')['wage'].mean()"
   ]
  },
  {
   "cell_type": "code",
   "execution_count": 17,
   "metadata": {},
   "outputs": [
    {
     "data": {
      "text/plain": [
       "7.983031926002909"
      ]
     },
     "execution_count": 17,
     "metadata": {},
     "output_type": "execute_result"
    }
   ],
   "source": [
    "#答え合わせ既婚男性の賃金平均\n",
    "wage1.query('female==0 & married==1')['wage'].mean()"
   ]
  },
  {
   "cell_type": "code",
   "execution_count": 18,
   "metadata": {},
   "outputs": [
    {
     "data": {
      "text/plain": [
       "7.98303192600291"
      ]
     },
     "execution_count": 18,
     "metadata": {},
     "output_type": "execute_result"
    }
   ],
   "source": [
    "res_const_4.params.Intercept+res_const_4.params.marmale"
   ]
  },
  {
   "cell_type": "markdown",
   "metadata": {},
   "source": [
    "## ケース２：定量的変数の導入\n",
    "１つのダミー変数femaleだけが入るケースに次の変数を加えた回帰式を考える。\n",
    "\n",
    "- educ：教育年数\n",
    "- exper：雇用経験年数\n",
    "- tenure：勤続年数"
   ]
  },
  {
   "cell_type": "code",
   "execution_count": 19,
   "metadata": {},
   "outputs": [
    {
     "data": {
      "text/plain": [
       "Intercept   -1.567939\n",
       "female      -1.810852\n",
       "educ         0.571505\n",
       "exper        0.025396\n",
       "tenure       0.141005\n",
       "dtype: float64"
      ]
     },
     "execution_count": 19,
     "metadata": {},
     "output_type": "execute_result"
    }
   ],
   "source": [
    "form_1 = 'wage ~ female + educ + exper+ tenure'\n",
    "\n",
    "res_1 = ols(form_1, data=wage1).fit()\n",
    "\n",
    "res_1.params"
   ]
  },
  {
   "cell_type": "markdown",
   "metadata": {},
   "source": [
    "賃金格差は約-1.81に減少した。これはeduc, exper, tenureの影響を取り除いた結果である。言い換えると，教育，経験，就労期間を所与とすると（それらの変数が同じである場合という意味），女性の時間賃金は約1.8ドル低い。"
   ]
  },
  {
   "cell_type": "markdown",
   "metadata": {},
   "source": [
    "## ケース３：ダミー変数の交差項\n",
    "ケース１と２の被説明変数はwageをそのまま使ったが，ここでは対数を取り賃金方程式にダミー変数の交差項を入れて考察する。\n",
    "\n",
    "以下の回帰式を考える。\n",
    "\n",
    "$$y=\\beta_0+\\beta_1 D+ \\beta_2 Dx + \\beta_3 x +\\epsilon $$\n",
    "\n",
    "\n",
    "ここで$D$がダミー変数，$x$は定量的変数であり，$Dx$がダミー変数の交差項である。ダミー変数が取る値$D=\\{0,1\\}$に分けて考えると，以\n",
    "下を推定することになる。\n",
    "\n",
    "$D=0 \\implies y=\\beta_0+\\beta_3x+\\epsilon$\n",
    "\n",
    "$D=1 \\implies y=(\\beta_0+\\beta_1)+(\\beta_2+\\beta_3)x+\\epsilon$\n",
    "\n",
    "具体例として $D$=female，$x$=educとするとOLS推定量は以下を表すことになる。\n",
    "\n",
    "$\\hat{\\beta_0}$：（教育の効果を取り除いた）男性の平均賃金（対数）\n",
    "\n",
    "$\\hat{\\beta_3}$：男性の賃金に対する教育の効果（％）\n",
    "\n",
    "$\\hat{\\beta_0}+\\hat{\\beta_1}$：（教育の効果を取り除いた）女性の平均賃金（対数）\n",
    "\n",
    "$\\hat{\\beta_2}+\\hat{\\beta_3}$：女性の賃金に対する教育の効果（％）\n"
   ]
  },
  {
   "cell_type": "code",
   "execution_count": 20,
   "metadata": {},
   "outputs": [
    {
     "data": {
      "text/html": [
       "<table class=\"simpletable\">\n",
       "<tr>\n",
       "       <td></td>          <th>coef</th>     <th>std err</th>      <th>t</th>      <th>P>|t|</th>  <th>[0.025</th>    <th>0.975]</th>  \n",
       "</tr>\n",
       "<tr>\n",
       "  <th>Intercept</th>   <td>    0.4647</td> <td>    0.123</td> <td>    3.781</td> <td> 0.000</td> <td>    0.223</td> <td>    0.706</td>\n",
       "</tr>\n",
       "<tr>\n",
       "  <th>female</th>      <td>   -0.2104</td> <td>    0.174</td> <td>   -1.209</td> <td> 0.227</td> <td>   -0.552</td> <td>    0.131</td>\n",
       "</tr>\n",
       "<tr>\n",
       "  <th>female:educ</th> <td>   -0.0072</td> <td>    0.014</td> <td>   -0.534</td> <td> 0.593</td> <td>   -0.034</td> <td>    0.019</td>\n",
       "</tr>\n",
       "<tr>\n",
       "  <th>educ</th>        <td>    0.0903</td> <td>    0.009</td> <td>   10.359</td> <td> 0.000</td> <td>    0.073</td> <td>    0.107</td>\n",
       "</tr>\n",
       "<tr>\n",
       "  <th>exper</th>       <td>    0.0046</td> <td>    0.002</td> <td>    2.850</td> <td> 0.005</td> <td>    0.001</td> <td>    0.008</td>\n",
       "</tr>\n",
       "<tr>\n",
       "  <th>tenure</th>      <td>    0.0174</td> <td>    0.003</td> <td>    5.849</td> <td> 0.000</td> <td>    0.012</td> <td>    0.023</td>\n",
       "</tr>\n",
       "</table>"
      ],
      "text/plain": [
       "<class 'statsmodels.iolib.table.SimpleTable'>"
      ]
     },
     "execution_count": 20,
     "metadata": {},
     "output_type": "execute_result"
    }
   ],
   "source": [
    "form_2 = 'np.log(wage) ~ female + female:educ + educ + exper + tenure'\n",
    "\n",
    "res_2 = ols(form_2, data=wage1).fit()\n",
    "res_2.summary().tables[1]"
   ]
  },
  {
   "cell_type": "markdown",
   "metadata": {},
   "source": [
    "### t検定\n",
    "- female\n",
    "  - 教育などの影響を省いた後の平均賃金の差\n",
    "  - 5%有意水準で$H_0$female=0は棄却できない。\n",
    "- female:educ\n",
    "  - 教育などの影響を省いた後の教育の収益率の差\n",
    "  - 5%有意水準で$H_0$female:educ=0は棄却できない。"
   ]
  },
  {
   "cell_type": "markdown",
   "metadata": {},
   "source": [
    "### F検定\n",
    "$H_0$:female=female:educ=0の制約を考えよう"
   ]
  },
  {
   "cell_type": "code",
   "execution_count": 21,
   "metadata": {},
   "outputs": [
    {
     "data": {
      "text/plain": [
       "3.894554691524031e-14"
      ]
     },
     "execution_count": 21,
     "metadata": {},
     "output_type": "execute_result"
    }
   ],
   "source": [
    "hypotheses = 'female=0, female:educ=0'\n",
    "\n",
    "res_2.f_test(hypotheses).pvalue"
   ]
  },
  {
   "cell_type": "markdown",
   "metadata": {},
   "source": [
    "$H_0$は棄却される。"
   ]
  },
  {
   "cell_type": "markdown",
   "metadata": {},
   "source": [
    "t検定では，femaleとfemale:educはそれぞれの帰無仮説が棄却されなかったが，F検定では制約が棄却された。一貫性がなく説明変数が不足している可能性がある。"
   ]
  },
  {
   "cell_type": "markdown",
   "metadata": {},
   "source": [
    "# カテゴリー変数\n",
    "カテゴリー変数とは定性的な変数であり，男女もカテゴリー変数の一種である。カテゴリー変数をダミー変数に変換するには2つの方法がある。\n",
    "\n",
    "statsmodelsにはカテゴリー変数に自動的にダミー変数を割り当てる機能がある。操作は簡単で，単に回帰式の中でC()の中にカテゴリー変数を入れるだけである。"
   ]
  },
  {
   "cell_type": "code",
   "execution_count": 22,
   "metadata": {},
   "outputs": [],
   "source": [
    "df = wage1.loc[:,['wage', 'female', 'educ']]"
   ]
  },
  {
   "cell_type": "markdown",
   "metadata": {},
   "source": [
    "dfのメソッドreplace()を使ってfemaleの列の値を以下のルールに沿って変換し，それをdfにsexという列として入れ直す。\n",
    "\n",
    "- $1 \\implies$  female\n",
    "- $0 \\implies$ male"
   ]
  },
  {
   "cell_type": "code",
   "execution_count": 23,
   "metadata": {},
   "outputs": [],
   "source": [
    "df.loc[:,'sex'] = df['female'].replace({1:'female',0:'male'})"
   ]
  },
  {
   "cell_type": "code",
   "execution_count": 24,
   "metadata": {},
   "outputs": [
    {
     "data": {
      "text/html": [
       "<div>\n",
       "<style scoped>\n",
       "    .dataframe tbody tr th:only-of-type {\n",
       "        vertical-align: middle;\n",
       "    }\n",
       "\n",
       "    .dataframe tbody tr th {\n",
       "        vertical-align: top;\n",
       "    }\n",
       "\n",
       "    .dataframe thead th {\n",
       "        text-align: right;\n",
       "    }\n",
       "</style>\n",
       "<table border=\"1\" class=\"dataframe\">\n",
       "  <thead>\n",
       "    <tr style=\"text-align: right;\">\n",
       "      <th></th>\n",
       "      <th>wage</th>\n",
       "      <th>female</th>\n",
       "      <th>educ</th>\n",
       "      <th>sex</th>\n",
       "    </tr>\n",
       "  </thead>\n",
       "  <tbody>\n",
       "    <tr>\n",
       "      <th>0</th>\n",
       "      <td>3.10</td>\n",
       "      <td>1</td>\n",
       "      <td>11</td>\n",
       "      <td>female</td>\n",
       "    </tr>\n",
       "    <tr>\n",
       "      <th>1</th>\n",
       "      <td>3.24</td>\n",
       "      <td>1</td>\n",
       "      <td>12</td>\n",
       "      <td>female</td>\n",
       "    </tr>\n",
       "    <tr>\n",
       "      <th>2</th>\n",
       "      <td>3.00</td>\n",
       "      <td>0</td>\n",
       "      <td>11</td>\n",
       "      <td>male</td>\n",
       "    </tr>\n",
       "  </tbody>\n",
       "</table>\n",
       "</div>"
      ],
      "text/plain": [
       "   wage  female  educ     sex\n",
       "0  3.10       1    11  female\n",
       "1  3.24       1    12  female\n",
       "2  3.00       0    11    male"
      ]
     },
     "execution_count": 24,
     "metadata": {},
     "output_type": "execute_result"
    }
   ],
   "source": [
    "df.head(3)"
   ]
  },
  {
   "cell_type": "code",
   "execution_count": 25,
   "metadata": {},
   "outputs": [
    {
     "data": {
      "text/plain": [
       "Intercept        -1.650545\n",
       "C(sex)[T.male]    2.273362\n",
       "educ              0.506452\n",
       "dtype: float64"
      ]
     },
     "execution_count": 25,
     "metadata": {},
     "output_type": "execute_result"
    }
   ],
   "source": [
    "form_c = 'wage ~  C(sex) + educ'\n",
    "\n",
    "res_c = ols(form_c, data=df).fit()\n",
    "\n",
    "res_c.params"
   ]
  },
  {
   "cell_type": "markdown",
   "metadata": {},
   "source": [
    "C(sex)[T.male]について\n",
    "\n",
    "- TはTreatmentの頭文字で，通常のダミー変数を設定することを示している。\n",
    "- maleはmaleの変数であることを表しており，自動的にfemaleが基本カテゴリーに設定されたことが分かる。\n",
    "\n",
    "（結果）\n",
    "\n",
    "C(sex)[T.male]はfemaleに比べてmaleの賃金は約2.27ドル高いことを示している。"
   ]
  },
  {
   "cell_type": "markdown",
   "metadata": {},
   "source": [
    "## 蛇足\n",
    "femaleとmarryedを独立に重回帰分析しても、答え合わせと合わなかったのは交絡因子をむししていたから。"
   ]
  },
  {
   "cell_type": "code",
   "execution_count": 28,
   "metadata": {},
   "outputs": [
    {
     "data": {
      "text/html": [
       "<table class=\"simpletable\">\n",
       "<caption>OLS Regression Results</caption>\n",
       "<tr>\n",
       "  <th>Dep. Variable:</th>          <td>wage</td>       <th>  R-squared:         </th> <td>   0.181</td>\n",
       "</tr>\n",
       "<tr>\n",
       "  <th>Model:</th>                   <td>OLS</td>       <th>  Adj. R-squared:    </th> <td>   0.176</td>\n",
       "</tr>\n",
       "<tr>\n",
       "  <th>Method:</th>             <td>Least Squares</td>  <th>  F-statistic:       </th> <td>   38.45</td>\n",
       "</tr>\n",
       "<tr>\n",
       "  <th>Date:</th>             <td>Sat, 23 Apr 2022</td> <th>  Prob (F-statistic):</th> <td>1.83e-22</td>\n",
       "</tr>\n",
       "<tr>\n",
       "  <th>Time:</th>                 <td>10:26:50</td>     <th>  Log-Likelihood:    </th> <td> -1380.6</td>\n",
       "</tr>\n",
       "<tr>\n",
       "  <th>No. Observations:</th>      <td>   526</td>      <th>  AIC:               </th> <td>   2769.</td>\n",
       "</tr>\n",
       "<tr>\n",
       "  <th>Df Residuals:</th>          <td>   522</td>      <th>  BIC:               </th> <td>   2786.</td>\n",
       "</tr>\n",
       "<tr>\n",
       "  <th>Df Model:</th>              <td>     3</td>      <th>                     </th>     <td> </td>   \n",
       "</tr>\n",
       "<tr>\n",
       "  <th>Covariance Type:</th>      <td>nonrobust</td>    <th>                     </th>     <td> </td>   \n",
       "</tr>\n",
       "</table>\n",
       "<table class=\"simpletable\">\n",
       "<tr>\n",
       "         <td></td>           <th>coef</th>     <th>std err</th>      <th>t</th>      <th>P>|t|</th>  <th>[0.025</th>    <th>0.975]</th>  \n",
       "</tr>\n",
       "<tr>\n",
       "  <th>Intercept</th>      <td>    5.1680</td> <td>    0.361</td> <td>   14.299</td> <td> 0.000</td> <td>    4.458</td> <td>    5.878</td>\n",
       "</tr>\n",
       "<tr>\n",
       "  <th>female</th>         <td>   -0.5564</td> <td>    0.474</td> <td>   -1.175</td> <td> 0.241</td> <td>   -1.487</td> <td>    0.374</td>\n",
       "</tr>\n",
       "<tr>\n",
       "  <th>married</th>        <td>    2.8150</td> <td>    0.436</td> <td>    6.451</td> <td> 0.000</td> <td>    1.958</td> <td>    3.672</td>\n",
       "</tr>\n",
       "<tr>\n",
       "  <th>female:married</th> <td>   -2.8607</td> <td>    0.608</td> <td>   -4.708</td> <td> 0.000</td> <td>   -4.054</td> <td>   -1.667</td>\n",
       "</tr>\n",
       "</table>\n",
       "<table class=\"simpletable\">\n",
       "<tr>\n",
       "  <th>Omnibus:</th>       <td>217.491</td> <th>  Durbin-Watson:     </th> <td>   1.773</td> \n",
       "</tr>\n",
       "<tr>\n",
       "  <th>Prob(Omnibus):</th> <td> 0.000</td>  <th>  Jarque-Bera (JB):  </th> <td> 877.781</td> \n",
       "</tr>\n",
       "<tr>\n",
       "  <th>Skew:</th>          <td> 1.881</td>  <th>  Prob(JB):          </th> <td>2.47e-191</td>\n",
       "</tr>\n",
       "<tr>\n",
       "  <th>Kurtosis:</th>      <td> 8.088</td>  <th>  Cond. No.          </th> <td>    7.84</td> \n",
       "</tr>\n",
       "</table><br/><br/>Notes:<br/>[1] Standard Errors assume that the covariance matrix of the errors is correctly specified."
      ],
      "text/plain": [
       "<class 'statsmodels.iolib.summary.Summary'>\n",
       "\"\"\"\n",
       "                            OLS Regression Results                            \n",
       "==============================================================================\n",
       "Dep. Variable:                   wage   R-squared:                       0.181\n",
       "Model:                            OLS   Adj. R-squared:                  0.176\n",
       "Method:                 Least Squares   F-statistic:                     38.45\n",
       "Date:                Sat, 23 Apr 2022   Prob (F-statistic):           1.83e-22\n",
       "Time:                        10:26:50   Log-Likelihood:                -1380.6\n",
       "No. Observations:                 526   AIC:                             2769.\n",
       "Df Residuals:                     522   BIC:                             2786.\n",
       "Df Model:                           3                                         \n",
       "Covariance Type:            nonrobust                                         \n",
       "==================================================================================\n",
       "                     coef    std err          t      P>|t|      [0.025      0.975]\n",
       "----------------------------------------------------------------------------------\n",
       "Intercept          5.1680      0.361     14.299      0.000       4.458       5.878\n",
       "female            -0.5564      0.474     -1.175      0.241      -1.487       0.374\n",
       "married            2.8150      0.436      6.451      0.000       1.958       3.672\n",
       "female:married    -2.8607      0.608     -4.708      0.000      -4.054      -1.667\n",
       "==============================================================================\n",
       "Omnibus:                      217.491   Durbin-Watson:                   1.773\n",
       "Prob(Omnibus):                  0.000   Jarque-Bera (JB):              877.781\n",
       "Skew:                           1.881   Prob(JB):                    2.47e-191\n",
       "Kurtosis:                       8.088   Cond. No.                         7.84\n",
       "==============================================================================\n",
       "\n",
       "Notes:\n",
       "[1] Standard Errors assume that the covariance matrix of the errors is correctly specified.\n",
       "\"\"\""
      ]
     },
     "execution_count": 28,
     "metadata": {},
     "output_type": "execute_result"
    }
   ],
   "source": [
    "form_const_3 = 'wage ~ female*married'\n",
    "\n",
    "res_const_3 = ols(form_const_3, data=wage1).fit()\n",
    "\n",
    "res_const_3.summary()"
   ]
  },
  {
   "cell_type": "code",
   "execution_count": null,
   "metadata": {},
   "outputs": [],
   "source": []
  }
 ],
 "metadata": {
  "interpreter": {
   "hash": "2db524e06e9f5f4ffedc911c917cb75e12dbc923643829bf417064a77eb14d37"
  },
  "kernelspec": {
   "display_name": "Python 3.8.3 64-bit",
   "language": "python",
   "name": "python3"
  },
  "language_info": {
   "codemirror_mode": {
    "name": "ipython",
    "version": 3
   },
   "file_extension": ".py",
   "mimetype": "text/x-python",
   "name": "python",
   "nbconvert_exporter": "python",
   "pygments_lexer": "ipython3",
   "version": "3.8.3"
  },
  "orig_nbformat": 4
 },
 "nbformat": 4,
 "nbformat_minor": 2
}
