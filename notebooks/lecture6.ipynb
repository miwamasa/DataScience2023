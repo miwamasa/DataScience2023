{
  "cells": [
    {
      "attachments": {},
      "cell_type": "markdown",
      "metadata": {
        "id": "UI483qIzoiKL"
      },
      "source": [
        "# Lec6 統計の基礎\n",
        "<div dir='rtl'>\n",
        "2022.4岩政\n",
        "</div>\n",
        "\n",
        "## 講義の内容\n",
        "- 統計とは\n",
        "  - 母集団と標本\n",
        "  - 記述統計量\n",
        "  - 正規分布、様々な確率分布\n",
        "- 推定\n",
        "  - 点推定、区間推定と信頼区間\n",
        "- 仮説検定\n",
        "  - 帰無仮説、対立仮設、有意水準、相関\n"
      ]
    },
    {
      "cell_type": "markdown",
      "metadata": {
        "id": "iK-hg8OhoiKS"
      },
      "source": [
        "統計分布について一通り確率密度関数から検定までが実装されている．scipy.statsを使います。\n",
        "\n",
        "参考：\n",
        "https://github.com/rasbt/data-science-tutorial"
      ]
    },
    {
      "cell_type": "markdown",
      "metadata": {
        "id": "AkqvXWkwoiKT"
      },
      "source": [
        "## 要約統計量 (Summary Statistics) "
      ]
    },
    {
      "cell_type": "code",
      "execution_count": null,
      "metadata": {
        "id": "L5q4fB7roiKT"
      },
      "outputs": [],
      "source": [
        "import pandas as pd\n",
        "import numpy as np\n",
        "from scipy import stats\n",
        "import matplotlib.pyplot as plt\n",
        "%matplotlib inline"
      ]
    },
    {
      "cell_type": "markdown",
      "metadata": {
        "id": "eF6Ns4oGoiKU"
      },
      "source": [
        "Irisデータセットをロードし、'sepal_length'(がく片の長さ cm)の分布をヒストグラムで確かめます。"
      ]
    },
    {
      "cell_type": "code",
      "execution_count": null,
      "metadata": {
        "colab": {
          "base_uri": "https://localhost:8080/",
          "height": 279
        },
        "id": "5lAKRISJoiKV",
        "outputId": "c0281c2e-20b1-4899-9941-110eba409952"
      },
      "outputs": [],
      "source": [
        "# read dataset　\n",
        "#df = pd.read_csv('./datasets/iris/iris.csv')\n",
        "df = pd.read_csv('https://raw.githubusercontent.com/miwamasa/DataScience2023/main/notebooks/datasets/iris/iris.csv')\n",
        "\n",
        "def histo():\n",
        "    # create histogram\n",
        "    bin_edges = np.arange(0, df['sepal_length'].max() + 1, 0.5)\n",
        "    fig = plt.hist(df['sepal_length'], bins=bin_edges)\n",
        "\n",
        "    # add plot labels\n",
        "    plt.xlabel('count')\n",
        "    plt.ylabel('sepal length')\n",
        "    \n",
        "    \n",
        "histo()"
      ]
    },
    {
      "cell_type": "markdown",
      "metadata": {
        "id": "2581zndPoiKW"
      },
      "source": [
        "'sepal_length'の方がfloat64であることを確かめます。(N.A等が入ってないかどうか)"
      ]
    },
    {
      "cell_type": "code",
      "execution_count": null,
      "metadata": {
        "colab": {
          "base_uri": "https://localhost:8080/"
        },
        "id": "LETYE4x_oiKX",
        "outputId": "6491f723-1315-4f67-f32f-bab5f8f085b1"
      },
      "outputs": [],
      "source": [
        "x = df['sepal_length'].values\n",
        "x.dtype"
      ]
    },
    {
      "cell_type": "markdown",
      "metadata": {
        "id": "AhQTy5_RoiKY"
      },
      "source": [
        "### 平均\n",
        "平均を計算します"
      ]
    },
    {
      "cell_type": "code",
      "execution_count": null,
      "metadata": {
        "colab": {
          "base_uri": "https://localhost:8080/"
        },
        "id": "84w01lGJoiKZ",
        "outputId": "64f98be6-df7b-4ac3-d8b2-da6efc198339"
      },
      "outputs": [],
      "source": [
        "np.sum(i for i in x) / len(x)"
      ]
    },
    {
      "cell_type": "markdown",
      "metadata": {
        "id": "G24z4EhdoiKZ"
      },
      "source": [
        "numpyのmean/0関数でも計算できますが、値は同じではありませんん。"
      ]
    },
    {
      "cell_type": "code",
      "execution_count": null,
      "metadata": {
        "colab": {
          "base_uri": "https://localhost:8080/"
        },
        "id": "gBlbWUAWoiKZ",
        "outputId": "acc9de20-9efa-40a3-f999-1ea43885d91f"
      },
      "outputs": [],
      "source": [
        "x_mean = np.mean(x)\n",
        "x_mean"
      ]
    },
    {
      "cell_type": "markdown",
      "metadata": {
        "id": "KSzDiK7boiKa"
      },
      "source": [
        "ヒストグラムに、平均の線（縦線）を重ね書きします。"
      ]
    },
    {
      "cell_type": "code",
      "execution_count": null,
      "metadata": {
        "colab": {
          "base_uri": "https://localhost:8080/",
          "height": 297
        },
        "id": "FvPUFCYqoiKa",
        "outputId": "025c0a6b-c5ab-49ee-e2e8-d0fad2d22a84"
      },
      "outputs": [],
      "source": [
        "histo()\n",
        "plt.axvline(x_mean, color='darkorange')"
      ]
    },
    {
      "cell_type": "markdown",
      "metadata": {
        "id": "61PBHULEoiKb"
      },
      "source": [
        "### 分散\n",
        "分散を計算します。最初は、公式どおりに計算します\n"
      ]
    },
    {
      "cell_type": "code",
      "execution_count": null,
      "metadata": {
        "colab": {
          "base_uri": "https://localhost:8080/"
        },
        "id": "uFIDtBbYoiKb",
        "outputId": "67fa9f8c-aa9f-4b5b-d0e5-6caa182314c6"
      },
      "outputs": [],
      "source": [
        "np.sum([(i - x_mean)**2 for i in x]) / (len(x) - 1)"
      ]
    },
    {
      "cell_type": "markdown",
      "metadata": {
        "id": "0ugN-2D7oiKb"
      },
      "source": [
        "numpyのvar/2を使っても計算できます。ddofは\n",
        "\n",
        "Bessel's correction(nの代わりにn-1で割ること)を考慮している\n",
        "\n",
        "ddof:初期値0　分散を計算する際、平均との偏差の2乗の和をN-ddofで割ります。初期値ではddof=0なのでデータ数であるNで割ることになる"
      ]
    },
    {
      "cell_type": "code",
      "execution_count": null,
      "metadata": {
        "colab": {
          "base_uri": "https://localhost:8080/"
        },
        "id": "4gj9Ww0HoiKb",
        "outputId": "20514956-5564-47e6-a78c-cf16e79eab53"
      },
      "outputs": [],
      "source": [
        "var = np.var(x, ddof=1)\n",
        "var"
      ]
    },
    {
      "cell_type": "code",
      "execution_count": null,
      "metadata": {
        "colab": {
          "base_uri": "https://localhost:8080/"
        },
        "id": "BenHlpe-oiKc",
        "outputId": "e4a66b43-a95e-4269-b66e-f29edb00f743"
      },
      "outputs": [],
      "source": [
        "df['sepal_length'].var() # note that Bessel's correction is the default"
      ]
    },
    {
      "cell_type": "markdown",
      "metadata": {
        "id": "qxsOEFQgoiKc"
      },
      "source": [
        "それでは平均±分散を縦線で重ねます"
      ]
    },
    {
      "cell_type": "code",
      "execution_count": null,
      "metadata": {
        "colab": {
          "base_uri": "https://localhost:8080/",
          "height": 297
        },
        "id": "RgYnk2QaoiKc",
        "outputId": "29676b07-0edb-42c0-bc5d-f757d522de99"
      },
      "outputs": [],
      "source": [
        "histo()\n",
        "plt.axvline(x_mean + var, color='darkorange')\n",
        "plt.axvline(x_mean - var, color='darkorange')\n",
        "plt.axvline(x_mean, color='red')"
      ]
    },
    {
      "cell_type": "markdown",
      "metadata": {
        "id": "knqK0g-4oiKd"
      },
      "source": [
        "### 標準偏差：\n",
        "\n",
        "　numpyのstd関数でも計算できます。std関数はデフォルトでBessel's correction が入ってます"
      ]
    },
    {
      "cell_type": "code",
      "execution_count": null,
      "metadata": {
        "colab": {
          "base_uri": "https://localhost:8080/"
        },
        "id": "7wRHScvHoiKd",
        "outputId": "7296eb30-2800-40b8-c75b-e35d42f7b2a4"
      },
      "outputs": [],
      "source": [
        "(np.sum([(i - x_mean)**2 for i in x]) / (len(x) - 1))**0.5"
      ]
    },
    {
      "cell_type": "code",
      "execution_count": null,
      "metadata": {
        "colab": {
          "base_uri": "https://localhost:8080/"
        },
        "id": "Ye9Ti8gToiKd",
        "outputId": "ad8ac143-eefe-4103-caf9-eef35cd1871f"
      },
      "outputs": [],
      "source": [
        "np.sqrt(np.var(x, ddof=1))"
      ]
    },
    {
      "cell_type": "code",
      "execution_count": null,
      "metadata": {},
      "outputs": [],
      "source": [
        "np.sqrt(np.var(x, ddof=0))"
      ]
    },
    {
      "cell_type": "code",
      "execution_count": null,
      "metadata": {
        "colab": {
          "base_uri": "https://localhost:8080/"
        },
        "id": "IE33HLlFoiKe",
        "outputId": "ee77979a-557b-4e61-cd81-d9dd3916a383"
      },
      "outputs": [],
      "source": [
        "std=df['sepal_length'].std() # note that Bessel's correction is the default\n",
        "std"
      ]
    },
    {
      "cell_type": "code",
      "execution_count": null,
      "metadata": {
        "colab": {
          "base_uri": "https://localhost:8080/",
          "height": 297
        },
        "id": "tNfX-F4moiKe",
        "outputId": "8c5c964c-2afd-4002-bde7-a8394c9ec92e"
      },
      "outputs": [],
      "source": [
        "histo()\n",
        "plt.axvline(x_mean + std, color='darkorange')\n",
        "plt.axvline(x_mean - std, color='darkorange')\n",
        "plt.axvline(x_mean , color='red')"
      ]
    },
    {
      "cell_type": "markdown",
      "metadata": {
        "id": "56b6O_eNoiKf"
      },
      "source": [
        "Min/Max"
      ]
    },
    {
      "cell_type": "code",
      "execution_count": null,
      "metadata": {
        "colab": {
          "base_uri": "https://localhost:8080/"
        },
        "id": "YrU4hxtGoiKf",
        "outputId": "fa07eb69-5fce-4979-a8bf-6409aa263c91"
      },
      "outputs": [],
      "source": [
        "np.min(x),np.max(x)"
      ]
    },
    {
      "cell_type": "markdown",
      "metadata": {
        "id": "RVz8uK3LoiKg"
      },
      "source": [
        "### モード（最頻値):\n",
        "\n",
        "いったんlistに変換すると list.count(値)で、その値をもつデータ数を数え上げられます\n",
        "\n",
        "関数 max(set(list_name), key = list_name.count) は、指定されたリストで最大回数発生する要素を返します。\n",
        "\n",
        "lst.coun(x)で lst中のxの数をカウント、lstのそれぞれのuniqueな要素aに対して、lst.count(a)をしてその結果が最大となるaを返す。\n"
      ]
    },
    {
      "cell_type": "code",
      "execution_count": null,
      "metadata": {
        "colab": {
          "base_uri": "https://localhost:8080/"
        },
        "id": "bK7u7v1AoiKg",
        "outputId": "c5ac15aa-e6ba-401e-ea5d-d6d524311630"
      },
      "outputs": [],
      "source": [
        "lst = list(x)\n",
        "mode = max(set(lst), key=lst.count)\n",
        "mode"
      ]
    },
    {
      "cell_type": "code",
      "execution_count": null,
      "metadata": {},
      "outputs": [],
      "source": [
        "set(lst)"
      ]
    },
    {
      "cell_type": "markdown",
      "metadata": {
        "id": "62I0HSEKoiKg"
      },
      "source": [
        "最頻値に何個データがあったか、"
      ]
    },
    {
      "cell_type": "code",
      "execution_count": null,
      "metadata": {
        "colab": {
          "base_uri": "https://localhost:8080/"
        },
        "id": "DoG6YnX7oiKg",
        "outputId": "15b24008-8608-4079-fa95-6a76194f830c"
      },
      "outputs": [],
      "source": [
        "lst.count(mode)"
      ]
    },
    {
      "cell_type": "markdown",
      "metadata": {
        "id": "wnZiUucEoiKg"
      },
      "source": [
        "stasのmode関数でも求められます"
      ]
    },
    {
      "cell_type": "code",
      "execution_count": null,
      "metadata": {
        "colab": {
          "base_uri": "https://localhost:8080/"
        },
        "id": "CevCWK-RoiKh",
        "outputId": "ca37b54c-35ed-4b08-f347-a2b113c41d67"
      },
      "outputs": [],
      "source": [
        "stats.mode(x)"
      ]
    },
    {
      "attachments": {},
      "cell_type": "markdown",
      "metadata": {
        "id": "3IzvLvf3oiKh"
      },
      "source": [
        "### パーセント点\n",
        "\n",
        "25パーセント点と75パーセント点:\n",
        "\n",
        "- 順番に並べて、その25%,75%の値をえるというベタな方法でやってみます。\n",
        "- まずはxをソートしてyを得ます\n",
        "- y.shape[0]は、yの要素数を返します。要素数の25%/75&のところの値を得ます\n",
        "  "
      ]
    },
    {
      "cell_type": "code",
      "execution_count": null,
      "metadata": {
        "colab": {
          "base_uri": "https://localhost:8080/"
        },
        "id": "hcCmjjYBoiKh",
        "outputId": "abc75b39-6266-4701-86c4-f2a54d00bc11"
      },
      "outputs": [],
      "source": [
        "y = np.sort(x)\n",
        "percentile_25th = y[round(0.25 * y.shape[0]) + 1]\n",
        "percentile_25th"
      ]
    },
    {
      "cell_type": "code",
      "execution_count": null,
      "metadata": {
        "colab": {
          "base_uri": "https://localhost:8080/"
        },
        "id": "myK03_mqoiKh",
        "outputId": "225dd2cd-f8e8-4976-be5b-55020945f792"
      },
      "outputs": [],
      "source": [
        "percentile_75th = y[round(0.75 * y.shape[0]) - 1]\n",
        "percentile_75th"
      ]
    },
    {
      "cell_type": "markdown",
      "metadata": {
        "id": "XQGAibs4oiKi"
      },
      "source": [
        "numpyのpercentile関数を使ってもば求まります。\n",
        "\n",
        "```\n",
        "補間モードを用いて異なるパーセンタイルを計算することができます。補間モードには linear、lowower、higher、midpoint、nearest があります。これらの補間モードは、パーセンタイルが 2つのデータ点 i と j の間にある場合に使用されます。\n",
        "```"
      ]
    },
    {
      "cell_type": "code",
      "execution_count": null,
      "metadata": {
        "colab": {
          "base_uri": "https://localhost:8080/"
        },
        "id": "SJ3wZa9JoiKi",
        "outputId": "63f07b53-23cf-41f5-a1c5-dba7ada092ea"
      },
      "outputs": [],
      "source": [
        "np.percentile(x, q=[25, 75], interpolation='lower')"
      ]
    },
    {
      "cell_type": "markdown",
      "metadata": {
        "id": "F5wtA_8BoiKi"
      },
      "source": [
        "pandasのDataFrameのquntile関数を使っても求められます"
      ]
    },
    {
      "cell_type": "code",
      "execution_count": null,
      "metadata": {
        "colab": {
          "base_uri": "https://localhost:8080/"
        },
        "id": "qbSwBGlxoiKi",
        "outputId": "960165f5-a506-448f-f028-d82fc6ee451e"
      },
      "outputs": [],
      "source": [
        "df['sepal_length'].quantile(0.25, interpolation='lower')"
      ]
    },
    {
      "cell_type": "code",
      "execution_count": null,
      "metadata": {
        "colab": {
          "base_uri": "https://localhost:8080/"
        },
        "id": "4MUYexLzoiKi",
        "outputId": "d4121998-2e8e-4e92-f0bc-c2d94f195c03"
      },
      "outputs": [],
      "source": [
        "df['sepal_length'].quantile(0.75, interpolation='lower')"
      ]
    },
    {
      "cell_type": "markdown",
      "metadata": {
        "id": "9WaZ_oyboiKi"
      },
      "source": [
        "25パーセント点と75パーセント点をプロットしてみます"
      ]
    },
    {
      "cell_type": "code",
      "execution_count": null,
      "metadata": {
        "colab": {
          "base_uri": "https://localhost:8080/",
          "height": 297
        },
        "id": "Vkg87EFOoiKj",
        "outputId": "9de669ca-a530-420d-bced-2b933e3f000b"
      },
      "outputs": [],
      "source": [
        "histo()\n",
        "plt.axvline(percentile_75th, color='darkorange')\n",
        "plt.axvline(percentile_25th, color='darkorange')"
      ]
    },
    {
      "cell_type": "markdown",
      "metadata": {
        "id": "-mm6JpFwoiKj"
      },
      "source": [
        "中央値 (50パーセント点でもある):"
      ]
    },
    {
      "cell_type": "code",
      "execution_count": null,
      "metadata": {
        "colab": {
          "base_uri": "https://localhost:8080/"
        },
        "id": "jwTtTKt0oiKj",
        "outputId": "c0744e9d-9ca1-47eb-fad9-543d38d62114"
      },
      "outputs": [],
      "source": [
        "x = np.sort(x)\n",
        "\n",
        "tmp = round(0.5 * x.shape[0])\n",
        "\n",
        "if x.shape[0] % 2:\n",
        "    median = x[tmp - 1]\n",
        "else:\n",
        "    median = x[tmp - 1] + (x[tmp] - x[tmp - 1]) / 2.\n",
        "    \n",
        "median"
      ]
    },
    {
      "cell_type": "markdown",
      "metadata": {
        "id": "Xg0z8UhSoiKj"
      },
      "source": [
        "numpyにはmedian関数がある"
      ]
    },
    {
      "cell_type": "code",
      "execution_count": null,
      "metadata": {
        "colab": {
          "base_uri": "https://localhost:8080/"
        },
        "id": "luln6kwhoiKj",
        "outputId": "400d84ac-b9e0-4803-87ba-508fcd9bd356"
      },
      "outputs": [],
      "source": [
        "np.median(x)"
      ]
    },
    {
      "cell_type": "code",
      "execution_count": null,
      "metadata": {
        "colab": {
          "base_uri": "https://localhost:8080/",
          "height": 297
        },
        "id": "UOHkAQmxoiKk",
        "outputId": "55bf532f-5d82-405c-96fc-da2bf144cc86"
      },
      "outputs": [],
      "source": [
        "histo()\n",
        "plt.axvline(percentile_75th, color='darkorange')\n",
        "plt.axvline(percentile_25th, color='darkorange')\n",
        "plt.axvline(median, color='red')"
      ]
    },
    {
      "cell_type": "markdown",
      "metadata": {
        "id": "Imh1U9NNoiKp"
      },
      "source": [
        "# 確率分布"
      ]
    },
    {
      "cell_type": "markdown",
      "metadata": {
        "id": "7z-d55HsoiKp"
      },
      "source": [
        "## 正規分布を知る"
      ]
    },
    {
      "cell_type": "code",
      "execution_count": null,
      "metadata": {
        "id": "pemz1HZpoiKp"
      },
      "outputs": [],
      "source": [
        "# -*- coding: utf-8 -*-\n",
        "import numpy as np\n",
        "import scipy.stats\n",
        "from scipy.stats import norm  # normal distribution, 正規分布\n",
        "\n",
        "import matplotlib.pyplot as plt\n",
        "%matplotlib inline"
      ]
    },
    {
      "cell_type": "markdown",
      "metadata": {
        "id": "on0oA_dXoiKp"
      },
      "source": [
        "### 正規分布のグラフ pdf（probability density function）"
      ]
    },
    {
      "cell_type": "code",
      "execution_count": null,
      "metadata": {
        "colab": {
          "base_uri": "https://localhost:8080/",
          "height": 225
        },
        "id": "NWJLhNgVoiKp",
        "outputId": "c6d04476-cfa5-433d-ce33-3b4743a0f38a"
      },
      "outputs": [],
      "source": [
        "m = 5   # 平均値\n",
        "std = 2 # 標準偏差\n",
        "std2 = 4\n",
        "x = np.arange( -5, 15, 0.01)\n",
        "y = norm.pdf(x, loc=m, scale=std)\n",
        "y2 = norm.pdf(x, loc=m, scale=std2)\n",
        "#y = (1 / np.sqrt(2 * np.pi * std*std ) ) * np.exp(-(x-m) ** 2 / (2 * std*std) ) #正規分布の式\n",
        "\n",
        "fig = plt.subplots(figsize=(8,3))\n",
        "plt.plot(x,y,label='std=2')\n",
        "plt.plot(x,y2,label='std=4')\n",
        "plt.xlabel('x')\n",
        "plt.ylabel('probabiity density')\n",
        "plt.legend()"
      ]
    },
    {
      "cell_type": "markdown",
      "metadata": {},
      "source": [
        "### 累積確率(Cumulative Distribution Function)\n"
      ]
    },
    {
      "cell_type": "code",
      "execution_count": null,
      "metadata": {},
      "outputs": [],
      "source": [
        "x = np.linspace(-4, 4, 100)\n",
        "plt.plot(x, stats.norm.pdf(x))\n",
        "#plt.plot(x, stats.t.pdf(x,99))\n",
        "plt.xlabel('x')\n",
        "plt.ylabel('P')\n",
        "plt.title('Normal Distribution')"
      ]
    },
    {
      "cell_type": "code",
      "execution_count": null,
      "metadata": {},
      "outputs": [],
      "source": [
        "#y_cdf = stats.t.cdf(x,100-1)\n",
        "y_cdf = stats.norm.cdf(x)\n",
        "plt.plot(x, y_cdf)\n",
        "plt.xlabel('x')\n",
        "plt.ylabel('P')\n",
        "plt.title('Cumulative Distribution Function')"
      ]
    },
    {
      "cell_type": "markdown",
      "metadata": {
        "id": "ovft7akvoiKp"
      },
      "source": [
        "### パーセント点と確率の計算\n",
        "パーセント点（pp:percent point)$z_{\\alpha}$ を求めるには，$1-\\alpha$をppf ( percent point function )に与える。<br>\n",
        "確率を求めるには，パーセント点$z_{\\alpha}$をcdf (cumulative density function)　に与える。<br>\n",
        "なお，標準正規分布（平均値 $m = 0$,  標準偏差 $\\sigma=1$ ）を対象とする<br>"
      ]
    },
    {
      "cell_type": "markdown",
      "metadata": {
        "id": "-O1fERMvoiKq"
      },
      "source": [
        "#### 片側の場合\n",
        "標準正規分布$N(0,1)$のグラフで，$z_{\\alpha} \\le x < \\infty$ の確率 $\\alpha$（面積）をユーザが与える。このとき，  \n",
        "$- \\infty < x \\le z_{\\alpha} $の確率（面積）は $1-\\alpha$となる。\n",
        "この値をscipy.stats.norm.ppf に与えれば，$z_{\\alpha}$が求まる。"
      ]
    },
    {
      "cell_type": "code",
      "execution_count": null,
      "metadata": {
        "colab": {
          "base_uri": "https://localhost:8080/"
        },
        "id": "VYbf2jS4oiKq",
        "outputId": "5729c8be-0e7c-4958-c7f6-28d4deeada3b"
      },
      "outputs": [],
      "source": [
        "m = 0\n",
        "std = 1\n",
        "alpha = 0.05\n",
        "prob = 1 - alpha\n",
        "z_alp = norm.ppf(prob, loc=m, scale=std)\n",
        "print('パーセント点＝', z_alp) #"
      ]
    },
    {
      "cell_type": "code",
      "execution_count": null,
      "metadata": {
        "colab": {
          "base_uri": "https://localhost:8080/",
          "height": 227
        },
        "id": "bxyQAGA3oiKq",
        "outputId": "72f87fba-e834-4cb3-9332-a19e6602966f"
      },
      "outputs": [],
      "source": [
        "# グラフ書いてみるよ\n",
        "m = 0\n",
        "std = 1\n",
        "alpha = 0.05\n",
        "\n",
        "x = np.arange( -3, 3, 0.01)\n",
        "y = norm.pdf(x, loc=m, scale=std)\n",
        "\n",
        "fig = plt.subplots(figsize=(5,3))\n",
        "plt.plot(x,y,label='std=1')\n",
        "\n",
        "prob = 1 - alpha\n",
        "z_alp = norm.ppf(prob, loc=m, scale=std)\n",
        "plt.axvline(z_alp, color='orange',label=\"z_alp={0}\".format(z_alp))\n",
        "plt.title(\"Percent point z_alp for alpha=0.05\")\n",
        "plt.legend()"
      ]
    },
    {
      "cell_type": "markdown",
      "metadata": {
        "id": "tbc8_yDMoiKq"
      },
      "source": [
        "isf (Inverse survival function，生存関数の逆関数）を用いると，1-alphaの計算が不要で，上記と同じパーセント点を得る"
      ]
    },
    {
      "cell_type": "code",
      "execution_count": null,
      "metadata": {
        "colab": {
          "base_uri": "https://localhost:8080/"
        },
        "id": "BP-Lsb_RoiKq",
        "outputId": "b9d4f726-0911-4c82-d7b5-ebe79776d06c"
      },
      "outputs": [],
      "source": [
        "z_alp2 = norm.isf(alpha, loc=m, scale=std)\n",
        "print('isfを用いたパーセント点', z_alp2)"
      ]
    },
    {
      "cell_type": "code",
      "execution_count": null,
      "metadata": {
        "colab": {
          "base_uri": "https://localhost:8080/"
        },
        "id": "kc8v_k2CoiKw",
        "outputId": "7c81c83f-8f21-47ff-ffdd-fb4251bb1615"
      },
      "outputs": [],
      "source": [
        "m = 0\n",
        "std = 1.0\n",
        "z_alp = 1.96\n",
        "prob = norm.cdf(z_alp, loc=m, scale=std)\n",
        "print('確率＝',prob)"
      ]
    },
    {
      "cell_type": "markdown",
      "metadata": {
        "id": "h6O4X3wloiKw"
      },
      "source": [
        "#### 両側の場合\n",
        "区間[a b]の確率を求める。\n",
        "1. $- \\infty < x \\le z_{b} $の確率$P_a$を求める  \n",
        "2. $- \\infty < x \\le z_{a} $の確率$P_b$を求める\n",
        "3. $P_a - P_b$を計算"
      ]
    },
    {
      "cell_type": "code",
      "execution_count": null,
      "metadata": {
        "colab": {
          "base_uri": "https://localhost:8080/"
        },
        "id": "nBHlyfNkoiKx",
        "outputId": "e4943182-1f54-498c-9a1d-e699af592367"
      },
      "outputs": [],
      "source": [
        "za = 1.96\n",
        "zb = -1.96\n",
        "pa = norm.cdf(za, loc=0, scale=1) # loc is mean\n",
        "pb = norm.cdf(zb, loc=0, scale=1) # scale is standard deviation\n",
        "p = pa - pb\n",
        "print('p=',p)"
      ]
    },
    {
      "cell_type": "code",
      "execution_count": null,
      "metadata": {
        "colab": {
          "base_uri": "https://localhost:8080/",
          "height": 227
        },
        "id": "86XlLOUMoiKx",
        "outputId": "7e724503-e269-428d-cbf4-8ff96787bd95"
      },
      "outputs": [],
      "source": [
        "# グラフ書いてみるよ\n",
        "za = 1.96\n",
        "zb = -1.96\n",
        "x = np.arange( -3, 3, 0.01)\n",
        "y = norm.pdf(x, loc=0, scale=1)\n",
        "\n",
        "fig = plt.subplots(figsize=(5,3))\n",
        "plt.plot(x,y,label='std=1')\n",
        "\n",
        "pa = norm.cdf(za, loc=0, scale=1) # loc is mean\n",
        "pb = norm.cdf(zb, loc=0, scale=1) # scale is standard deviation\n",
        "p = pa - pb\n",
        "\n",
        "plt.axvline(za, color='orange',label=\"za={0}\".format(za))\n",
        "plt.axvline(zb, color='yellow',label=\"zb={0}\".format(zb))\n",
        "plt.title(\"Probability for p=pa-pb={0}\".format(p))\n",
        "plt.legend()"
      ]
    },
    {
      "cell_type": "markdown",
      "metadata": {
        "id": "eM6LxKk2oiKx"
      },
      "source": [
        "#### 検定では，$\\alpha$が初めに与えられる。\n",
        "これに基づき，片側（z_alp），両側（za, zb）を求めることが多い。  \n",
        "片側の場合は既に述べた。  \n",
        "両側の場合，正規分布が対称で，かつ，（za, zb）が原点を中心とした左右対称という前提があり，この場合，intervalを用いることができる。<br>\n",
        "下記の例では，両側にz_alp/2=0.025 があり，この二つを足して0.05となることに留意。"
      ]
    },
    {
      "cell_type": "code",
      "execution_count": null,
      "metadata": {
        "colab": {
          "base_uri": "https://localhost:8080/"
        },
        "id": "ElB0NOn7oiKy",
        "outputId": "1841afb8-90a2-4035-ece8-16cee09ed65c"
      },
      "outputs": [],
      "source": [
        "za,zb = norm.interval(alpha=0.95, loc=0, scale=1)\n",
        "print('za=',za,'  zb=',zb)"
      ]
    },
    {
      "cell_type": "markdown",
      "metadata": {
        "id": "maPArLhEoiKy"
      },
      "source": [
        "横軸が $x$,  縦軸が頻度（データ数Nが多いほど，縦軸のスケールも大きくなる）<br>\n",
        "・平均値を中心とした分布となる<br>\n",
        "・データ数100程度では，正規分布の形とは言えず，データ数を非常に多くして，ようやく理想形に近くなる<br>\n",
        "・標本平均値，標本標準偏差もデータ数がかなり多くないと，真値に近づかない<br>\n",
        "・標準偏差の計算 x.std(ddof=1) のddof=1は“不偏標準偏差”を求めるとき，すなわち，1/(N-1)という除算を行う<br>\n",
        "・このddofを指定しないと， 1/N を用いた計算を行い，不偏とならない<br>\n",
        "・標準偏差はばらつきの指標となる"
      ]
    },
    {
      "cell_type": "code",
      "execution_count": null,
      "metadata": {
        "colab": {
          "base_uri": "https://localhost:8080/",
          "height": 299
        },
        "id": "o1c8ATBvoiKy",
        "outputId": "13800c4e-14c1-410f-f01f-a699319c991e"
      },
      "outputs": [],
      "source": [
        "np.random.seed(123) # scipyと共通，乱数発生の再現性を得る\n",
        "\n",
        "mean = 2.0 # mean, 平均値\n",
        "std = 3.0  # standar deviation, 標準偏差\n",
        "#for N in [100, 10000]:\n",
        "for N in [100]:\n",
        "    x = scipy.stats.norm.rvs(loc=mean, scale=std, size=N) # rvs:Random variates\n",
        "    print('N = %d  mean = %f  std = %e' % (N, x.mean(), x.std(ddof=1))) \n",
        "    plt.figure()\n",
        "    plt.hist(x, bins=20)\n",
        "    plt.title('$N = %i$' % (N) )\n"
      ]
    },
    {
      "attachments": {},
      "cell_type": "markdown",
      "metadata": {
        "id": "Gk74fhk_oiKy"
      },
      "source": [
        "### 中心極限定理\n",
        "一様乱数を用いる，この区間[a,b]の平均値は$\\mu = \\frac{a+b}{2}$, 分散$\\sigma^2 = \\frac{(b-a)^2}{12}$である。\n",
        "このn個（幾つかの値）の標本平均をN個（これは一定とする）発生させ，その分布を見ると，正規分布$N(\\mu, \\sigma^2/n )$に近づく。ここでは，標準正規分布に正規化する。\n",
        "他の分布でも試してみられたい。\n",
        "\n",
        "scipy.stats.uniform.rvsは、この区間[a, b]を指定して、その範囲内のランダムな値を生成する関数です。引数として、範囲の下限であるloc（デフォルトは0）、範囲の上限であるscale（デフォルトは1）を指定します。また、size引数で生成する乱数の個数を指定できます。\n",
        "\n",
        "なので、 scipy.stats.uniform.rvs(size=n)は、[0,1]の範囲のランダム値をn個生成し、その平均は 1/2、分散は 1/12になります。\n",
        "\n"
      ]
    },
    {
      "cell_type": "code",
      "execution_count": null,
      "metadata": {},
      "outputs": [],
      "source": [
        "# locとscaleを指定すると、[loc,loc+scale]の区間の一様分布が得られる\n",
        "x = np.linspace(-1,2,100)\n",
        "plt.plot(x,scipy.stats.uniform.pdf(x,loc=0, scale=1), label='loc=0')"
      ]
    },
    {
      "attachments": {},
      "cell_type": "markdown",
      "metadata": {},
      "source": [
        "\n",
        "下記の図は、0を中心にして、元々の分散と標本数nの分散との比を考慮した分布を作ると、nが変わっても、同じような分布になっていることを示しています。"
      ]
    },
    {
      "cell_type": "code",
      "execution_count": null,
      "metadata": {
        "colab": {
          "base_uri": "https://localhost:8080/",
          "height": 265
        },
        "id": "bbDW9jGZoiKy",
        "outputId": "27cb2851-b95c-43b2-8497-b024911f71f2"
      },
      "outputs": [],
      "source": [
        "N = 2000\n",
        "y= np.zeros(N)\n",
        "for n in [5, 5000]:\n",
        "    for i in range(N):\n",
        "        x = scipy.stats.uniform.rvs(size=n)\n",
        "        y[i] = (x.mean() - 1/2)/(np.sqrt(1/12)/np.sqrt(n))\n",
        "    plt.hist(y, bins=20, range=(-4,4), density=True)\n",
        "\n",
        "xx = np.arange(-4, 4, 0.01)\n",
        "nrm = scipy.stats.norm.pdf(xx, loc=0.0, scale=1.0 )\n",
        "plt.plot(xx, nrm, c='k')\n"
      ]
    },
    {
      "cell_type": "markdown",
      "metadata": {
        "id": "pQ9K20lioiKz"
      },
      "source": [
        "## ポアソン分布\n",
        "$$\n",
        "P(X=k) = \\exp (-\\lambda t) \\frac{(\\lambda t)^k}{k !}\n",
        "$$\n",
        "scipy.stats.poisson  \n",
        "https://docs.scipy.org/doc/scipy/reference/generated/scipy.stats.poisson.html"
      ]
    },
    {
      "cell_type": "code",
      "execution_count": null,
      "metadata": {
        "id": "VxdFw5NSoiKz"
      },
      "outputs": [],
      "source": [
        "# -*- coding: utf-8 -*-\n",
        "import numpy as np\n",
        "from scipy.stats import poisson\n",
        "from scipy.stats import uniform\n",
        "\n",
        "import matplotlib.pyplot as plt\n",
        "%matplotlib inline\n"
      ]
    },
    {
      "cell_type": "markdown",
      "metadata": {
        "id": "53-yIf20oiKz"
      },
      "source": [
        "### 確率質量関数（pmf: Probability mass function）のグラフ\n",
        "離散確率変数の場合の呼称 ，連続確率変数の場合は確率密度関数 (pdf: Probability density function)"
      ]
    },
    {
      "cell_type": "code",
      "execution_count": null,
      "metadata": {
        "colab": {
          "base_uri": "https://localhost:8080/",
          "height": 279
        },
        "id": "CXRm0jgVoiKz",
        "outputId": "04e89f6c-2f0a-42b3-ce9f-27625258cbf1"
      },
      "outputs": [],
      "source": [
        "fig = plt.subplots(figsize=(8,4))\n",
        "k = np.arange(0,16)\n",
        "\n",
        "for lamb in range(1,6):\n",
        "    p = poisson.pmf(k, lamb)\n",
        "    plt.plot(k, p, label='lamb='+str(lamb))\n",
        "\n",
        "plt.xlabel('k')\n",
        "plt.ylabel('Probability mass function')\n",
        "plt.legend()\n"
      ]
    },
    {
      "cell_type": "markdown",
      "metadata": {
        "id": "53yt_egEoiKz"
      },
      "source": [
        "#### 例：交通事故問題\n",
        "交通事故　平均2.4件／日のとき，交通事故が2件／日　以下となる確率を求める。"
      ]
    },
    {
      "cell_type": "code",
      "execution_count": null,
      "metadata": {
        "colab": {
          "base_uri": "https://localhost:8080/"
        },
        "id": "sPFQ5_JkoiK0",
        "outputId": "e68e6f06-415c-4593-e360-8ca7d5ddabc7"
      },
      "outputs": [],
      "source": [
        "lamb = 2.4\n",
        "psum = 0\n",
        "for k in [0, 1, 2]:\n",
        "    p = poisson.pmf(k, mu=lamb)\n",
        "    psum = psum + p\n",
        "print('sum of p =',psum)"
      ]
    },
    {
      "cell_type": "markdown",
      "metadata": {
        "id": "8ThmRFtboiK0"
      },
      "source": [
        "#### ポアソン到着モデル\n",
        "$$ \n",
        "  t_{arrive} = -\\frac{1}{\\lambda} \\log_{e} P_{arrive} (T) \n",
        "$$"
      ]
    },
    {
      "cell_type": "markdown",
      "metadata": {},
      "source": [
        "Num人分の到着時刻を得る\n",
        "\n",
        "ポアソン分布に従う確率変数の生成に、逆関数を用いた乱数生成を用いた\n",
        "\n",
        "[橋本]「3.4.4 逆関数を用いた乱数生成」"
      ]
    },
    {
      "cell_type": "code",
      "execution_count": null,
      "metadata": {
        "colab": {
          "base_uri": "https://localhost:8080/",
          "height": 225
        },
        "id": "b8b4B779oiK0",
        "outputId": "59d60243-1d92-4c1a-db79-c7f95ac3ed11"
      },
      "outputs": [],
      "source": [
        "np.random.seed(123)\n",
        "\n",
        "Num=30 # 　Num人分の到着時刻を得る\n",
        "t_arrive = np.zeros(Num)\n",
        "lamb = 1\n",
        "\n",
        "sum = 0.0\n",
        "for i in range(Num):\n",
        "    sum = sum - (1/lamb) * np.log( uniform.rvs(size=1) )\n",
        "    t_arrive[i] = sum\n",
        "\n",
        "fig, ax = plt.subplots(figsize=(6,3))\n",
        "ax.vlines(t_arrive, ymin=0, ymax=1)\n",
        "ax.set_xlabel('time[k]')\n",
        "plt.tight_layout()"
      ]
    },
    {
      "cell_type": "code",
      "execution_count": null,
      "metadata": {
        "colab": {
          "base_uri": "https://localhost:8080/"
        },
        "id": "fyk9iQT7oiK0",
        "outputId": "989b1aec-ba20-486a-ef80-bbb57dbe8a1e"
      },
      "outputs": [],
      "source": [
        "t_arrive"
      ]
    },
    {
      "cell_type": "markdown",
      "metadata": {},
      "source": [
        "確率の種設定(np.random.seed(123))しなければ、毎回、到着の様子は変わる"
      ]
    },
    {
      "cell_type": "code",
      "execution_count": null,
      "metadata": {
        "colab": {
          "base_uri": "https://localhost:8080/",
          "height": 225
        },
        "id": "chFLljx-oiK1",
        "outputId": "9888e49f-491d-4141-a6a9-d3658dd6ba49"
      },
      "outputs": [],
      "source": [
        "Num=30 # the number of arraivl, Num人分の到着時刻を得る\n",
        "t_arrive = np.zeros(Num)\n",
        "lamb = 1\n",
        "\n",
        "sum = 0.0\n",
        "for i in range(Num):\n",
        "    sum = sum - (1/lamb) * np.log( uniform.rvs(size=1) )\n",
        "    t_arrive[i] = sum\n",
        "\n",
        "fig, ax = plt.subplots(figsize=(6,3))\n",
        "ax.vlines(t_arrive, ymin=0, ymax=1)\n",
        "ax.set_xlabel('time[k]')\n",
        "plt.tight_layout() \n"
      ]
    },
    {
      "cell_type": "markdown",
      "metadata": {
        "id": "s5VNulmjoiK1"
      },
      "source": [
        "## 平均値の検定　（母分散が未知） t検定\n",
        "$$\n",
        "t = \\frac{\\hat{\\mu} - \\mu_0}{\\sqrt{\\sigma^2 \\big/ N}}\n",
        "$$\n",
        "上記の$t$検定量は自由度$ df = N - 1 $の$t$分布に従う（ $df$: Degree of Freedom）<br>\n",
        "scipy.stats.t https://docs.scipy.org/doc/scipy/reference/generated/scipy.stats.t.html <br>"
      ]
    },
    {
      "cell_type": "code",
      "execution_count": null,
      "metadata": {
        "id": "AfspmNUcoiK1"
      },
      "outputs": [],
      "source": [
        "# -*- coding: utf-8 -*-\n",
        "\n",
        "import numpy as np\n",
        "import scipy as sp\n",
        "from scipy import stats\n",
        "\n",
        "import matplotlib.pyplot as plt\n",
        "%matplotlib inline\n"
      ]
    },
    {
      "cell_type": "markdown",
      "metadata": {
        "id": "j2UQpyeboiK1"
      },
      "source": [
        "#### 例4.3：あるクラス，テストの平均点と補講の効用（片側検定）\n",
        "\n",
        "\n",
        "あるクラスで数学の平均を向上させるための補講の前後でテストを行い効用を知りたい。前後の得点差は1,-1,-2,3,-1,5,4,0,7,-1であった。有意水準$\\alpha=5$%"
      ]
    },
    {
      "cell_type": "code",
      "execution_count": null,
      "metadata": {
        "colab": {
          "base_uri": "https://localhost:8080/"
        },
        "id": "MNz991PToiK1",
        "outputId": "4b77b520-1965-4712-9e67-0cd8ff5cd1fa"
      },
      "outputs": [],
      "source": [
        "data = np.array([1, -1, -2, 3, -1, 5, 4, 0, 7, -1])\n",
        "m = np.average(data) # mean\n",
        "s = np.std(data, ddof=1) # std, ddof=1 : unbiased\n",
        "N = len(data) # the number of sample\n",
        "print(m,s,N)"
      ]
    },
    {
      "cell_type": "code",
      "execution_count": null,
      "metadata": {
        "colab": {
          "base_uri": "https://localhost:8080/"
        },
        "id": "Hv_m19LGoiK1",
        "outputId": "bcc92bc8-a659-4c3f-ae42-822b9d80a633"
      },
      "outputs": [],
      "source": [
        "alp = 0.05\n",
        "# 自由度N-1のt分布で、alphaに対するパーセント点を求める(1-alpa)をppf(percent point function)に入れて求める->talp\n",
        "talp = stats.t.ppf((1-alp),N-1)\n",
        "print('talp (alpha=0.05, df=%d) =%f' %((N-1),talp))\n",
        "\n",
        "m0 = 0 # null hypothesis\n",
        "# 母関数の平均が0が帰無仮説\n",
        "# t値は、は talpより大？小？\n",
        "t = (m-m0)/(s/np.sqrt(N))\n",
        "print('t=', t)"
      ]
    },
    {
      "cell_type": "markdown",
      "metadata": {
        "id": "SxHEgBQ_oiK2"
      },
      "source": [
        "talp > t より，H0は棄却できない。\n",
        "通常は，talp, t のようなpp(percent point)を求めるよりは，\n",
        "p値(p value)を求める。これを次に示す"
      ]
    },
    {
      "cell_type": "code",
      "execution_count": null,
      "metadata": {
        "colab": {
          "base_uri": "https://localhost:8080/"
        },
        "id": "hjhMpxpioiK2",
        "outputId": "b0dba9d6-2401-435b-96cc-3ff4379e9480"
      },
      "outputs": [],
      "source": [
        "prob = stats.t.cdf(t,N-1)\n",
        "print('p value=',1-prob)"
      ]
    },
    {
      "cell_type": "markdown",
      "metadata": {
        "id": "zyb1OsYToiK2"
      },
      "source": [
        "有意水準を0.05 とおくと，これよりp valueの方が大きいので，H0を棄却できない。\n",
        "\n",
        "- 補講の効果がなかった＝帰無仮説$H_0(\\mu_0=0)$、対立仮設は$\\mu_0\\gt0$(片側検定)\n",
        "- p値(0.078)は設定した$\\alpha$(0.05)より大きい→　$H_0$を棄却できない\n",
        "- 分母の$\\hat{\\sigma}$（ばらつき）が大きいとtの値は小さい\n",
        "- ばらつきを小さくすれば棄却できる、補講の効果を立証できる"
      ]
    },
    {
      "cell_type": "markdown",
      "metadata": {},
      "source": [
        "## 分散の検定　（母平均が未知） $\\chi ^2$検定\n",
        "$$\n",
        "\\chi^2 = \\frac{N-1}{\\sigma_0^2} \\hat{\\sigma}^2 \\sim \\chi^2 (N-1)\n",
        "$$\n",
        "上記の$\\chi^2$検定量は自由度$ df = N - 1 $の$\\chi^2$分布に従う（ $df$: Degree of Freedom）<br>\n",
        "scipy.stats.chi2 https://docs.scipy.org/doc/scipy/reference/generated/scipy.stats.chi2.html <br>\n",
        "$\\chi^2$分布は非対称の分布形状である。"
      ]
    },
    {
      "cell_type": "markdown",
      "metadata": {
        "id": "9cRKAd5eoiK2"
      },
      "source": [
        "#### 例4.4：精密部品の直径（両側検定）\n",
        "\n",
        "アルファ社の精密部品について、規格では分散は　$1\\times 10^{-7}$　mm以下としている。このとき母標準偏差は、この規格からずれているか有意水準5%で検定する。$H_0$を$\\mu_0=1.54$,$H_1$を$\\mu_0\\ne1.54$とする"
      ]
    },
    {
      "cell_type": "code",
      "execution_count": null,
      "metadata": {
        "colab": {
          "base_uri": "https://localhost:8080/"
        },
        "id": "S9DUlHyeoiK2",
        "outputId": "454ac0dd-f160-414b-b9d5-c0b6f2ebf530"
      },
      "outputs": [],
      "source": [
        "data2 = np.array([1.5399, 1.5390, 1.5399, 1.5395, 1.5400, 1.5390, 1.5399, 1.5399])\n",
        "m = np.mean(data2)        # mean\n",
        "s = np.std(data2, ddof=1) # std, ddof=1 : unbiased\n",
        "N = len(data2)            # \n",
        "df = N - 1               # DoF (degree of freedom)\n",
        "m0 = 1.54                 # H0 (null hypothesis)\n",
        "print('sample mean =',m,'  std = ',s,' The number of data = ',N)"
      ]
    },
    {
      "cell_type": "code",
      "execution_count": null,
      "metadata": {
        "colab": {
          "base_uri": "https://localhost:8080/"
        },
        "id": "GrULimttoiK2",
        "outputId": "f0fbfb05-1edb-4940-fe03-81dbeed59761"
      },
      "outputs": [],
      "source": [
        "t = (m-m0)/(s/np.sqrt(N))   # サンプルから求まるpp値\n",
        "prob = stats.t.cdf(t, df)\n",
        "if t >=  0:\n",
        "    p = 1 - prob\n",
        "else:\n",
        "    p = prob\n",
        "\n",
        "print('t = ',t)\n",
        "print('p value =',2*p)"
      ]
    },
    {
      "cell_type": "code",
      "execution_count": null,
      "metadata": {
        "colab": {
          "base_uri": "https://localhost:8080/"
        },
        "id": "C_XqbZkloiK3",
        "outputId": "926beea5-e43e-48b7-a787-d278812989e8"
      },
      "outputs": [],
      "source": [
        "data2 = np.array([1.5399, 1.5390, 1.5399, 1.5395, 1.5400, 1.5390, 1.5399, 1.5399])\n",
        "m = np.mean(data2)        # mean\n",
        "s = np.std(data2, ddof=1) # std, ddof=1 : unbiased\n",
        "m0=1.54\n",
        "N = len(data2) \n",
        "t = (m-m0)/(s/np.sqrt(N))   # サンプルから求まるpp値\n",
        "prob = stats.t.cdf(t, N-1)\n",
        "p= (1-prob) if t >= 0 else prob\n",
        "pvalue=2*p\n",
        "pvalue"
      ]
    },
    {
      "cell_type": "code",
      "execution_count": null,
      "metadata": {
        "colab": {
          "base_uri": "https://localhost:8080/"
        },
        "id": "SiAlyI4AoiK3",
        "outputId": "b74dda25-e292-4a4d-b3c2-fdd70a68102f"
      },
      "outputs": [],
      "source": [
        "prob,t,m,s"
      ]
    },
    {
      "cell_type": "markdown",
      "metadata": {
        "id": "mCxR-MP2oiK3"
      },
      "source": [
        "注意：上記のように，tが負の値をとるときは，p = prob とする。  \n",
        "$\\alpha=0.05$と置くならば，p value $< \\alpha$ よりH0を棄却\n",
        "\n",
        "p値(0.0449)は0.05より小さいので、$H_0$を棄却して$H_1$を採用、つまり規格通りでない"
      ]
    },
    {
      "cell_type": "markdown",
      "metadata": {
        "id": "sk66B5AyoiK3"
      },
      "source": [
        "実は，次の関数を用いると計算は楽<br>\n",
        "t, p = scipy.stats.ttest_1samp(data, m0)<br>\n",
        "data: 1群のサンプルデータ<br>\n",
        "m0: 帰無仮説H0で仮定した平均値<br>\n",
        "t: t値<br>\n",
        "p: p値，両側検定を前提としている。片側検定ではこの半分の値を用いる<br>\n",
        "https://docs.scipy.org/doc/scipy/reference/generated/scipy.stats.ttest_1samp.html"
      ]
    },
    {
      "cell_type": "code",
      "execution_count": null,
      "metadata": {
        "colab": {
          "base_uri": "https://localhost:8080/"
        },
        "id": "zT2y1TbloiK3",
        "outputId": "fd1e509e-af55-4d2e-a692-60ed04108f1f"
      },
      "outputs": [],
      "source": [
        "t, p = stats.ttest_1samp(data2, m0)\n",
        "print('t = ',t)\n",
        "print('both side p = ',p)\n",
        "print('one  side p = ',p/2)"
      ]
    },
    {
      "cell_type": "markdown",
      "metadata": {},
      "source": [
        "## 2標本の平均値の差の検定\n",
        "\n",
        "2標本，両方の母分散が共に未知である場合を扱う。この場合ウェルチのt検定（Welch's t-test）を用いる。  \n",
        "統計検定量$t$は複雑ゆえ，次を参照されたい：https://en.wikipedia.org/wiki/Welch%27s_t-test  \n",
        "この自由度は，ウェルチ-サタスウェイトの式（Welch–Satterthwaite equation）より近似的に求められる。\n",
        "https://en.wikipedia.org/wiki/Welch%E2%80%93Satterthwaite_equation  \n",
        "\n",
        "自由度も自動的に計算する関数が次のscipy.stats.ttest_ind,  入力で equal_var = False を指定する  \n",
        "https://docs.scipy.org/doc/scipy/reference/generated/scipy.stats.ttest_ind.html"
      ]
    },
    {
      "cell_type": "markdown",
      "metadata": {},
      "source": [
        "#### 例4.6 ２つの体温計の性能検定\n",
        "２つの体温計s1とs2の測定精度にさがあるかを確かめた測定結果から、両方の平均値の差に有意差があるか否かの検定を行う。帰無仮説=$\\hat{\\mu_x}=\\hat{\\mu_y}$、対立仮設は$\\hat{\\mu_x}\\ne\\hat{\\mu_y}$(両側検定)とする。"
      ]
    },
    {
      "cell_type": "code",
      "execution_count": null,
      "metadata": {},
      "outputs": [],
      "source": [
        "s1 = np.array([37.1, 36.7, 36.6, 37.4, 36.8, 36.7, 36.9, 37.4, 36.6, 36.7])\n",
        "s2 = np.array([36.8, 36.6, 36.5, 37.0, 36.7, 36.5, 36.6, 37.1, 36.4, 36.7])"
      ]
    },
    {
      "cell_type": "markdown",
      "metadata": {},
      "source": [
        "stats.ttest_indを使い、対応がないt検定を行う。\n",
        "\n",
        "２つの集団からの各対象から、１つずつ値を抜き出してきて、平均値の差が有意かどうかを調べる検定。"
      ]
    },
    {
      "cell_type": "code",
      "execution_count": null,
      "metadata": {},
      "outputs": [],
      "source": [
        "t, p = stats.ttest_ind(s1, s2, equal_var = False)\n",
        "print('t = ',t, ' p value = ',p)"
      ]
    },
    {
      "cell_type": "markdown",
      "metadata": {},
      "source": [
        "p値をみると$\\alpha=5$とすると、これより大きいので帰無仮説$H_0$を棄却できない、２つの体温計の平均値が等しいという仮説は棄却できない。"
      ]
    },
    {
      "cell_type": "markdown",
      "metadata": {},
      "source": [
        "## 相関関係、無相関の検定"
      ]
    },
    {
      "cell_type": "code",
      "execution_count": null,
      "metadata": {
        "id": "0MvSN2CaoiK4"
      },
      "outputs": [],
      "source": [
        "from scipy import stats\n",
        "import numpy as np\n",
        "x=np.array([168,172,181,179,166,185,177,176,169,161])\n",
        "y=np.array([111,125,129,120,126,133,130,116,118,115])\n",
        "stats.pearsonr(x,y)"
      ]
    },
    {
      "cell_type": "code",
      "execution_count": null,
      "metadata": {},
      "outputs": [],
      "source": [
        "plt.scatter(x,y)"
      ]
    }
  ],
  "metadata": {
    "colab": {
      "name": "lecture4.ipynb",
      "provenance": []
    },
    "interpreter": {
      "hash": "2db524e06e9f5f4ffedc911c917cb75e12dbc923643829bf417064a77eb14d37"
    },
    "kernelspec": {
      "display_name": "Python 3.8.3 64-bit",
      "language": "python",
      "name": "python3"
    },
    "language_info": {
      "codemirror_mode": {
        "name": "ipython",
        "version": 3
      },
      "file_extension": ".py",
      "mimetype": "text/x-python",
      "name": "python",
      "nbconvert_exporter": "python",
      "pygments_lexer": "ipython3",
      "version": "3.8.3"
    },
    "orig_nbformat": 4
  },
  "nbformat": 4,
  "nbformat_minor": 0
}
