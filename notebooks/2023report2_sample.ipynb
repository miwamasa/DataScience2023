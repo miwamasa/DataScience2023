{
  "cells": [
    {
      "attachments": {},
      "cell_type": "markdown",
      "metadata": {
        "id": "KShbCwqpEKDI"
      },
      "source": [
        "# レポート2(提出期限5/25)\n",
        "\n",
        "**必ず名前と学籍番号を書くこと**\n",
        "\n",
        "名前：\n",
        "\n",
        "学籍番号：\n",
        "\n",
        "## 2.1 線形回帰(10点)\n",
        "\n",
        "seaborn組み込みのダイアモンドの価格データをつかって重回帰分析を行い、\n",
        "適切だと思う説明変数の組み合わせをもとめなさい"
      ]
    },
    {
      "cell_type": "code",
      "execution_count": 1,
      "metadata": {
        "colab": {
          "base_uri": "https://localhost:8080/",
          "height": 423
        },
        "id": "nc-kXAR6EKDO",
        "outputId": "72ea31e6-2b15-47d2-b083-eefb2ef2eaf5"
      },
      "outputs": [
        {
          "data": {
            "text/html": [
              "<div>\n",
              "<style scoped>\n",
              "    .dataframe tbody tr th:only-of-type {\n",
              "        vertical-align: middle;\n",
              "    }\n",
              "\n",
              "    .dataframe tbody tr th {\n",
              "        vertical-align: top;\n",
              "    }\n",
              "\n",
              "    .dataframe thead th {\n",
              "        text-align: right;\n",
              "    }\n",
              "</style>\n",
              "<table border=\"1\" class=\"dataframe\">\n",
              "  <thead>\n",
              "    <tr style=\"text-align: right;\">\n",
              "      <th></th>\n",
              "      <th>carat</th>\n",
              "      <th>cut</th>\n",
              "      <th>color</th>\n",
              "      <th>clarity</th>\n",
              "      <th>depth</th>\n",
              "      <th>table</th>\n",
              "      <th>price</th>\n",
              "      <th>x</th>\n",
              "      <th>y</th>\n",
              "      <th>z</th>\n",
              "    </tr>\n",
              "  </thead>\n",
              "  <tbody>\n",
              "    <tr>\n",
              "      <th>0</th>\n",
              "      <td>0.23</td>\n",
              "      <td>Ideal</td>\n",
              "      <td>E</td>\n",
              "      <td>SI2</td>\n",
              "      <td>61.5</td>\n",
              "      <td>55.0</td>\n",
              "      <td>326</td>\n",
              "      <td>3.95</td>\n",
              "      <td>3.98</td>\n",
              "      <td>2.43</td>\n",
              "    </tr>\n",
              "    <tr>\n",
              "      <th>1</th>\n",
              "      <td>0.21</td>\n",
              "      <td>Premium</td>\n",
              "      <td>E</td>\n",
              "      <td>SI1</td>\n",
              "      <td>59.8</td>\n",
              "      <td>61.0</td>\n",
              "      <td>326</td>\n",
              "      <td>3.89</td>\n",
              "      <td>3.84</td>\n",
              "      <td>2.31</td>\n",
              "    </tr>\n",
              "    <tr>\n",
              "      <th>2</th>\n",
              "      <td>0.23</td>\n",
              "      <td>Good</td>\n",
              "      <td>E</td>\n",
              "      <td>VS1</td>\n",
              "      <td>56.9</td>\n",
              "      <td>65.0</td>\n",
              "      <td>327</td>\n",
              "      <td>4.05</td>\n",
              "      <td>4.07</td>\n",
              "      <td>2.31</td>\n",
              "    </tr>\n",
              "    <tr>\n",
              "      <th>3</th>\n",
              "      <td>0.29</td>\n",
              "      <td>Premium</td>\n",
              "      <td>I</td>\n",
              "      <td>VS2</td>\n",
              "      <td>62.4</td>\n",
              "      <td>58.0</td>\n",
              "      <td>334</td>\n",
              "      <td>4.20</td>\n",
              "      <td>4.23</td>\n",
              "      <td>2.63</td>\n",
              "    </tr>\n",
              "    <tr>\n",
              "      <th>4</th>\n",
              "      <td>0.31</td>\n",
              "      <td>Good</td>\n",
              "      <td>J</td>\n",
              "      <td>SI2</td>\n",
              "      <td>63.3</td>\n",
              "      <td>58.0</td>\n",
              "      <td>335</td>\n",
              "      <td>4.34</td>\n",
              "      <td>4.35</td>\n",
              "      <td>2.75</td>\n",
              "    </tr>\n",
              "    <tr>\n",
              "      <th>...</th>\n",
              "      <td>...</td>\n",
              "      <td>...</td>\n",
              "      <td>...</td>\n",
              "      <td>...</td>\n",
              "      <td>...</td>\n",
              "      <td>...</td>\n",
              "      <td>...</td>\n",
              "      <td>...</td>\n",
              "      <td>...</td>\n",
              "      <td>...</td>\n",
              "    </tr>\n",
              "    <tr>\n",
              "      <th>53935</th>\n",
              "      <td>0.72</td>\n",
              "      <td>Ideal</td>\n",
              "      <td>D</td>\n",
              "      <td>SI1</td>\n",
              "      <td>60.8</td>\n",
              "      <td>57.0</td>\n",
              "      <td>2757</td>\n",
              "      <td>5.75</td>\n",
              "      <td>5.76</td>\n",
              "      <td>3.50</td>\n",
              "    </tr>\n",
              "    <tr>\n",
              "      <th>53936</th>\n",
              "      <td>0.72</td>\n",
              "      <td>Good</td>\n",
              "      <td>D</td>\n",
              "      <td>SI1</td>\n",
              "      <td>63.1</td>\n",
              "      <td>55.0</td>\n",
              "      <td>2757</td>\n",
              "      <td>5.69</td>\n",
              "      <td>5.75</td>\n",
              "      <td>3.61</td>\n",
              "    </tr>\n",
              "    <tr>\n",
              "      <th>53937</th>\n",
              "      <td>0.70</td>\n",
              "      <td>Very Good</td>\n",
              "      <td>D</td>\n",
              "      <td>SI1</td>\n",
              "      <td>62.8</td>\n",
              "      <td>60.0</td>\n",
              "      <td>2757</td>\n",
              "      <td>5.66</td>\n",
              "      <td>5.68</td>\n",
              "      <td>3.56</td>\n",
              "    </tr>\n",
              "    <tr>\n",
              "      <th>53938</th>\n",
              "      <td>0.86</td>\n",
              "      <td>Premium</td>\n",
              "      <td>H</td>\n",
              "      <td>SI2</td>\n",
              "      <td>61.0</td>\n",
              "      <td>58.0</td>\n",
              "      <td>2757</td>\n",
              "      <td>6.15</td>\n",
              "      <td>6.12</td>\n",
              "      <td>3.74</td>\n",
              "    </tr>\n",
              "    <tr>\n",
              "      <th>53939</th>\n",
              "      <td>0.75</td>\n",
              "      <td>Ideal</td>\n",
              "      <td>D</td>\n",
              "      <td>SI2</td>\n",
              "      <td>62.2</td>\n",
              "      <td>55.0</td>\n",
              "      <td>2757</td>\n",
              "      <td>5.83</td>\n",
              "      <td>5.87</td>\n",
              "      <td>3.64</td>\n",
              "    </tr>\n",
              "  </tbody>\n",
              "</table>\n",
              "<p>53940 rows × 10 columns</p>\n",
              "</div>"
            ],
            "text/plain": [
              "       carat        cut color clarity  depth  table  price     x     y     z\n",
              "0       0.23      Ideal     E     SI2   61.5   55.0    326  3.95  3.98  2.43\n",
              "1       0.21    Premium     E     SI1   59.8   61.0    326  3.89  3.84  2.31\n",
              "2       0.23       Good     E     VS1   56.9   65.0    327  4.05  4.07  2.31\n",
              "3       0.29    Premium     I     VS2   62.4   58.0    334  4.20  4.23  2.63\n",
              "4       0.31       Good     J     SI2   63.3   58.0    335  4.34  4.35  2.75\n",
              "...      ...        ...   ...     ...    ...    ...    ...   ...   ...   ...\n",
              "53935   0.72      Ideal     D     SI1   60.8   57.0   2757  5.75  5.76  3.50\n",
              "53936   0.72       Good     D     SI1   63.1   55.0   2757  5.69  5.75  3.61\n",
              "53937   0.70  Very Good     D     SI1   62.8   60.0   2757  5.66  5.68  3.56\n",
              "53938   0.86    Premium     H     SI2   61.0   58.0   2757  6.15  6.12  3.74\n",
              "53939   0.75      Ideal     D     SI2   62.2   55.0   2757  5.83  5.87  3.64\n",
              "\n",
              "[53940 rows x 10 columns]"
            ]
          },
          "execution_count": 1,
          "metadata": {},
          "output_type": "execute_result"
        }
      ],
      "source": [
        "import pandas as pd\n",
        "import seaborn as sns\n",
        "import statsmodels.api as sm\n",
        "import statsmodels.formula.api as smf\n",
        "import matplotlib.pyplot as plt\n",
        "%matplotlib inline\n",
        "\n",
        "# データの取得・確認\n",
        "diamond = sns.load_dataset('diamonds')\n",
        "diamond"
      ]
    },
    {
      "cell_type": "code",
      "execution_count": 2,
      "metadata": {},
      "outputs": [
        {
          "data": {
            "text/plain": [
              "carat       float64\n",
              "cut        category\n",
              "color      category\n",
              "clarity    category\n",
              "depth       float64\n",
              "table       float64\n",
              "price         int64\n",
              "x           float64\n",
              "y           float64\n",
              "z           float64\n",
              "dtype: object"
            ]
          },
          "execution_count": 2,
          "metadata": {},
          "output_type": "execute_result"
        }
      ],
      "source": [
        "diamond.dtypes"
      ]
    },
    {
      "cell_type": "code",
      "execution_count": 3,
      "metadata": {},
      "outputs": [
        {
          "data": {
            "text/html": [
              "<div>\n",
              "<style scoped>\n",
              "    .dataframe tbody tr th:only-of-type {\n",
              "        vertical-align: middle;\n",
              "    }\n",
              "\n",
              "    .dataframe tbody tr th {\n",
              "        vertical-align: top;\n",
              "    }\n",
              "\n",
              "    .dataframe thead th {\n",
              "        text-align: right;\n",
              "    }\n",
              "</style>\n",
              "<table border=\"1\" class=\"dataframe\">\n",
              "  <thead>\n",
              "    <tr style=\"text-align: right;\">\n",
              "      <th></th>\n",
              "      <th>carat</th>\n",
              "      <th>depth</th>\n",
              "      <th>table</th>\n",
              "      <th>price</th>\n",
              "      <th>x</th>\n",
              "      <th>y</th>\n",
              "      <th>z</th>\n",
              "    </tr>\n",
              "  </thead>\n",
              "  <tbody>\n",
              "    <tr>\n",
              "      <th>count</th>\n",
              "      <td>53940.000000</td>\n",
              "      <td>53940.000000</td>\n",
              "      <td>53940.000000</td>\n",
              "      <td>53940.000000</td>\n",
              "      <td>53940.000000</td>\n",
              "      <td>53940.000000</td>\n",
              "      <td>53940.000000</td>\n",
              "    </tr>\n",
              "    <tr>\n",
              "      <th>mean</th>\n",
              "      <td>0.797940</td>\n",
              "      <td>61.749405</td>\n",
              "      <td>57.457184</td>\n",
              "      <td>3932.799722</td>\n",
              "      <td>5.731157</td>\n",
              "      <td>5.734526</td>\n",
              "      <td>3.538734</td>\n",
              "    </tr>\n",
              "    <tr>\n",
              "      <th>std</th>\n",
              "      <td>0.474011</td>\n",
              "      <td>1.432621</td>\n",
              "      <td>2.234491</td>\n",
              "      <td>3989.439738</td>\n",
              "      <td>1.121761</td>\n",
              "      <td>1.142135</td>\n",
              "      <td>0.705699</td>\n",
              "    </tr>\n",
              "    <tr>\n",
              "      <th>min</th>\n",
              "      <td>0.200000</td>\n",
              "      <td>43.000000</td>\n",
              "      <td>43.000000</td>\n",
              "      <td>326.000000</td>\n",
              "      <td>0.000000</td>\n",
              "      <td>0.000000</td>\n",
              "      <td>0.000000</td>\n",
              "    </tr>\n",
              "    <tr>\n",
              "      <th>25%</th>\n",
              "      <td>0.400000</td>\n",
              "      <td>61.000000</td>\n",
              "      <td>56.000000</td>\n",
              "      <td>950.000000</td>\n",
              "      <td>4.710000</td>\n",
              "      <td>4.720000</td>\n",
              "      <td>2.910000</td>\n",
              "    </tr>\n",
              "    <tr>\n",
              "      <th>50%</th>\n",
              "      <td>0.700000</td>\n",
              "      <td>61.800000</td>\n",
              "      <td>57.000000</td>\n",
              "      <td>2401.000000</td>\n",
              "      <td>5.700000</td>\n",
              "      <td>5.710000</td>\n",
              "      <td>3.530000</td>\n",
              "    </tr>\n",
              "    <tr>\n",
              "      <th>75%</th>\n",
              "      <td>1.040000</td>\n",
              "      <td>62.500000</td>\n",
              "      <td>59.000000</td>\n",
              "      <td>5324.250000</td>\n",
              "      <td>6.540000</td>\n",
              "      <td>6.540000</td>\n",
              "      <td>4.040000</td>\n",
              "    </tr>\n",
              "    <tr>\n",
              "      <th>max</th>\n",
              "      <td>5.010000</td>\n",
              "      <td>79.000000</td>\n",
              "      <td>95.000000</td>\n",
              "      <td>18823.000000</td>\n",
              "      <td>10.740000</td>\n",
              "      <td>58.900000</td>\n",
              "      <td>31.800000</td>\n",
              "    </tr>\n",
              "  </tbody>\n",
              "</table>\n",
              "</div>"
            ],
            "text/plain": [
              "              carat         depth         table         price             x  \\\n",
              "count  53940.000000  53940.000000  53940.000000  53940.000000  53940.000000   \n",
              "mean       0.797940     61.749405     57.457184   3932.799722      5.731157   \n",
              "std        0.474011      1.432621      2.234491   3989.439738      1.121761   \n",
              "min        0.200000     43.000000     43.000000    326.000000      0.000000   \n",
              "25%        0.400000     61.000000     56.000000    950.000000      4.710000   \n",
              "50%        0.700000     61.800000     57.000000   2401.000000      5.700000   \n",
              "75%        1.040000     62.500000     59.000000   5324.250000      6.540000   \n",
              "max        5.010000     79.000000     95.000000  18823.000000     10.740000   \n",
              "\n",
              "                  y             z  \n",
              "count  53940.000000  53940.000000  \n",
              "mean       5.734526      3.538734  \n",
              "std        1.142135      0.705699  \n",
              "min        0.000000      0.000000  \n",
              "25%        4.720000      2.910000  \n",
              "50%        5.710000      3.530000  \n",
              "75%        6.540000      4.040000  \n",
              "max       58.900000     31.800000  "
            ]
          },
          "execution_count": 3,
          "metadata": {},
          "output_type": "execute_result"
        }
      ],
      "source": [
        "diamond.describe()"
      ]
    },
    {
      "attachments": {},
      "cell_type": "markdown",
      "metadata": {},
      "source": [
        "分離してみる\n",
        "\n",
        "訓練データとテストデータに分割してみます。(**第9回講義P7、ホールドアウトと交差検証**)"
      ]
    },
    {
      "cell_type": "code",
      "execution_count": 4,
      "metadata": {},
      "outputs": [],
      "source": [
        "from sklearn.model_selection import train_test_split\n",
        "x = diamond.drop(\"price\",axis=1)\n",
        "y = diamond.pop(\"price\")\n",
        "\n",
        "x_train, x_test , y_train, y_test = train_test_split(x,y,test_size = 0.2, random_state = 1)"
      ]
    },
    {
      "attachments": {},
      "cell_type": "markdown",
      "metadata": {},
      "source": [
        "とりあえず全部のパラメータをいれてみる。"
      ]
    },
    {
      "cell_type": "code",
      "execution_count": 5,
      "metadata": {},
      "outputs": [],
      "source": [
        "df_train = pd.concat([x_train, y_train], axis = 1)"
      ]
    },
    {
      "cell_type": "code",
      "execution_count": 6,
      "metadata": {
        "id": "zXVDH3NTEKDQ"
      },
      "outputs": [
        {
          "data": {
            "text/html": [
              "<table class=\"simpletable\">\n",
              "<tr>\n",
              "        <td>Model:</td>               <td>GLM</td>            <td>AIC:</td>          <td>729737.5906</td>  \n",
              "</tr>\n",
              "<tr>\n",
              "    <td>Link Function:</td>        <td>identity</td>          <td>BIC:</td>       <td>55761532202.6060</td>\n",
              "</tr>\n",
              "<tr>\n",
              "  <td>Dependent Variable:</td>       <td>price</td>      <td>Log-Likelihood:</td>    <td>-3.6484e+05</td>  \n",
              "</tr>\n",
              "<tr>\n",
              "         <td>Date:</td>        <td>2023-05-27 10:39</td>    <td>LL-Null:</td>        <td>-6.1044e+05</td>  \n",
              "</tr>\n",
              "<tr>\n",
              "   <td>No. Observations:</td>        <td>43152</td>         <td>Deviance:</td>       <td>5.5762e+10</td>   \n",
              "</tr>\n",
              "<tr>\n",
              "       <td>Df Model:</td>             <td>23</td>         <td>Pearson chi2:</td>      <td>5.58e+10</td>    \n",
              "</tr>\n",
              "<tr>\n",
              "     <td>Df Residuals:</td>          <td>43128</td>          <td>Scale:</td>         <td>1.2929e+06</td>   \n",
              "</tr>\n",
              "<tr>\n",
              "        <td>Method:</td>             <td>IRLS</td>              <td></td>                 <td></td>        \n",
              "</tr>\n",
              "</table>\n",
              "<table class=\"simpletable\">\n",
              "<tr>\n",
              "          <td></td>            <th>Coef.</th>   <th>Std.Err.</th>     <th>z</th>     <th>P>|z|</th>   <th>[0.025</th>     <th>0.975]</th>  \n",
              "</tr>\n",
              "<tr>\n",
              "  <th>Intercept</th>         <td>8039.3772</td> <td>433.4326</td>  <td>18.5482</td> <td>0.0000</td>  <td>7189.8648</td>  <td>8888.8895</td>\n",
              "</tr>\n",
              "<tr>\n",
              "  <th>color[T.E]</th>        <td>-223.4052</td>  <td>20.1161</td> <td>-11.1058</td> <td>0.0000</td>  <td>-262.8320</td>  <td>-183.9783</td>\n",
              "</tr>\n",
              "<tr>\n",
              "  <th>color[T.F]</th>        <td>-282.9233</td>  <td>20.3688</td> <td>-13.8900</td> <td>0.0000</td>  <td>-322.8455</td>  <td>-243.0011</td>\n",
              "</tr>\n",
              "<tr>\n",
              "  <th>color[T.G]</th>        <td>-492.1973</td>  <td>19.9387</td> <td>-24.6856</td> <td>0.0000</td>  <td>-531.2763</td>  <td>-453.1183</td>\n",
              "</tr>\n",
              "<tr>\n",
              "  <th>color[T.H]</th>        <td>-988.0699</td>  <td>21.2226</td> <td>-46.5574</td> <td>0.0000</td> <td>-1029.6655</td>  <td>-946.4743</td>\n",
              "</tr>\n",
              "<tr>\n",
              "  <th>color[T.I]</th>       <td>-1465.8882</td>  <td>23.7800</td> <td>-61.6439</td> <td>0.0000</td> <td>-1512.4961</td> <td>-1419.2804</td>\n",
              "</tr>\n",
              "<tr>\n",
              "  <th>color[T.J]</th>       <td>-2371.6690</td>  <td>29.4191</td> <td>-80.6168</td> <td>0.0000</td> <td>-2429.3293</td> <td>-2314.0087</td>\n",
              "</tr>\n",
              "<tr>\n",
              "  <th>clarity[T.VVS1]</th>   <td>-351.9432</td>  <td>36.6364</td>  <td>-9.6064</td> <td>0.0000</td>  <td>-423.7492</td>  <td>-280.1373</td>\n",
              "</tr>\n",
              "<tr>\n",
              "  <th>clarity[T.VVS2]</th>   <td>-426.5601</td>  <td>35.0363</td> <td>-12.1748</td> <td>0.0000</td>  <td>-495.2300</td>  <td>-357.8902</td>\n",
              "</tr>\n",
              "<tr>\n",
              "  <th>clarity[T.VS1]</th>    <td>-783.8550</td>  <td>33.4686</td> <td>-23.4206</td> <td>0.0000</td>  <td>-849.4522</td>  <td>-718.2578</td>\n",
              "</tr>\n",
              "<tr>\n",
              "  <th>clarity[T.VS2]</th>   <td>-1104.1529</td>  <td>32.6782</td> <td>-33.7886</td> <td>0.0000</td> <td>-1168.2010</td> <td>-1040.1047</td>\n",
              "</tr>\n",
              "<tr>\n",
              "  <th>clarity[T.SI1]</th>   <td>-1707.7349</td>  <td>32.9348</td> <td>-51.8520</td> <td>0.0000</td> <td>-1772.2859</td> <td>-1643.1839</td>\n",
              "</tr>\n",
              "<tr>\n",
              "  <th>clarity[T.SI2]</th>   <td>-2655.2723</td>  <td>34.2359</td> <td>-77.5582</td> <td>0.0000</td> <td>-2722.3734</td> <td>-2588.1712</td>\n",
              "</tr>\n",
              "<tr>\n",
              "  <th>clarity[T.I1]</th>    <td>-5455.7226</td>  <td>57.9553</td> <td>-94.1368</td> <td>0.0000</td> <td>-5569.3128</td> <td>-5342.1323</td>\n",
              "</tr>\n",
              "<tr>\n",
              "  <th>cut[T.Premium]</th>    <td>-70.3491</td>   <td>16.4068</td>  <td>-4.2878</td> <td>0.0000</td>  <td>-102.5059</td>  <td>-38.1923</td> \n",
              "</tr>\n",
              "<tr>\n",
              "  <th>cut[T.Very Good]</th>  <td>-98.5277</td>   <td>16.0132</td>  <td>-6.1529</td> <td>0.0000</td>  <td>-129.9130</td>  <td>-67.1425</td> \n",
              "</tr>\n",
              "<tr>\n",
              "  <th>cut[T.Good]</th>       <td>-255.7226</td>  <td>22.7516</td> <td>-11.2398</td> <td>0.0000</td>  <td>-300.3150</td>  <td>-211.1303</td>\n",
              "</tr>\n",
              "<tr>\n",
              "  <th>cut[T.Fair]</th>       <td>-851.0372</td>  <td>37.8432</td> <td>-22.4885</td> <td>0.0000</td>  <td>-925.2085</td>  <td>-776.8660</td>\n",
              "</tr>\n",
              "<tr>\n",
              "  <th>carat</th>            <td>11165.1575</td>  <td>54.0158</td> <td>206.7017</td> <td>0.0000</td> <td>11059.2885</td> <td>11271.0266</td>\n",
              "</tr>\n",
              "<tr>\n",
              "  <th>depth</th>             <td>-61.4432</td>   <td>5.0075</td>  <td>-12.2701</td> <td>0.0000</td>  <td>-71.2578</td>   <td>-51.6286</td> \n",
              "</tr>\n",
              "<tr>\n",
              "  <th>table</th>             <td>-25.1122</td>   <td>3.2705</td>   <td>-7.6783</td> <td>0.0000</td>  <td>-31.5223</td>   <td>-18.7021</td> \n",
              "</tr>\n",
              "<tr>\n",
              "  <th>x</th>                 <td>-976.1594</td>  <td>34.8988</td> <td>-27.9712</td> <td>0.0000</td> <td>-1044.5597</td>  <td>-907.7590</td>\n",
              "</tr>\n",
              "<tr>\n",
              "  <th>y</th>                  <td>1.7770</td>    <td>19.5308</td>  <td>0.0910</td>  <td>0.9275</td>  <td>-36.5026</td>    <td>40.0567</td> \n",
              "</tr>\n",
              "<tr>\n",
              "  <th>z</th>                 <td>-32.1680</td>   <td>34.8269</td>  <td>-0.9237</td> <td>0.3557</td>  <td>-100.4275</td>   <td>36.0916</td> \n",
              "</tr>\n",
              "</table>"
            ],
            "text/plain": [
              "<class 'statsmodels.iolib.summary2.Summary'>\n",
              "\"\"\"\n",
              "                    Results: Generalized linear model\n",
              "==========================================================================\n",
              "Model:                 GLM               AIC:             729737.5906     \n",
              "Link Function:         identity          BIC:             55761532202.6060\n",
              "Dependent Variable:    price             Log-Likelihood:  -3.6484e+05     \n",
              "Date:                  2023-05-27 10:39  LL-Null:         -6.1044e+05     \n",
              "No. Observations:      43152             Deviance:        5.5762e+10      \n",
              "Df Model:              23                Pearson chi2:    5.58e+10        \n",
              "Df Residuals:          43128             Scale:           1.2929e+06      \n",
              "Method:                IRLS                                               \n",
              "--------------------------------------------------------------------------\n",
              "                   Coef.    Std.Err.    z     P>|z|    [0.025     0.975]  \n",
              "--------------------------------------------------------------------------\n",
              "Intercept         8039.3772 433.4326  18.5482 0.0000  7189.8648  8888.8895\n",
              "color[T.E]        -223.4052  20.1161 -11.1058 0.0000  -262.8320  -183.9783\n",
              "color[T.F]        -282.9233  20.3688 -13.8900 0.0000  -322.8455  -243.0011\n",
              "color[T.G]        -492.1973  19.9387 -24.6856 0.0000  -531.2763  -453.1183\n",
              "color[T.H]        -988.0699  21.2226 -46.5574 0.0000 -1029.6655  -946.4743\n",
              "color[T.I]       -1465.8882  23.7800 -61.6439 0.0000 -1512.4961 -1419.2804\n",
              "color[T.J]       -2371.6690  29.4191 -80.6168 0.0000 -2429.3293 -2314.0087\n",
              "clarity[T.VVS1]   -351.9432  36.6364  -9.6064 0.0000  -423.7492  -280.1373\n",
              "clarity[T.VVS2]   -426.5601  35.0363 -12.1748 0.0000  -495.2300  -357.8902\n",
              "clarity[T.VS1]    -783.8550  33.4686 -23.4206 0.0000  -849.4522  -718.2578\n",
              "clarity[T.VS2]   -1104.1529  32.6782 -33.7886 0.0000 -1168.2010 -1040.1047\n",
              "clarity[T.SI1]   -1707.7349  32.9348 -51.8520 0.0000 -1772.2859 -1643.1839\n",
              "clarity[T.SI2]   -2655.2723  34.2359 -77.5582 0.0000 -2722.3734 -2588.1712\n",
              "clarity[T.I1]    -5455.7226  57.9553 -94.1368 0.0000 -5569.3128 -5342.1323\n",
              "cut[T.Premium]     -70.3491  16.4068  -4.2878 0.0000  -102.5059   -38.1923\n",
              "cut[T.Very Good]   -98.5277  16.0132  -6.1529 0.0000  -129.9130   -67.1425\n",
              "cut[T.Good]       -255.7226  22.7516 -11.2398 0.0000  -300.3150  -211.1303\n",
              "cut[T.Fair]       -851.0372  37.8432 -22.4885 0.0000  -925.2085  -776.8660\n",
              "carat            11165.1575  54.0158 206.7017 0.0000 11059.2885 11271.0266\n",
              "depth              -61.4432   5.0075 -12.2701 0.0000   -71.2578   -51.6286\n",
              "table              -25.1122   3.2705  -7.6783 0.0000   -31.5223   -18.7021\n",
              "x                 -976.1594  34.8988 -27.9712 0.0000 -1044.5597  -907.7590\n",
              "y                    1.7770  19.5308   0.0910 0.9275   -36.5026    40.0567\n",
              "z                  -32.1680  34.8269  -0.9237 0.3557  -100.4275    36.0916\n",
              "==========================================================================\n",
              "\n",
              "\"\"\""
            ]
          },
          "execution_count": 6,
          "metadata": {},
          "output_type": "execute_result"
        }
      ],
      "source": [
        "#　回帰の実施\n",
        "\n",
        "import statsmodels.formula.api as smf\n",
        "model = smf.glm('price ~ carat + color + clarity +depth+table+cut+x+y+z', df_train) \n",
        "fit = model.fit()                                \n",
        "fit.summary2()"
      ]
    },
    {
      "attachments": {},
      "cell_type": "markdown",
      "metadata": {},
      "source": [
        "cut,color,clarityはカテゴリ変数として認識してくれている鵜です。\n",
        "\n",
        "p値から y,zを外します"
      ]
    },
    {
      "cell_type": "code",
      "execution_count": 7,
      "metadata": {},
      "outputs": [
        {
          "data": {
            "text/html": [
              "<table class=\"simpletable\">\n",
              "<tr>\n",
              "        <td>Model:</td>               <td>GLM</td>            <td>AIC:</td>          <td>729734.4451</td>  \n",
              "</tr>\n",
              "<tr>\n",
              "    <td>Link Function:</td>        <td>identity</td>          <td>BIC:</td>       <td>55762636419.4462</td>\n",
              "</tr>\n",
              "<tr>\n",
              "  <td>Dependent Variable:</td>       <td>price</td>      <td>Log-Likelihood:</td>    <td>-3.6485e+05</td>  \n",
              "</tr>\n",
              "<tr>\n",
              "         <td>Date:</td>        <td>2023-05-27 10:39</td>    <td>LL-Null:</td>        <td>-6.1045e+05</td>  \n",
              "</tr>\n",
              "<tr>\n",
              "   <td>No. Observations:</td>        <td>43152</td>         <td>Deviance:</td>       <td>5.5763e+10</td>   \n",
              "</tr>\n",
              "<tr>\n",
              "       <td>Df Model:</td>             <td>21</td>         <td>Pearson chi2:</td>      <td>5.58e+10</td>    \n",
              "</tr>\n",
              "<tr>\n",
              "     <td>Df Residuals:</td>          <td>43130</td>          <td>Scale:</td>         <td>1.2929e+06</td>   \n",
              "</tr>\n",
              "<tr>\n",
              "        <td>Method:</td>             <td>IRLS</td>              <td></td>                 <td></td>        \n",
              "</tr>\n",
              "</table>\n",
              "<table class=\"simpletable\">\n",
              "<tr>\n",
              "          <td></td>            <th>Coef.</th>   <th>Std.Err.</th>     <th>z</th>     <th>P>|z|</th>   <th>[0.025</th>     <th>0.975]</th>  \n",
              "</tr>\n",
              "<tr>\n",
              "  <th>Intercept</th>         <td>8150.6046</td> <td>415.8742</td>  <td>19.5987</td> <td>0.0000</td>  <td>7335.5061</td>  <td>8965.7031</td>\n",
              "</tr>\n",
              "<tr>\n",
              "  <th>color[T.E]</th>        <td>-223.5207</td>  <td>20.1154</td> <td>-11.1119</td> <td>0.0000</td>  <td>-262.9461</td>  <td>-184.0953</td>\n",
              "</tr>\n",
              "<tr>\n",
              "  <th>color[T.F]</th>        <td>-282.9116</td>  <td>20.3685</td> <td>-13.8896</td> <td>0.0000</td>  <td>-322.8332</td>  <td>-242.9901</td>\n",
              "</tr>\n",
              "<tr>\n",
              "  <th>color[T.G]</th>        <td>-492.1413</td>  <td>19.9383</td> <td>-24.6832</td> <td>0.0000</td>  <td>-531.2196</td>  <td>-453.0629</td>\n",
              "</tr>\n",
              "<tr>\n",
              "  <th>color[T.H]</th>        <td>-988.0063</td>  <td>21.2222</td> <td>-46.5554</td> <td>0.0000</td> <td>-1029.6010</td>  <td>-946.4116</td>\n",
              "</tr>\n",
              "<tr>\n",
              "  <th>color[T.I]</th>       <td>-1465.8400</td>  <td>23.7796</td> <td>-61.6429</td> <td>0.0000</td> <td>-1512.4470</td> <td>-1419.2329</td>\n",
              "</tr>\n",
              "<tr>\n",
              "  <th>color[T.J]</th>       <td>-2371.7377</td>  <td>29.4186</td> <td>-80.6205</td> <td>0.0000</td> <td>-2429.3970</td> <td>-2314.0784</td>\n",
              "</tr>\n",
              "<tr>\n",
              "  <th>clarity[T.VVS1]</th>   <td>-351.8876</td>  <td>36.6357</td>  <td>-9.6051</td> <td>0.0000</td>  <td>-423.6921</td>  <td>-280.0830</td>\n",
              "</tr>\n",
              "<tr>\n",
              "  <th>clarity[T.VVS2]</th>   <td>-426.4658</td>  <td>35.0356</td> <td>-12.1723</td> <td>0.0000</td>  <td>-495.1344</td>  <td>-357.7973</td>\n",
              "</tr>\n",
              "<tr>\n",
              "  <th>clarity[T.VS1]</th>    <td>-783.9208</td>  <td>33.4681</td> <td>-23.4230</td> <td>0.0000</td>  <td>-849.5170</td>  <td>-718.3246</td>\n",
              "</tr>\n",
              "<tr>\n",
              "  <th>clarity[T.VS2]</th>   <td>-1104.0498</td>  <td>32.6773</td> <td>-33.7864</td> <td>0.0000</td> <td>-1168.0961</td> <td>-1040.0034</td>\n",
              "</tr>\n",
              "<tr>\n",
              "  <th>clarity[T.SI1]</th>   <td>-1707.5664</td>  <td>32.9336</td> <td>-51.8487</td> <td>0.0000</td> <td>-1772.1151</td> <td>-1643.0176</td>\n",
              "</tr>\n",
              "<tr>\n",
              "  <th>clarity[T.SI2]</th>   <td>-2655.0729</td>  <td>34.2346</td> <td>-77.5553</td> <td>0.0000</td> <td>-2722.1715</td> <td>-2587.9744</td>\n",
              "</tr>\n",
              "<tr>\n",
              "  <th>clarity[T.I1]</th>    <td>-5454.8966</td>  <td>57.9428</td> <td>-94.1427</td> <td>0.0000</td> <td>-5568.4625</td> <td>-5341.3308</td>\n",
              "</tr>\n",
              "<tr>\n",
              "  <th>cut[T.Premium]</th>    <td>-70.0615</td>   <td>16.3920</td>  <td>-4.2741</td> <td>0.0000</td>  <td>-102.1892</td>  <td>-37.9338</td> \n",
              "</tr>\n",
              "<tr>\n",
              "  <th>cut[T.Very Good]</th>  <td>-98.8767</td>   <td>16.0021</td>  <td>-6.1790</td> <td>0.0000</td>  <td>-130.2403</td>  <td>-67.5132</td> \n",
              "</tr>\n",
              "<tr>\n",
              "  <th>cut[T.Good]</th>       <td>-255.7171</td>  <td>22.7497</td> <td>-11.2405</td> <td>0.0000</td>  <td>-300.3057</td>  <td>-211.1285</td>\n",
              "</tr>\n",
              "<tr>\n",
              "  <th>cut[T.Fair]</th>       <td>-851.1804</td>  <td>37.8312</td> <td>-22.4995</td> <td>0.0000</td>  <td>-925.3281</td>  <td>-777.0327</td>\n",
              "</tr>\n",
              "<tr>\n",
              "  <th>carat</th>            <td>11164.9182</td>  <td>53.9842</td> <td>206.8182</td> <td>0.0000</td> <td>11059.1111</td> <td>11270.7253</td>\n",
              "</tr>\n",
              "<tr>\n",
              "  <th>depth</th>             <td>-63.2971</td>   <td>4.5829</td>  <td>-13.8117</td> <td>0.0000</td>  <td>-72.2793</td>   <td>-54.3148</td> \n",
              "</tr>\n",
              "<tr>\n",
              "  <th>table</th>             <td>-25.0726</td>   <td>3.2696</td>   <td>-7.6684</td> <td>0.0000</td>  <td>-31.4809</td>   <td>-18.6643</td> \n",
              "</tr>\n",
              "<tr>\n",
              "  <th>x</th>                 <td>-994.0603</td>  <td>22.8366</td> <td>-43.5293</td> <td>0.0000</td> <td>-1038.8192</td>  <td>-949.3015</td>\n",
              "</tr>\n",
              "</table>"
            ],
            "text/plain": [
              "<class 'statsmodels.iolib.summary2.Summary'>\n",
              "\"\"\"\n",
              "                    Results: Generalized linear model\n",
              "==========================================================================\n",
              "Model:                 GLM               AIC:             729734.4451     \n",
              "Link Function:         identity          BIC:             55762636419.4462\n",
              "Dependent Variable:    price             Log-Likelihood:  -3.6485e+05     \n",
              "Date:                  2023-05-27 10:39  LL-Null:         -6.1045e+05     \n",
              "No. Observations:      43152             Deviance:        5.5763e+10      \n",
              "Df Model:              21                Pearson chi2:    5.58e+10        \n",
              "Df Residuals:          43130             Scale:           1.2929e+06      \n",
              "Method:                IRLS                                               \n",
              "--------------------------------------------------------------------------\n",
              "                   Coef.    Std.Err.    z     P>|z|    [0.025     0.975]  \n",
              "--------------------------------------------------------------------------\n",
              "Intercept         8150.6046 415.8742  19.5987 0.0000  7335.5061  8965.7031\n",
              "color[T.E]        -223.5207  20.1154 -11.1119 0.0000  -262.9461  -184.0953\n",
              "color[T.F]        -282.9116  20.3685 -13.8896 0.0000  -322.8332  -242.9901\n",
              "color[T.G]        -492.1413  19.9383 -24.6832 0.0000  -531.2196  -453.0629\n",
              "color[T.H]        -988.0063  21.2222 -46.5554 0.0000 -1029.6010  -946.4116\n",
              "color[T.I]       -1465.8400  23.7796 -61.6429 0.0000 -1512.4470 -1419.2329\n",
              "color[T.J]       -2371.7377  29.4186 -80.6205 0.0000 -2429.3970 -2314.0784\n",
              "clarity[T.VVS1]   -351.8876  36.6357  -9.6051 0.0000  -423.6921  -280.0830\n",
              "clarity[T.VVS2]   -426.4658  35.0356 -12.1723 0.0000  -495.1344  -357.7973\n",
              "clarity[T.VS1]    -783.9208  33.4681 -23.4230 0.0000  -849.5170  -718.3246\n",
              "clarity[T.VS2]   -1104.0498  32.6773 -33.7864 0.0000 -1168.0961 -1040.0034\n",
              "clarity[T.SI1]   -1707.5664  32.9336 -51.8487 0.0000 -1772.1151 -1643.0176\n",
              "clarity[T.SI2]   -2655.0729  34.2346 -77.5553 0.0000 -2722.1715 -2587.9744\n",
              "clarity[T.I1]    -5454.8966  57.9428 -94.1427 0.0000 -5568.4625 -5341.3308\n",
              "cut[T.Premium]     -70.0615  16.3920  -4.2741 0.0000  -102.1892   -37.9338\n",
              "cut[T.Very Good]   -98.8767  16.0021  -6.1790 0.0000  -130.2403   -67.5132\n",
              "cut[T.Good]       -255.7171  22.7497 -11.2405 0.0000  -300.3057  -211.1285\n",
              "cut[T.Fair]       -851.1804  37.8312 -22.4995 0.0000  -925.3281  -777.0327\n",
              "carat            11164.9182  53.9842 206.8182 0.0000 11059.1111 11270.7253\n",
              "depth              -63.2971   4.5829 -13.8117 0.0000   -72.2793   -54.3148\n",
              "table              -25.0726   3.2696  -7.6684 0.0000   -31.4809   -18.6643\n",
              "x                 -994.0603  22.8366 -43.5293 0.0000 -1038.8192  -949.3015\n",
              "==========================================================================\n",
              "\n",
              "\"\"\""
            ]
          },
          "execution_count": 7,
          "metadata": {},
          "output_type": "execute_result"
        }
      ],
      "source": [
        "model = smf.glm('price ~ carat + color + clarity +depth+table+cut+x', df_train) \n",
        "fit = model.fit()                                \n",
        "fit.summary2()"
      ]
    },
    {
      "attachments": {},
      "cell_type": "markdown",
      "metadata": {},
      "source": [
        "AICが小さくなるうな説明変数を探します、ステップワイズ法みたいに、要素を１つづつ削ります。(**第8回講義P13、ステップワイズ法**)"
      ]
    },
    {
      "cell_type": "code",
      "execution_count": 8,
      "metadata": {},
      "outputs": [],
      "source": [
        "xs = ['carat', 'color', 'clarity','depth','table','cut','x']"
      ]
    },
    {
      "attachments": {},
      "cell_type": "markdown",
      "metadata": {},
      "source": [
        "ここで、便利関数"
      ]
    },
    {
      "cell_type": "code",
      "execution_count": 9,
      "metadata": {},
      "outputs": [],
      "source": [
        "def calc_aic(lst):\n",
        "    for key in lst:\n",
        "        xs_copy=lst.copy()\n",
        "        xs_copy.remove(key)\n",
        "        model = smf.glm('price ~ '+'+'.join(xs_copy), df_train) \n",
        "        fit = model.fit()\n",
        "        print('AIC={},formula={}'.format(fit.aic,'+'.join(xs_copy)))"
      ]
    },
    {
      "cell_type": "code",
      "execution_count": 10,
      "metadata": {},
      "outputs": [
        {
          "name": "stdout",
          "output_type": "stream",
          "text": [
            "AIC=759464.5615788092,formula=color+clarity+depth+table+cut+x\n",
            "AIC=739124.0398538797,formula=carat+clarity+depth+table+cut+x\n",
            "AIC=747595.7729574967,formula=carat+color+depth+table+cut+x\n",
            "AIC=729922.8839783934,formula=carat+color+clarity+table+cut+x\n",
            "AIC=729791.2390501727,formula=carat+color+clarity+depth+cut+x\n",
            "AIC=730275.3880864399,formula=carat+color+clarity+depth+table+x\n",
            "AIC=731587.7513980217,formula=carat+color+clarity+depth+table+cut\n"
          ]
        }
      ],
      "source": [
        "calc_aic(xs)"
      ]
    },
    {
      "attachments": {},
      "cell_type": "markdown",
      "metadata": {},
      "source": [
        "'table'がいらない用です"
      ]
    },
    {
      "cell_type": "code",
      "execution_count": 11,
      "metadata": {},
      "outputs": [
        {
          "name": "stdout",
          "output_type": "stream",
          "text": [
            "AIC=759463.5152687448,formula=color+clarity+depth+cut+x\n",
            "AIC=739175.6919793173,formula=carat+clarity+depth+cut+x\n",
            "AIC=747689.1881092564,formula=carat+color+depth+cut+x\n",
            "AIC=729926.3653823793,formula=carat+color+clarity+cut+x\n",
            "AIC=730666.8688610541,formula=carat+color+clarity+depth+x\n",
            "AIC=731637.1063562046,formula=carat+color+clarity+depth+cut\n"
          ]
        }
      ],
      "source": [
        "calc_aic( ['carat','color', 'clarity','depth','cut','x'])"
      ]
    },
    {
      "attachments": {},
      "cell_type": "markdown",
      "metadata": {},
      "source": [
        "あまり改善されませんでした"
      ]
    },
    {
      "cell_type": "code",
      "execution_count": 12,
      "metadata": {},
      "outputs": [
        {
          "data": {
            "text/plain": [
              "729791.2390501727"
            ]
          },
          "execution_count": 12,
          "metadata": {},
          "output_type": "execute_result"
        }
      ],
      "source": [
        "#carat+color+clarity+depth+cut\n",
        "\n",
        "model = smf.glm('price ~ carat+color+clarity+depth+cut+x', df_train) \n",
        "fit = model.fit()\n",
        "fit.aic   "
      ]
    },
    {
      "attachments": {},
      "cell_type": "markdown",
      "metadata": {},
      "source": [
        "次に、テストデータで決定係数R2をつかって評価します（**第７回講義P27**、決定係数)\n",
        "\n",
        "決定係数$R^2$(coefficient of determination):\n",
        "$$ R^2 = 1 - \\frac{\\sum_{i=1}^{n}( y_i - \\hat{y_i})^2}{\\sum_{i=1}^{n}(y_i - \\overline{y})^2} $$"
      ]
    },
    {
      "cell_type": "code",
      "execution_count": 13,
      "metadata": {},
      "outputs": [
        {
          "name": "stdout",
          "output_type": "stream",
          "text": [
            "r2 socre is  0.9215967831681159\n",
            "mean_sqrd_error is== 1218269.326271646\n",
            "root_mean_squared error of is== 1103.7523844919413\n"
          ]
        }
      ],
      "source": [
        "from sklearn.metrics import r2_score\n",
        "from sklearn.metrics import mean_squared_error\n",
        "import numpy as np\n",
        "# predicting the accuracy score\n",
        "y_prediction = fit.predict(x_test)\n",
        "score=r2_score(y_test,y_prediction)\n",
        "print('r2 socre is ',score)\n",
        "print('mean_sqrd_error is==',mean_squared_error(y_test,y_prediction))\n",
        "print('root_mean_squared error of is==',np.sqrt(mean_squared_error(y_test,y_prediction)))"
      ]
    },
    {
      "attachments": {},
      "cell_type": "markdown",
      "metadata": {},
      "source": [
        "r2スコアで変数選択してみます。"
      ]
    },
    {
      "cell_type": "code",
      "execution_count": 14,
      "metadata": {},
      "outputs": [],
      "source": [
        "def calc_r2score(lst):\n",
        "    for key in lst:\n",
        "        xs_copy=lst.copy()\n",
        "        xs_copy.remove(key)\n",
        "        model = smf.glm('price ~ '+'+'.join(xs_copy), df_train) \n",
        "        fit = model.fit()\n",
        "        y_prediction = fit.predict(x_test)\n",
        "        score=r2_score(y_test,y_prediction)\n",
        "        print('R2Score={},formula={}'.format(score,'+'.join(xs_copy)))"
      ]
    },
    {
      "cell_type": "code",
      "execution_count": 15,
      "metadata": {},
      "outputs": [
        {
          "name": "stdout",
          "output_type": "stream",
          "text": [
            "R2Score=0.8429110306186297,formula=color+clarity+depth+table+cut+x\n",
            "R2Score=0.900840680932674,formula=carat+clarity+depth+table+cut+x\n",
            "R2Score=0.8794878070822025,formula=carat+color+depth+table+cut+x\n",
            "R2Score=0.9212248639256573,formula=carat+color+clarity+table+cut+x\n",
            "R2Score=0.9215967831681159,formula=carat+color+clarity+depth+cut+x\n",
            "R2Score=0.920881808787841,formula=carat+color+clarity+depth+table+x\n",
            "R2Score=0.917296489128459,formula=carat+color+clarity+depth+table+cut\n"
          ]
        }
      ],
      "source": [
        "calc_r2score(xs)"
      ]
    },
    {
      "attachments": {},
      "cell_type": "markdown",
      "metadata": {},
      "source": [
        "やっぱりtableがいらないようです。"
      ]
    },
    {
      "cell_type": "code",
      "execution_count": 16,
      "metadata": {},
      "outputs": [
        {
          "name": "stdout",
          "output_type": "stream",
          "text": [
            "R2Score=0.8429130197736148,formula=color+clarity+depth+cut+x\n",
            "R2Score=0.9006086196920713,formula=carat+clarity+depth+cut+x\n",
            "R2Score=0.8791381199155256,formula=carat+color+depth+cut+x\n",
            "R2Score=0.9212075746763461,formula=carat+color+clarity+cut+x\n",
            "R2Score=0.9199038753084148,formula=carat+color+clarity+depth+x\n",
            "R2Score=0.9171563055491287,formula=carat+color+clarity+depth+cut\n"
          ]
        }
      ],
      "source": [
        "calc_r2score( ['carat','color', 'clarity','depth','cut','x'])"
      ]
    },
    {
      "cell_type": "code",
      "execution_count": 17,
      "metadata": {},
      "outputs": [],
      "source": [
        "model = smf.glm('price ~ carat+color+clarity+depth+cut+x', df_train) \n",
        "fit = model.fit()"
      ]
    },
    {
      "attachments": {},
      "cell_type": "markdown",
      "metadata": {},
      "source": [
        "訓練データをプロット"
      ]
    },
    {
      "cell_type": "code",
      "execution_count": 18,
      "metadata": {},
      "outputs": [
        {
          "data": {
            "text/plain": [
              "<matplotlib.collections.PathCollection at 0x1c595b5ff10>"
            ]
          },
          "execution_count": 18,
          "metadata": {},
          "output_type": "execute_result"
        },
        {
          "data": {
            "image/png": "[encoded data removed]",
            "text/plain": [
              "<Figure size 432x288 with 1 Axes>"
            ]
          },
          "metadata": {
            "needs_background": "light"
          },
          "output_type": "display_data"
        }
      ],
      "source": [
        "y_pred = fit.predict(x_train)\n",
        "plt.scatter(y_pred,y_train)"
      ]
    },
    {
      "attachments": {},
      "cell_type": "markdown",
      "metadata": {},
      "source": [
        "テストデータで性能を評価"
      ]
    },
    {
      "cell_type": "code",
      "execution_count": 19,
      "metadata": {},
      "outputs": [
        {
          "data": {
            "text/plain": [
              "<matplotlib.collections.PathCollection at 0x1c5973438b0>"
            ]
          },
          "execution_count": 19,
          "metadata": {},
          "output_type": "execute_result"
        },
        {
          "data": {
            "image/png": "[encoded data removed]",
            "text/plain": [
              "<Figure size 432x288 with 1 Axes>"
            ]
          },
          "metadata": {
            "needs_background": "light"
          },
          "output_type": "display_data"
        }
      ],
      "source": [
        "y_pred = fit.predict(x_test)\n",
        "plt.scatter(y_pred,y_test)"
      ]
    },
    {
      "cell_type": "code",
      "execution_count": 20,
      "metadata": {
        "id": "cNtslSrNEKDQ"
      },
      "outputs": [],
      "source": [
        "#予測とデータのお比較\n",
        "#diamond['predict'] = fit.predict() #予測を行い，結果を'predict'列に追加\n",
        "#diamond.plot.scatter(x='predict',y='price'); #描画"
      ]
    },
    {
      "attachments": {},
      "cell_type": "markdown",
      "metadata": {
        "id": "zb9WnBPtEKDR"
      },
      "source": [
        "## 1.2 ロジスティック回帰(10点)\n",
        "\n",
        "seabornの組み込みデータtitnaicを用いて、生存者をロジスティック回帰を実施しなさい"
      ]
    },
    {
      "cell_type": "code",
      "execution_count": 21,
      "metadata": {
        "colab": {
          "base_uri": "https://localhost:8080/",
          "height": 487
        },
        "id": "Sd0aiVVUEKDR",
        "outputId": "a7e7939e-395a-48f4-fb8a-cfb15fab2723"
      },
      "outputs": [
        {
          "data": {
            "text/html": [
              "<div>\n",
              "<style scoped>\n",
              "    .dataframe tbody tr th:only-of-type {\n",
              "        vertical-align: middle;\n",
              "    }\n",
              "\n",
              "    .dataframe tbody tr th {\n",
              "        vertical-align: top;\n",
              "    }\n",
              "\n",
              "    .dataframe thead th {\n",
              "        text-align: right;\n",
              "    }\n",
              "</style>\n",
              "<table border=\"1\" class=\"dataframe\">\n",
              "  <thead>\n",
              "    <tr style=\"text-align: right;\">\n",
              "      <th></th>\n",
              "      <th>survived</th>\n",
              "      <th>pclass</th>\n",
              "      <th>sex</th>\n",
              "      <th>age</th>\n",
              "      <th>sibsp</th>\n",
              "      <th>parch</th>\n",
              "      <th>fare</th>\n",
              "      <th>embarked</th>\n",
              "      <th>class</th>\n",
              "      <th>who</th>\n",
              "      <th>adult_male</th>\n",
              "      <th>deck</th>\n",
              "      <th>embark_town</th>\n",
              "      <th>alive</th>\n",
              "      <th>alone</th>\n",
              "    </tr>\n",
              "  </thead>\n",
              "  <tbody>\n",
              "    <tr>\n",
              "      <th>0</th>\n",
              "      <td>0</td>\n",
              "      <td>3</td>\n",
              "      <td>male</td>\n",
              "      <td>22.0</td>\n",
              "      <td>1</td>\n",
              "      <td>0</td>\n",
              "      <td>7.2500</td>\n",
              "      <td>S</td>\n",
              "      <td>Third</td>\n",
              "      <td>man</td>\n",
              "      <td>True</td>\n",
              "      <td>NaN</td>\n",
              "      <td>Southampton</td>\n",
              "      <td>no</td>\n",
              "      <td>False</td>\n",
              "    </tr>\n",
              "    <tr>\n",
              "      <th>1</th>\n",
              "      <td>1</td>\n",
              "      <td>1</td>\n",
              "      <td>female</td>\n",
              "      <td>38.0</td>\n",
              "      <td>1</td>\n",
              "      <td>0</td>\n",
              "      <td>71.2833</td>\n",
              "      <td>C</td>\n",
              "      <td>First</td>\n",
              "      <td>woman</td>\n",
              "      <td>False</td>\n",
              "      <td>C</td>\n",
              "      <td>Cherbourg</td>\n",
              "      <td>yes</td>\n",
              "      <td>False</td>\n",
              "    </tr>\n",
              "    <tr>\n",
              "      <th>2</th>\n",
              "      <td>1</td>\n",
              "      <td>3</td>\n",
              "      <td>female</td>\n",
              "      <td>26.0</td>\n",
              "      <td>0</td>\n",
              "      <td>0</td>\n",
              "      <td>7.9250</td>\n",
              "      <td>S</td>\n",
              "      <td>Third</td>\n",
              "      <td>woman</td>\n",
              "      <td>False</td>\n",
              "      <td>NaN</td>\n",
              "      <td>Southampton</td>\n",
              "      <td>yes</td>\n",
              "      <td>True</td>\n",
              "    </tr>\n",
              "    <tr>\n",
              "      <th>3</th>\n",
              "      <td>1</td>\n",
              "      <td>1</td>\n",
              "      <td>female</td>\n",
              "      <td>35.0</td>\n",
              "      <td>1</td>\n",
              "      <td>0</td>\n",
              "      <td>53.1000</td>\n",
              "      <td>S</td>\n",
              "      <td>First</td>\n",
              "      <td>woman</td>\n",
              "      <td>False</td>\n",
              "      <td>C</td>\n",
              "      <td>Southampton</td>\n",
              "      <td>yes</td>\n",
              "      <td>False</td>\n",
              "    </tr>\n",
              "    <tr>\n",
              "      <th>4</th>\n",
              "      <td>0</td>\n",
              "      <td>3</td>\n",
              "      <td>male</td>\n",
              "      <td>35.0</td>\n",
              "      <td>0</td>\n",
              "      <td>0</td>\n",
              "      <td>8.0500</td>\n",
              "      <td>S</td>\n",
              "      <td>Third</td>\n",
              "      <td>man</td>\n",
              "      <td>True</td>\n",
              "      <td>NaN</td>\n",
              "      <td>Southampton</td>\n",
              "      <td>no</td>\n",
              "      <td>True</td>\n",
              "    </tr>\n",
              "    <tr>\n",
              "      <th>...</th>\n",
              "      <td>...</td>\n",
              "      <td>...</td>\n",
              "      <td>...</td>\n",
              "      <td>...</td>\n",
              "      <td>...</td>\n",
              "      <td>...</td>\n",
              "      <td>...</td>\n",
              "      <td>...</td>\n",
              "      <td>...</td>\n",
              "      <td>...</td>\n",
              "      <td>...</td>\n",
              "      <td>...</td>\n",
              "      <td>...</td>\n",
              "      <td>...</td>\n",
              "      <td>...</td>\n",
              "    </tr>\n",
              "    <tr>\n",
              "      <th>886</th>\n",
              "      <td>0</td>\n",
              "      <td>2</td>\n",
              "      <td>male</td>\n",
              "      <td>27.0</td>\n",
              "      <td>0</td>\n",
              "      <td>0</td>\n",
              "      <td>13.0000</td>\n",
              "      <td>S</td>\n",
              "      <td>Second</td>\n",
              "      <td>man</td>\n",
              "      <td>True</td>\n",
              "      <td>NaN</td>\n",
              "      <td>Southampton</td>\n",
              "      <td>no</td>\n",
              "      <td>True</td>\n",
              "    </tr>\n",
              "    <tr>\n",
              "      <th>887</th>\n",
              "      <td>1</td>\n",
              "      <td>1</td>\n",
              "      <td>female</td>\n",
              "      <td>19.0</td>\n",
              "      <td>0</td>\n",
              "      <td>0</td>\n",
              "      <td>30.0000</td>\n",
              "      <td>S</td>\n",
              "      <td>First</td>\n",
              "      <td>woman</td>\n",
              "      <td>False</td>\n",
              "      <td>B</td>\n",
              "      <td>Southampton</td>\n",
              "      <td>yes</td>\n",
              "      <td>True</td>\n",
              "    </tr>\n",
              "    <tr>\n",
              "      <th>888</th>\n",
              "      <td>0</td>\n",
              "      <td>3</td>\n",
              "      <td>female</td>\n",
              "      <td>NaN</td>\n",
              "      <td>1</td>\n",
              "      <td>2</td>\n",
              "      <td>23.4500</td>\n",
              "      <td>S</td>\n",
              "      <td>Third</td>\n",
              "      <td>woman</td>\n",
              "      <td>False</td>\n",
              "      <td>NaN</td>\n",
              "      <td>Southampton</td>\n",
              "      <td>no</td>\n",
              "      <td>False</td>\n",
              "    </tr>\n",
              "    <tr>\n",
              "      <th>889</th>\n",
              "      <td>1</td>\n",
              "      <td>1</td>\n",
              "      <td>male</td>\n",
              "      <td>26.0</td>\n",
              "      <td>0</td>\n",
              "      <td>0</td>\n",
              "      <td>30.0000</td>\n",
              "      <td>C</td>\n",
              "      <td>First</td>\n",
              "      <td>man</td>\n",
              "      <td>True</td>\n",
              "      <td>C</td>\n",
              "      <td>Cherbourg</td>\n",
              "      <td>yes</td>\n",
              "      <td>True</td>\n",
              "    </tr>\n",
              "    <tr>\n",
              "      <th>890</th>\n",
              "      <td>0</td>\n",
              "      <td>3</td>\n",
              "      <td>male</td>\n",
              "      <td>32.0</td>\n",
              "      <td>0</td>\n",
              "      <td>0</td>\n",
              "      <td>7.7500</td>\n",
              "      <td>Q</td>\n",
              "      <td>Third</td>\n",
              "      <td>man</td>\n",
              "      <td>True</td>\n",
              "      <td>NaN</td>\n",
              "      <td>Queenstown</td>\n",
              "      <td>no</td>\n",
              "      <td>True</td>\n",
              "    </tr>\n",
              "  </tbody>\n",
              "</table>\n",
              "<p>891 rows × 15 columns</p>\n",
              "</div>"
            ],
            "text/plain": [
              "     survived  pclass     sex   age  sibsp  parch     fare embarked   class  \\\n",
              "0           0       3    male  22.0      1      0   7.2500        S   Third   \n",
              "1           1       1  female  38.0      1      0  71.2833        C   First   \n",
              "2           1       3  female  26.0      0      0   7.9250        S   Third   \n",
              "3           1       1  female  35.0      1      0  53.1000        S   First   \n",
              "4           0       3    male  35.0      0      0   8.0500        S   Third   \n",
              "..        ...     ...     ...   ...    ...    ...      ...      ...     ...   \n",
              "886         0       2    male  27.0      0      0  13.0000        S  Second   \n",
              "887         1       1  female  19.0      0      0  30.0000        S   First   \n",
              "888         0       3  female   NaN      1      2  23.4500        S   Third   \n",
              "889         1       1    male  26.0      0      0  30.0000        C   First   \n",
              "890         0       3    male  32.0      0      0   7.7500        Q   Third   \n",
              "\n",
              "       who  adult_male deck  embark_town alive  alone  \n",
              "0      man        True  NaN  Southampton    no  False  \n",
              "1    woman       False    C    Cherbourg   yes  False  \n",
              "2    woman       False  NaN  Southampton   yes   True  \n",
              "3    woman       False    C  Southampton   yes  False  \n",
              "4      man        True  NaN  Southampton    no   True  \n",
              "..     ...         ...  ...          ...   ...    ...  \n",
              "886    man        True  NaN  Southampton    no   True  \n",
              "887  woman       False    B  Southampton   yes   True  \n",
              "888  woman       False  NaN  Southampton    no  False  \n",
              "889    man        True    C    Cherbourg   yes   True  \n",
              "890    man        True  NaN   Queenstown    no   True  \n",
              "\n",
              "[891 rows x 15 columns]"
            ]
          },
          "execution_count": 21,
          "metadata": {},
          "output_type": "execute_result"
        }
      ],
      "source": [
        "import pandas as pd\n",
        "import seaborn as sns\n",
        "import statsmodels.api as sm\n",
        "import statsmodels.formula.api as smf\n",
        "import matplotlib.pyplot as plt\n",
        "%matplotlib inline\n",
        "\n",
        "# データの取得・確認\n",
        "dataset = sns.load_dataset('titanic')\n",
        "dataset"
      ]
    },
    {
      "attachments": {},
      "cell_type": "markdown",
      "metadata": {
        "id": "yNv-hRkKEKDS"
      },
      "source": [
        "前処理は以下を用い、データセットはdataset1を利用してもよい。独自に前処理を行ってもよい"
      ]
    },
    {
      "cell_type": "code",
      "execution_count": 23,
      "metadata": {
        "colab": {
          "base_uri": "https://localhost:8080/"
        },
        "id": "GxOddTXSEKDT",
        "outputId": "5af8bc11-9b78-4425-cfb8-c65e695367aa"
      },
      "outputs": [
        {
          "data": {
            "text/plain": [
              "survived    0\n",
              "pclass      0\n",
              "sex         0\n",
              "age         0\n",
              "dtype: int64"
            ]
          },
          "execution_count": 23,
          "metadata": {},
          "output_type": "execute_result"
        }
      ],
      "source": [
        "# 重複しているカラムと影響の少ない変数の削除\n",
        "df = [\"sibsp\",\"parch\",\"fare\",\"embarked\",\"class\",\"who\",\"adult_male\",\"deck\",\"embark_town\",\"alive\",\"alone\"]\n",
        "dataset1 = dataset.drop(df,axis = 1)\n",
        "dataset1.head()\n",
        "\n",
        "# 欠損値の確認\n",
        "dataset1.isnull().sum()\n",
        "\n",
        "# 欠損値に平均を補完し性別をダミー変数に変更（男性:1,女性:0）\n",
        "dataset1[\"age\"] = dataset1[\"age\"].fillna(dataset1[\"age\"].mean())\n",
        "dataset1[\"sex\"] = dataset1[\"sex\"].map({\"male\":1, \"female\":0})\n",
        "dataset1.isnull().sum()\n"
      ]
    },
    {
      "cell_type": "code",
      "execution_count": 24,
      "metadata": {
        "colab": {
          "base_uri": "https://localhost:8080/",
          "height": 423
        },
        "id": "m0aM-KJ_EKDU",
        "outputId": "611d7f85-b7e2-42ba-a794-90a6378ebabf"
      },
      "outputs": [
        {
          "data": {
            "text/html": [
              "<div>\n",
              "<style scoped>\n",
              "    .dataframe tbody tr th:only-of-type {\n",
              "        vertical-align: middle;\n",
              "    }\n",
              "\n",
              "    .dataframe tbody tr th {\n",
              "        vertical-align: top;\n",
              "    }\n",
              "\n",
              "    .dataframe thead th {\n",
              "        text-align: right;\n",
              "    }\n",
              "</style>\n",
              "<table border=\"1\" class=\"dataframe\">\n",
              "  <thead>\n",
              "    <tr style=\"text-align: right;\">\n",
              "      <th></th>\n",
              "      <th>survived</th>\n",
              "      <th>pclass</th>\n",
              "      <th>sex</th>\n",
              "      <th>age</th>\n",
              "    </tr>\n",
              "  </thead>\n",
              "  <tbody>\n",
              "    <tr>\n",
              "      <th>0</th>\n",
              "      <td>0</td>\n",
              "      <td>3</td>\n",
              "      <td>1</td>\n",
              "      <td>22.000000</td>\n",
              "    </tr>\n",
              "    <tr>\n",
              "      <th>1</th>\n",
              "      <td>1</td>\n",
              "      <td>1</td>\n",
              "      <td>0</td>\n",
              "      <td>38.000000</td>\n",
              "    </tr>\n",
              "    <tr>\n",
              "      <th>2</th>\n",
              "      <td>1</td>\n",
              "      <td>3</td>\n",
              "      <td>0</td>\n",
              "      <td>26.000000</td>\n",
              "    </tr>\n",
              "    <tr>\n",
              "      <th>3</th>\n",
              "      <td>1</td>\n",
              "      <td>1</td>\n",
              "      <td>0</td>\n",
              "      <td>35.000000</td>\n",
              "    </tr>\n",
              "    <tr>\n",
              "      <th>4</th>\n",
              "      <td>0</td>\n",
              "      <td>3</td>\n",
              "      <td>1</td>\n",
              "      <td>35.000000</td>\n",
              "    </tr>\n",
              "    <tr>\n",
              "      <th>...</th>\n",
              "      <td>...</td>\n",
              "      <td>...</td>\n",
              "      <td>...</td>\n",
              "      <td>...</td>\n",
              "    </tr>\n",
              "    <tr>\n",
              "      <th>886</th>\n",
              "      <td>0</td>\n",
              "      <td>2</td>\n",
              "      <td>1</td>\n",
              "      <td>27.000000</td>\n",
              "    </tr>\n",
              "    <tr>\n",
              "      <th>887</th>\n",
              "      <td>1</td>\n",
              "      <td>1</td>\n",
              "      <td>0</td>\n",
              "      <td>19.000000</td>\n",
              "    </tr>\n",
              "    <tr>\n",
              "      <th>888</th>\n",
              "      <td>0</td>\n",
              "      <td>3</td>\n",
              "      <td>0</td>\n",
              "      <td>29.699118</td>\n",
              "    </tr>\n",
              "    <tr>\n",
              "      <th>889</th>\n",
              "      <td>1</td>\n",
              "      <td>1</td>\n",
              "      <td>1</td>\n",
              "      <td>26.000000</td>\n",
              "    </tr>\n",
              "    <tr>\n",
              "      <th>890</th>\n",
              "      <td>0</td>\n",
              "      <td>3</td>\n",
              "      <td>1</td>\n",
              "      <td>32.000000</td>\n",
              "    </tr>\n",
              "  </tbody>\n",
              "</table>\n",
              "<p>891 rows × 4 columns</p>\n",
              "</div>"
            ],
            "text/plain": [
              "     survived  pclass  sex        age\n",
              "0           0       3    1  22.000000\n",
              "1           1       1    0  38.000000\n",
              "2           1       3    0  26.000000\n",
              "3           1       1    0  35.000000\n",
              "4           0       3    1  35.000000\n",
              "..        ...     ...  ...        ...\n",
              "886         0       2    1  27.000000\n",
              "887         1       1    0  19.000000\n",
              "888         0       3    0  29.699118\n",
              "889         1       1    1  26.000000\n",
              "890         0       3    1  32.000000\n",
              "\n",
              "[891 rows x 4 columns]"
            ]
          },
          "execution_count": 24,
          "metadata": {},
          "output_type": "execute_result"
        }
      ],
      "source": [
        "dataset1"
      ]
    },
    {
      "cell_type": "code",
      "execution_count": 25,
      "metadata": {},
      "outputs": [
        {
          "data": {
            "text/plain": [
              "<seaborn.axisgrid.PairGrid at 0x1c597554310>"
            ]
          },
          "execution_count": 25,
          "metadata": {},
          "output_type": "execute_result"
        },
        {
          "data": {
            "image/png": "[encoded data removed]",
            "text/plain": [
              "<Figure size 720x720 with 20 Axes>"
            ]
          },
          "metadata": {
            "needs_background": "light"
          },
          "output_type": "display_data"
        }
      ],
      "source": [
        "sns.pairplot(dataset1)"
      ]
    },
    {
      "attachments": {},
      "cell_type": "markdown",
      "metadata": {},
      "source": [
        "トレーニング用とテスト用に分割します"
      ]
    },
    {
      "cell_type": "code",
      "execution_count": 26,
      "metadata": {},
      "outputs": [],
      "source": [
        "x = dataset1.drop(\"survived\",axis=1)\n",
        "y = dataset1.pop(\"survived\")\n",
        "x_train, x_test , y_train, y_test = train_test_split(x,y,test_size = 0.1, random_state = 1)"
      ]
    },
    {
      "cell_type": "code",
      "execution_count": 27,
      "metadata": {},
      "outputs": [],
      "source": [
        "df_train = pd.concat([x_train, y_train], axis = 1)"
      ]
    },
    {
      "cell_type": "code",
      "execution_count": 28,
      "metadata": {},
      "outputs": [
        {
          "name": "stdout",
          "output_type": "stream",
          "text": [
            "               Results: Generalized linear model\n",
            "===============================================================\n",
            "Model:              GLM              AIC:            725.5214  \n",
            "Link Function:      Logit            BIC:            -4611.1098\n",
            "Dependent Variable: survived         Log-Likelihood: -358.76   \n",
            "Date:               2023-05-27 10:46 LL-Null:        -532.22   \n",
            "No. Observations:   801              Deviance:       717.52    \n",
            "Df Model:           3                Pearson chi2:   833.      \n",
            "Df Residuals:       797              Scale:          1.0000    \n",
            "Method:             IRLS                                       \n",
            "----------------------------------------------------------------\n",
            "            Coef.   Std.Err.     z      P>|z|    [0.025   0.975]\n",
            "----------------------------------------------------------------\n",
            "Intercept   4.6158    0.4707    9.8063  0.0000   3.6932   5.5383\n",
            "sex        -2.6580    0.1971  -13.4828  0.0000  -3.0444  -2.2716\n",
            "pclass     -1.1312    0.1247   -9.0697  0.0000  -1.3756  -0.8867\n",
            "age        -0.0317    0.0077   -4.1195  0.0000  -0.0468  -0.0166\n",
            "===============================================================\n",
            "\n"
          ]
        }
      ],
      "source": [
        "#　回帰の実施\n",
        "\n",
        "import statsmodels.api as sm\n",
        "model = smf.glm(formula=\"survived ~ sex + pclass + age\", data=df_train, family= sm.families.Binomial() )\n",
        "res = model.fit() #学習\n",
        "print(res.summary2())"
      ]
    },
    {
      "cell_type": "code",
      "execution_count": null,
      "metadata": {
        "id": "6A2IBEk3EKDV"
      },
      "outputs": [],
      "source": [
        "#　回帰の実施"
      ]
    },
    {
      "cell_type": "code",
      "execution_count": 29,
      "metadata": {
        "id": "VZ9WPfz6EKDW"
      },
      "outputs": [
        {
          "name": "stdout",
          "output_type": "stream",
          "text": [
            "AIC=725.5213590420332, r2 socre =0.3424991983525264 \n"
          ]
        },
        {
          "data": {
            "image/png": "[encoded data removed]",
            "text/plain": [
              "<Figure size 432x288 with 1 Axes>"
            ]
          },
          "metadata": {
            "needs_background": "light"
          },
          "output_type": "display_data"
        }
      ],
      "source": [
        "#dataset1['predict'] = fit.predict() #予測を行い，結果を'predict'列に追加\n",
        "#dataset1.plot.scatter(x='predict',y='survived'); #描画\n",
        "\n",
        "y_pred = res.predict(x_test)\n",
        "plt.scatter(y_pred,y_test)\n",
        "score=r2_score(y_test,y_pred)\n",
        "print('AIC={}, r2 socre ={} '.format(res.aic,score))"
      ]
    },
    {
      "attachments": {},
      "cell_type": "markdown",
      "metadata": {},
      "source": [
        "そうえいば、plcassもsexもカテゴリー変数だったので、カテゴリ変数であることを明示的にformulaに記入。(**第8回講義P14、カテゴリー変数の取り扱い**)"
      ]
    },
    {
      "cell_type": "code",
      "execution_count": 30,
      "metadata": {},
      "outputs": [
        {
          "name": "stdout",
          "output_type": "stream",
          "text": [
            "               Results: Generalized linear model\n",
            "===============================================================\n",
            "Model:              GLM              AIC:            727.2351  \n",
            "Link Function:      Logit            BIC:            -4604.7102\n",
            "Dependent Variable: survived         Log-Likelihood: -358.62   \n",
            "Date:               2023-05-27 10:47 LL-Null:        -532.22   \n",
            "No. Observations:   801              Deviance:       717.24    \n",
            "Df Model:           4                Pearson chi2:   836.      \n",
            "Df Residuals:       796              Scale:          1.0000    \n",
            "Method:             IRLS                                       \n",
            "---------------------------------------------------------------\n",
            "                Coef.  Std.Err.    z     P>|z|   [0.025  0.975]\n",
            "---------------------------------------------------------------\n",
            "Intercept       3.4344   0.3813   9.0065 0.0000  2.6870  4.1818\n",
            "C(sex)[T.1]    -2.6560   0.1974 -13.4551 0.0000 -3.0429 -2.2691\n",
            "C(pclass)[T.2] -1.0010   0.2726  -3.6717 0.0002 -1.5354 -0.4667\n",
            "C(pclass)[T.3] -2.2417   0.2523  -8.8866 0.0000 -2.7362 -1.7473\n",
            "age            -0.0314   0.0077  -4.0756 0.0000 -0.0465 -0.0163\n",
            "===============================================================\n",
            "\n"
          ]
        }
      ],
      "source": [
        "model = smf.glm(formula=\"survived ~ C(sex) + C(pclass) + age\", data=df_train, family= sm.families.Binomial() )\n",
        "res = model.fit() #学習\n",
        "print(res.summary2())"
      ]
    },
    {
      "attachments": {},
      "cell_type": "markdown",
      "metadata": {},
      "source": [
        "ちょっとAICが上がったかな。"
      ]
    },
    {
      "cell_type": "code",
      "execution_count": 31,
      "metadata": {},
      "outputs": [
        {
          "name": "stdout",
          "output_type": "stream",
          "text": [
            "r2 socre is  0.33916069345226996\n",
            "AIC=727.2351378619173, r2 socre =0.33916069345226996 \n"
          ]
        },
        {
          "data": {
            "image/png": "[encoded data removed]",
            "text/plain": [
              "<Figure size 432x288 with 1 Axes>"
            ]
          },
          "metadata": {
            "needs_background": "light"
          },
          "output_type": "display_data"
        }
      ],
      "source": [
        "y_pred = res.predict(x_test)\n",
        "plt.scatter(y_pred,y_test)\n",
        "score=r2_score(y_test,y_pred)\n",
        "print('r2 socre is ',score)\n",
        "print('AIC={}, r2 socre ={} '.format(res.aic,score))"
      ]
    },
    {
      "attachments": {},
      "cell_type": "markdown",
      "metadata": {},
      "source": [
        "ageと性別(sex)で傾向をみている"
      ]
    },
    {
      "cell_type": "code",
      "execution_count": 32,
      "metadata": {},
      "outputs": [
        {
          "data": {
            "text/plain": [
              "<matplotlib.collections.PathCollection at 0x1c595ea1d00>"
            ]
          },
          "execution_count": 32,
          "metadata": {},
          "output_type": "execute_result"
        },
        {
          "data": {
            "image/png": "[encoded data removed]",
            "text/plain": [
              "<Figure size 432x288 with 1 Axes>"
            ]
          },
          "metadata": {
            "needs_background": "light"
          },
          "output_type": "display_data"
        }
      ],
      "source": [
        "def get_color(sex):\n",
        "    if(sex==0):\n",
        "        return 'orange'\n",
        "    return 'blue'\n",
        "colors=[get_color(f) for f in x_test['sex']]\n",
        "plt.scatter(x_test['age'],y_test,c=colors)#\n",
        "plt.scatter(x_test['age'],y_pred,c=colors,alpha=0.5)"
      ]
    },
    {
      "attachments": {},
      "cell_type": "markdown",
      "metadata": {},
      "source": [
        "なんとなく、女性(sex=0)で若いほうが生存率が高いのか、、男女差もありそうだな。"
      ]
    },
    {
      "cell_type": "code",
      "execution_count": 33,
      "metadata": {},
      "outputs": [
        {
          "data": {
            "text/plain": [
              "(array([30.,  5., 11.,  4.,  8.,  8.,  6.,  4.,  4., 10.]),\n",
              " array([0.06090085, 0.14975016, 0.23859947, 0.32744878, 0.41629808,\n",
              "        0.50514739, 0.5939967 , 0.682846  , 0.77169531, 0.86054462,\n",
              "        0.94939393]),\n",
              " <BarContainer object of 10 artists>)"
            ]
          },
          "execution_count": 33,
          "metadata": {},
          "output_type": "execute_result"
        },
        {
          "data": {
            "image/png": "[encoded data removed]",
            "text/plain": [
              "<Figure size 432x288 with 1 Axes>"
            ]
          },
          "metadata": {
            "needs_background": "light"
          },
          "output_type": "display_data"
        }
      ],
      "source": [
        "plt.hist(y_pred)"
      ]
    },
    {
      "cell_type": "code",
      "execution_count": 34,
      "metadata": {},
      "outputs": [
        {
          "data": {
            "text/plain": [
              "(array([53.,  0.,  0.,  0.,  0.,  0.,  0.,  0.,  0., 37.]),\n",
              " array([0. , 0.1, 0.2, 0.3, 0.4, 0.5, 0.6, 0.7, 0.8, 0.9, 1. ]),\n",
              " <BarContainer object of 10 artists>)"
            ]
          },
          "execution_count": 34,
          "metadata": {},
          "output_type": "execute_result"
        },
        {
          "data": {
            "image/png": "[encoded data removed]",
            "text/plain": [
              "<Figure size 432x288 with 1 Axes>"
            ]
          },
          "metadata": {
            "needs_background": "light"
          },
          "output_type": "display_data"
        }
      ],
      "source": [
        "plt.hist(y_test)"
      ]
    },
    {
      "cell_type": "code",
      "execution_count": 35,
      "metadata": {},
      "outputs": [
        {
          "data": {
            "text/plain": [
              "Intercept         3.434414\n",
              "C(sex)[T.1]      -2.655988\n",
              "C(pclass)[T.2]   -1.001023\n",
              "C(pclass)[T.3]   -2.241737\n",
              "age              -0.031416\n",
              "dtype: float64"
            ]
          },
          "execution_count": 35,
          "metadata": {},
          "output_type": "execute_result"
        }
      ],
      "source": [
        "res.params"
      ]
    },
    {
      "attachments": {},
      "cell_type": "markdown",
      "metadata": {},
      "source": [
        "seabornの lmplotを使うと、ロジスティック回帰をした上に、可視化まで一度にやってくれる模様(**第5回講義P25、Implotによる可視化**)\n",
        "\n",
        "ここでは男女別で、年齢による生存率をロジスティック回帰をやってみた"
      ]
    },
    {
      "cell_type": "code",
      "execution_count": 36,
      "metadata": {},
      "outputs": [
        {
          "data": {
            "text/plain": [
              "<seaborn.axisgrid.FacetGrid at 0x1c595b4b1c0>"
            ]
          },
          "execution_count": 36,
          "metadata": {},
          "output_type": "execute_result"
        },
        {
          "data": {
            "image/png": "[encoded data removed]",
            "text/plain": [
              "<Figure size 402.375x360 with 1 Axes>"
            ]
          },
          "metadata": {
            "needs_background": "light"
          },
          "output_type": "display_data"
        }
      ],
      "source": [
        "sns.lmplot(x=\"age\", y=\"survived\", hue='sex',data=df_train, logistic=True)"
      ]
    },
    {
      "attachments": {},
      "cell_type": "markdown",
      "metadata": {},
      "source": [
        "男性(sex=1)と女性(sex=0)では傾向が違うことがわかる。。。"
      ]
    },
    {
      "attachments": {},
      "cell_type": "markdown",
      "metadata": {
        "id": "IgRS-0vXEKDW"
      },
      "source": [
        "## 2.3 クラスタリング(10点)\n",
        "- くずし字のデータを取得して、クラス分類や、クラスタリングを行います。\n",
        "- TSNEで学習したデータに対してクラスタリングを行うことをします。"
      ]
    },
    {
      "cell_type": "code",
      "execution_count": 37,
      "metadata": {
        "colab": {
          "base_uri": "https://localhost:8080/"
        },
        "id": "PBCUQhWUEKDX",
        "outputId": "a7b7b760-7737-4a6b-8d0e-ea88f99c2055"
      },
      "outputs": [
        {
          "name": "stdout",
          "output_type": "stream",
          "text": [
            "Requirement already satisfied: japanize-matplotlib in c:\\python38\\lib\\site-packages (1.1.3)\n",
            "Requirement already satisfied: matplotlib in c:\\python38\\lib\\site-packages (from japanize-matplotlib) (3.5.1)\n"
          ]
        },
        {
          "name": "stderr",
          "output_type": "stream",
          "text": [
            "WARNING: You are using pip version 22.0.4; however, version 23.1.2 is available.\n",
            "You should consider upgrading via the 'c:\\python38\\python.exe -m pip install --upgrade pip' command.\n"
          ]
        },
        {
          "name": "stdout",
          "output_type": "stream",
          "text": [
            "Requirement already satisfied: packaging>=20.0 in c:\\python38\\lib\\site-packages (from matplotlib->japanize-matplotlib) (21.3)\n",
            "Requirement already satisfied: numpy>=1.17 in c:\\python38\\lib\\site-packages (from matplotlib->japanize-matplotlib) (1.22.2)\n",
            "Requirement already satisfied: cycler>=0.10 in c:\\python38\\lib\\site-packages (from matplotlib->japanize-matplotlib) (0.11.0)\n",
            "Requirement already satisfied: pyparsing>=2.2.1 in c:\\python38\\lib\\site-packages (from matplotlib->japanize-matplotlib) (3.0.7)\n",
            "Requirement already satisfied: python-dateutil>=2.7 in c:\\python38\\lib\\site-packages (from matplotlib->japanize-matplotlib) (2.8.2)\n",
            "Requirement already satisfied: pillow>=6.2.0 in c:\\python38\\lib\\site-packages (from matplotlib->japanize-matplotlib) (9.0.1)\n",
            "Requirement already satisfied: fonttools>=4.22.0 in c:\\python38\\lib\\site-packages (from matplotlib->japanize-matplotlib) (4.29.1)\n",
            "Requirement already satisfied: kiwisolver>=1.0.1 in c:\\python38\\lib\\site-packages (from matplotlib->japanize-matplotlib) (1.3.2)\n",
            "Requirement already satisfied: six>=1.5 in c:\\python38\\lib\\site-packages (from python-dateutil>=2.7->matplotlib->japanize-matplotlib) (1.16.0)\n"
          ]
        }
      ],
      "source": [
        "!pip install japanize-matplotlib"
      ]
    },
    {
      "attachments": {},
      "cell_type": "markdown",
      "metadata": {
        "id": "c4dofgw0EKDX"
      },
      "source": [
        "まずはデータを取得します。"
      ]
    },
    {
      "cell_type": "code",
      "execution_count": 43,
      "metadata": {
        "colab": {
          "base_uri": "https://localhost:8080/"
        },
        "id": "ebZkEUhnEKDY",
        "outputId": "21c545e0-fef9-43db-a54f-a48ff047b121"
      },
      "outputs": [
        {
          "name": "stderr",
          "output_type": "stream",
          "text": [
            "'wget' �́A�����R�}���h�܂��͊O���R�}���h�A\n",
            "����\\�ȃv���O�����܂��̓o�b�` �t�@�C���Ƃ��ĔF������Ă��܂���B\n",
            "'wget' �́A�����R�}���h�܂��͊O���R�}���h�A\n",
            "����\\�ȃv���O�����܂��̓o�b�` �t�@�C���Ƃ��ĔF������Ă��܂���B\n",
            "'wget' �́A�����R�}���h�܂��͊O���R�}���h�A\n",
            "����\\�ȃv���O�����܂��̓o�b�` �t�@�C���Ƃ��ĔF������Ă��܂���B\n",
            "'wget' �́A�����R�}���h�܂��͊O���R�}���h�A\n",
            "����\\�ȃv���O�����܂��̓o�b�` �t�@�C���Ƃ��ĔF������Ă��܂���B\n",
            "'wget' �́A�����R�}���h�܂��͊O���R�}���h�A\n",
            "����\\�ȃv���O�����܂��̓o�b�` �t�@�C���Ƃ��ĔF������Ă��܂���B\n"
          ]
        }
      ],
      "source": [
        "!wget http://codh.rois.ac.jp/kmnist/dataset/kmnist/kmnist-train-imgs.npz -O kmnist-train-imgs.npz\n",
        "!wget http://codh.rois.ac.jp/kmnist/dataset/kmnist/kmnist-train-labels.npz -O kmnist-train-labels.npz\n",
        "!wget http://codh.rois.ac.jp/kmnist/dataset/kmnist/kmnist-test-imgs.npz -O kmnist-test-imgs.npz\n",
        "!wget http://codh.rois.ac.jp/kmnist/dataset/kmnist/kmnist-test-labels.npz -O kmnist-test-labels.npz\n",
        "!wget http://codh.rois.ac.jp/kmnist/dataset/kmnist/kmnist_classmap.csv"
      ]
    },
    {
      "attachments": {},
      "cell_type": "markdown",
      "metadata": {
        "id": "s4aoT5OMEKDY"
      },
      "source": [
        "正解ラベル(0,...9)に対応するひらがなを得ます。最初がindex=1から始まるのに注意です。"
      ]
    },
    {
      "cell_type": "code",
      "execution_count": 42,
      "metadata": {
        "colab": {
          "base_uri": "https://localhost:8080/"
        },
        "id": "hTTMcwMkEKDZ",
        "outputId": "0c1f045b-4213-4c0c-b4f8-eb223f25bd7d"
      },
      "outputs": [
        {
          "ename": "FileNotFoundError",
          "evalue": "kmnist_classmap.csv not found.",
          "output_type": "error",
          "traceback": [
            "\u001b[1;31m---------------------------------------------------------------------------\u001b[0m",
            "\u001b[1;31mFileNotFoundError\u001b[0m                         Traceback (most recent call last)",
            "\u001b[1;32mc:\\Users\\miwam\\OneDrive\\Documents\\Lecture\\DataScience\\GitHub\\DataScience2023\\notebooks\\2023report2_sample.ipynb Cell 64\u001b[0m in \u001b[0;36m<module>\u001b[1;34m\u001b[0m\n\u001b[0;32m      <a href='vscode-notebook-cell:/c%3A/Users/miwam/OneDrive/Documents/Lecture/DataScience/GitHub/DataScience2023/notebooks/2023report2_sample.ipynb#X22sZmlsZQ%3D%3D?line=0'>1</a>\u001b[0m \u001b[39mimport\u001b[39;00m \u001b[39mnumpy\u001b[39;00m \u001b[39mas\u001b[39;00m \u001b[39mnp\u001b[39;00m\n\u001b[1;32m----> <a href='vscode-notebook-cell:/c%3A/Users/miwam/OneDrive/Documents/Lecture/DataScience/GitHub/DataScience2023/notebooks/2023report2_sample.ipynb#X22sZmlsZQ%3D%3D?line=1'>2</a>\u001b[0m names \u001b[39m=\u001b[39m np\u001b[39m.\u001b[39;49mloadtxt(\u001b[39m'\u001b[39;49m\u001b[39mkmnist_classmap.csv\u001b[39;49m\u001b[39m'\u001b[39;49m, dtype\u001b[39m=\u001b[39;49m\u001b[39m'\u001b[39;49m\u001b[39mstr\u001b[39;49m\u001b[39m'\u001b[39;49m)\n\u001b[0;32m      <a href='vscode-notebook-cell:/c%3A/Users/miwam/OneDrive/Documents/Lecture/DataScience/GitHub/DataScience2023/notebooks/2023report2_sample.ipynb#X22sZmlsZQ%3D%3D?line=2'>3</a>\u001b[0m names\n",
            "File \u001b[1;32mc:\\Python38\\lib\\site-packages\\numpy\\lib\\npyio.py:1042\u001b[0m, in \u001b[0;36mloadtxt\u001b[1;34m(fname, dtype, comments, delimiter, converters, skiprows, usecols, unpack, ndmin, encoding, max_rows, like)\u001b[0m\n\u001b[0;32m   1040\u001b[0m     fname \u001b[39m=\u001b[39m os_fspath(fname)\n\u001b[0;32m   1041\u001b[0m \u001b[39mif\u001b[39;00m _is_string_like(fname):\n\u001b[1;32m-> 1042\u001b[0m     fh \u001b[39m=\u001b[39m np\u001b[39m.\u001b[39;49mlib\u001b[39m.\u001b[39;49m_datasource\u001b[39m.\u001b[39;49mopen(fname, \u001b[39m'\u001b[39;49m\u001b[39mrt\u001b[39;49m\u001b[39m'\u001b[39;49m, encoding\u001b[39m=\u001b[39;49mencoding)\n\u001b[0;32m   1043\u001b[0m     fencoding \u001b[39m=\u001b[39m \u001b[39mgetattr\u001b[39m(fh, \u001b[39m'\u001b[39m\u001b[39mencoding\u001b[39m\u001b[39m'\u001b[39m, \u001b[39m'\u001b[39m\u001b[39mlatin1\u001b[39m\u001b[39m'\u001b[39m)\n\u001b[0;32m   1044\u001b[0m     line_iter \u001b[39m=\u001b[39m \u001b[39miter\u001b[39m(fh)\n",
            "File \u001b[1;32mc:\\Python38\\lib\\site-packages\\numpy\\lib\\_datasource.py:193\u001b[0m, in \u001b[0;36mopen\u001b[1;34m(path, mode, destpath, encoding, newline)\u001b[0m\n\u001b[0;32m    156\u001b[0m \u001b[39m\"\"\"\u001b[39;00m\n\u001b[0;32m    157\u001b[0m \u001b[39mOpen `path` with `mode` and return the file object.\u001b[39;00m\n\u001b[0;32m    158\u001b[0m \n\u001b[1;32m   (...)\u001b[0m\n\u001b[0;32m    189\u001b[0m \n\u001b[0;32m    190\u001b[0m \u001b[39m\"\"\"\u001b[39;00m\n\u001b[0;32m    192\u001b[0m ds \u001b[39m=\u001b[39m DataSource(destpath)\n\u001b[1;32m--> 193\u001b[0m \u001b[39mreturn\u001b[39;00m ds\u001b[39m.\u001b[39;49mopen(path, mode, encoding\u001b[39m=\u001b[39;49mencoding, newline\u001b[39m=\u001b[39;49mnewline)\n",
            "File \u001b[1;32mc:\\Python38\\lib\\site-packages\\numpy\\lib\\_datasource.py:532\u001b[0m, in \u001b[0;36mDataSource.open\u001b[1;34m(self, path, mode, encoding, newline)\u001b[0m\n\u001b[0;32m    529\u001b[0m     \u001b[39mreturn\u001b[39;00m _file_openers[ext](found, mode\u001b[39m=\u001b[39mmode,\n\u001b[0;32m    530\u001b[0m                               encoding\u001b[39m=\u001b[39mencoding, newline\u001b[39m=\u001b[39mnewline)\n\u001b[0;32m    531\u001b[0m \u001b[39melse\u001b[39;00m:\n\u001b[1;32m--> 532\u001b[0m     \u001b[39mraise\u001b[39;00m \u001b[39mFileNotFoundError\u001b[39;00m(\u001b[39mf\u001b[39m\u001b[39m\"\u001b[39m\u001b[39m{\u001b[39;00mpath\u001b[39m}\u001b[39;00m\u001b[39m not found.\u001b[39m\u001b[39m\"\u001b[39m)\n",
            "\u001b[1;31mFileNotFoundError\u001b[0m: kmnist_classmap.csv not found."
          ]
        }
      ],
      "source": [
        "import numpy as np\n",
        "names = np.loadtxt('kmnist_classmap.csv', dtype='str')\n",
        "names"
      ]
    },
    {
      "cell_type": "code",
      "execution_count": 41,
      "metadata": {
        "id": "7tNdVMUQEKDZ"
      },
      "outputs": [
        {
          "ename": "FileNotFoundError",
          "evalue": "[Errno 2] No such file or directory: 'kmnist-train-imgs.npz'",
          "output_type": "error",
          "traceback": [
            "\u001b[1;31m---------------------------------------------------------------------------\u001b[0m",
            "\u001b[1;31mFileNotFoundError\u001b[0m                         Traceback (most recent call last)",
            "\u001b[1;32mc:\\Users\\miwam\\OneDrive\\Documents\\Lecture\\DataScience\\GitHub\\DataScience2023\\notebooks\\2023report2_sample.ipynb Cell 65\u001b[0m in \u001b[0;36m<module>\u001b[1;34m\u001b[0m\n\u001b[0;32m      <a href='vscode-notebook-cell:/c%3A/Users/miwam/OneDrive/Documents/Lecture/DataScience/GitHub/DataScience2023/notebooks/2023report2_sample.ipynb#X23sZmlsZQ%3D%3D?line=2'>3</a>\u001b[0m \u001b[39mimport\u001b[39;00m \u001b[39mjapanize_matplotlib\u001b[39;00m\n\u001b[0;32m      <a href='vscode-notebook-cell:/c%3A/Users/miwam/OneDrive/Documents/Lecture/DataScience/GitHub/DataScience2023/notebooks/2023report2_sample.ipynb#X23sZmlsZQ%3D%3D?line=4'>5</a>\u001b[0m \u001b[39m#最初の5000だけ\u001b[39;00m\n\u001b[1;32m----> <a href='vscode-notebook-cell:/c%3A/Users/miwam/OneDrive/Documents/Lecture/DataScience/GitHub/DataScience2023/notebooks/2023report2_sample.ipynb#X23sZmlsZQ%3D%3D?line=5'>6</a>\u001b[0m train_images \u001b[39m=\u001b[39m np\u001b[39m.\u001b[39;49mload(\u001b[39m'\u001b[39;49m\u001b[39mkmnist-train-imgs.npz\u001b[39;49m\u001b[39m'\u001b[39;49m)[\u001b[39m'\u001b[39m\u001b[39marr_0\u001b[39m\u001b[39m'\u001b[39m][:\u001b[39m5000\u001b[39m]\n\u001b[0;32m      <a href='vscode-notebook-cell:/c%3A/Users/miwam/OneDrive/Documents/Lecture/DataScience/GitHub/DataScience2023/notebooks/2023report2_sample.ipynb#X23sZmlsZQ%3D%3D?line=6'>7</a>\u001b[0m train_labels \u001b[39m=\u001b[39m np\u001b[39m.\u001b[39mload(\u001b[39m'\u001b[39m\u001b[39mkmnist-train-labels.npz\u001b[39m\u001b[39m'\u001b[39m)[\u001b[39m'\u001b[39m\u001b[39marr_0\u001b[39m\u001b[39m'\u001b[39m][:\u001b[39m5000\u001b[39m]\n\u001b[0;32m      <a href='vscode-notebook-cell:/c%3A/Users/miwam/OneDrive/Documents/Lecture/DataScience/GitHub/DataScience2023/notebooks/2023report2_sample.ipynb#X23sZmlsZQ%3D%3D?line=7'>8</a>\u001b[0m test_images \u001b[39m=\u001b[39m np\u001b[39m.\u001b[39mload(\u001b[39m'\u001b[39m\u001b[39mkmnist-test-imgs.npz\u001b[39m\u001b[39m'\u001b[39m)[\u001b[39m'\u001b[39m\u001b[39marr_0\u001b[39m\u001b[39m'\u001b[39m][:\u001b[39m5000\u001b[39m]\n",
            "File \u001b[1;32mc:\\Python38\\lib\\site-packages\\numpy\\lib\\npyio.py:407\u001b[0m, in \u001b[0;36mload\u001b[1;34m(file, mmap_mode, allow_pickle, fix_imports, encoding)\u001b[0m\n\u001b[0;32m    405\u001b[0m     own_fid \u001b[39m=\u001b[39m \u001b[39mFalse\u001b[39;00m\n\u001b[0;32m    406\u001b[0m \u001b[39melse\u001b[39;00m:\n\u001b[1;32m--> 407\u001b[0m     fid \u001b[39m=\u001b[39m stack\u001b[39m.\u001b[39menter_context(\u001b[39mopen\u001b[39;49m(os_fspath(file), \u001b[39m\"\u001b[39;49m\u001b[39mrb\u001b[39;49m\u001b[39m\"\u001b[39;49m))\n\u001b[0;32m    408\u001b[0m     own_fid \u001b[39m=\u001b[39m \u001b[39mTrue\u001b[39;00m\n\u001b[0;32m    410\u001b[0m \u001b[39m# Code to distinguish from NumPy binary files and pickles.\u001b[39;00m\n",
            "\u001b[1;31mFileNotFoundError\u001b[0m: [Errno 2] No such file or directory: 'kmnist-train-imgs.npz'"
          ]
        }
      ],
      "source": [
        "import numpy as np\n",
        "import matplotlib.pyplot as plt\n",
        "import japanize_matplotlib\n",
        "\n",
        "#最初の5000だけ\n",
        "train_images = np.load('kmnist-train-imgs.npz')['arr_0'][:5000]\n",
        "train_labels = np.load('kmnist-train-labels.npz')['arr_0'][:5000]\n",
        "test_images = np.load('kmnist-test-imgs.npz')['arr_0'][:5000]\n",
        "test_labels = np.load('kmnist-test-labels.npz')['arr_0'][:5000]"
      ]
    },
    {
      "attachments": {},
      "cell_type": "markdown",
      "metadata": {
        "id": "4cMq84aUEKDZ"
      },
      "source": [
        "train_imagesにどういうデータがあるかを確認します。"
      ]
    },
    {
      "cell_type": "code",
      "execution_count": 9,
      "metadata": {
        "colab": {
          "base_uri": "https://localhost:8080/",
          "height": 472
        },
        "id": "KewBAeqFEKDa",
        "outputId": "2fbae802-0130-4911-9af7-be0147624b8d"
      },
      "outputs": [
        {
          "data": {
            "text/plain": [
              "<matplotlib.image.AxesImage at 0x7fe1bcb728c0>"
            ]
          },
          "execution_count": 9,
          "metadata": {},
          "output_type": "execute_result"
        },
        {
          "data": {
            "text/plain": [
              "<Figure size 640x480 with 0 Axes>"
            ]
          },
          "metadata": {},
          "output_type": "display_data"
        },
        {
          "data": {
            "image/png": "[encoded data removed]",
            "text/plain": [
              "<Figure size 480x480 with 1 Axes>"
            ]
          },
          "metadata": {},
          "output_type": "display_data"
        }
      ],
      "source": [
        "plt.gray()\n",
        "plt.matshow(train_images[1])"
      ]
    },
    {
      "cell_type": "code",
      "execution_count": 10,
      "metadata": {
        "colab": {
          "base_uri": "https://localhost:8080/"
        },
        "id": "K79oZCfpEKDa",
        "outputId": "66a380e4-15fe-4c93-aa96-dd12f6ce3346"
      },
      "outputs": [
        {
          "data": {
            "text/plain": [
              "array([  0,   0,   0,   0,   0,   0,   0,   0,   0,   0,   0,   0,   0,\n",
              "         0,   0,   0,   0,   0,   0,   0,   0,   0,   0,   0,   0,   0,\n",
              "         0,   0,   0,   0,   0,   0,   0,   0,   0,   0,   0,   0,   0,\n",
              "         0,   0,   0,   0,   0,   0,   0,   0,   0,   0,   0,   0,   0,\n",
              "         0,   0,   0,   0,   0,   0,   0,   0,   0,   0,   0,   0,   0,\n",
              "         0,   0,   0,   0,   0,   0,   0,   0,   0,   0,   0,   0,   0,\n",
              "         0,   0,   0,   0,   0,   0,   0,   0,   0,   0,   0,   0,   0,\n",
              "         0,   0,   0,   0,   0,   0,   0,   0,   0,   0,   0,   0,   0,\n",
              "         0,   0,   0,   0,   0,   0,   0,   0,   0,   0,   0,   0,   0,\n",
              "         0,   0,   0,   0,   0,   0,   0,   0,   0,   0,   0,   0,   0,\n",
              "         0,   0,   0,   0,   0,   0,   0,   0,   0,   0,   0,   0,   0,\n",
              "         0,   0,   0,   0,   0,   0,   0,   0,   0,   0,   0,   0,   0,\n",
              "         0,   0,   0,   0,   0,   0,   0,   0,   0,   0,   0,   0,   0,\n",
              "         0,   0,   0,   0,   0,   0,   0,   0,   0,   0,   0,   1, 134,\n",
              "       162, 155,  49,   0,  63,  89,   0,   0,   0,   0,   0,   0,   0,\n",
              "         0,   0,   0,   0,   0,   0,   0,   0,   0,   0,   0,   0,   7,\n",
              "       120, 253, 250, 129,   0,   0,   0,   0,   0,   0,   0,   0,   0,\n",
              "         0,   0,   0,   0,   0,   0,   0,   0,   0,   0,   0,   0,   0,\n",
              "         0,  77, 252, 251,  78,   0,   0,   0,   0,   0,   0,   0,   0,\n",
              "         0,   0,   0,   0,   0,   0,   0,   0,   0,   0,   0,   0,   0,\n",
              "         0,   4, 107, 210, 241, 121, 133,  16,   0,   0,   0,   0,   0,\n",
              "         0,   0,   0,   0,   0,   0,   0,   0,   0,   0,   0,   0,   0,\n",
              "         0,   0,   4, 147, 254, 244, 235, 230, 255, 138,  21,   0,   0,\n",
              "         0,   0,   0,   0,   0,   0,   0,   0,   0,   0,   0,   0,   0,\n",
              "         0,   0,   0,  82, 180, 254, 211, 236, 255, 218, 255, 255, 144,\n",
              "         0,   0,   0,   0,   0,   0,   0,   0,   0,   0,   0,   0,   0,\n",
              "         0,   0,   0,   0,  93, 249, 255, 208,  53, 241,  70,  10, 217,\n",
              "       255, 233,  57,  71, 117, 151, 110,  63,   9,   0,   0,   0,   0,\n",
              "         0,   0,   0,   0,  13, 177, 238, 251, 120,  19,  98, 218,  82,\n",
              "       102, 253, 255, 255, 252, 255, 255, 255, 255, 254, 214, 108,   5,\n",
              "         0,   0,   0,   0,   0,   6, 166, 255, 204,  83, 137, 229, 255,\n",
              "       255, 254, 222, 249, 255, 255, 192, 104, 133, 185, 255, 255, 255,\n",
              "       255, 222,  86,   2,   0,   0,  66, 219, 249, 217, 124, 233, 254,\n",
              "       255, 255, 218, 116,   2, 108, 255, 255, 110,   0,   0,   1,  70,\n",
              "        73, 185, 237, 255, 252,  66,   1,  97, 213, 211, 205, 255, 239,\n",
              "       237, 252, 163, 158, 177,  64,   0, 114, 255, 252,  66,   0,   0,\n",
              "         0,   0,   0,   0, 107, 255, 255, 140,  76, 239, 236, 255, 255,\n",
              "       255, 230, 163,  74,   2,  22, 193, 243, 110, 134, 255, 214,   6,\n",
              "         0,   0,   0,   0,  37, 155, 244, 255, 255, 191, 122, 255, 255,\n",
              "       255, 255, 220,  65,   5,   0,   0,   0,  30, 184, 252, 235, 255,\n",
              "       102,   0,   0,   0,  29, 140, 237, 255, 255, 255, 255, 113,   4,\n",
              "        71, 137, 185, 149,  32,   0,   0,   0,   0,   0,   0,  12, 177,\n",
              "       255, 255, 132,  75, 110, 195, 243, 255, 255, 255, 255, 255, 201,\n",
              "        12,   0,   0,   0,   0,   0,   0,   0,   0,   0,   0,   0,   0,\n",
              "         0,  18,  73,  89,  66, 152, 227, 255, 255, 255, 255, 255, 206,\n",
              "       111,  11,   0,   0,   0,   0,   0,   0,   0,   0,   0,   0,   0,\n",
              "         0,   0,   0,  66,   0,   0,   0,   0,   0,   0,   0,  34,  49,\n",
              "         5,   1,   0,   0,   0,   0,   0,   0,   0,   0,   0,   0,   0,\n",
              "         0,   0,   0,   0,   0,   0,   0,   0,   0,   0,   0,   0,   0,\n",
              "         0,   0,   0,   0,   0,   0,   0,   0,   0,   0,   0,   0,   0,\n",
              "         0,   0,   0,   0,   0,   0,   0,   0,   0,   0,   0,   0,   0,\n",
              "         0,   0,   0,   0,   0,   0,   0,   0,   0,   0,   0,   0,   0,\n",
              "         0,   0,   0,   0,   0,   0,   0,   0,   0,   0,   0,   0,   0,\n",
              "         0,   0,   0,   0,   0,   0,   0,   0,   0,   0,   0,   0,   0,\n",
              "         0,   0,   0,   0,   0,   0,   0,   0,   0,   0,   0,   0,   0,\n",
              "         0,   0,   0,   0,   0,   0,   0,   0,   0,   0,   0,   0,   0,\n",
              "         0,   0,   0,   0,   0,   0,   0,   0,   0,   0,   0,   0,   0,\n",
              "         0,   0,   0,   0,   0,   0,   0,   0,   0,   0,   0,   0,   0,\n",
              "         0,   0,   0,   0,   0,   0,   0,   0,   0,   0,   0,   0,   0,\n",
              "         0,   0,   0,   0,   0,   0,   0,   0,   0,   0,   0,   0,   0,\n",
              "         0,   0,   0,   0], dtype=uint8)"
            ]
          },
          "execution_count": 10,
          "metadata": {},
          "output_type": "execute_result"
        }
      ],
      "source": [
        "train_data=train_images.reshape(-1, 784)\n",
        "test_data=test_images.reshape(-1, 784)\n",
        "train_data[1]"
      ]
    },
    {
      "cell_type": "code",
      "execution_count": 11,
      "metadata": {
        "colab": {
          "base_uri": "https://localhost:8080/"
        },
        "id": "fnUSosYgEKDa",
        "outputId": "083a2ccf-6905-41d0-9c30-f334ce80e28a"
      },
      "outputs": [
        {
          "data": {
            "text/plain": [
              "(28, 28)"
            ]
          },
          "execution_count": 11,
          "metadata": {},
          "output_type": "execute_result"
        }
      ],
      "source": [
        "train_images[1].shape"
      ]
    },
    {
      "cell_type": "code",
      "execution_count": 12,
      "metadata": {
        "colab": {
          "base_uri": "https://localhost:8080/"
        },
        "id": "S_HNB_LREKDb",
        "outputId": "9ab11417-05d4-4eac-9a84-bab9cddb53a2"
      },
      "outputs": [
        {
          "data": {
            "text/plain": [
              "(784,)"
            ]
          },
          "execution_count": 12,
          "metadata": {},
          "output_type": "execute_result"
        }
      ],
      "source": [
        "train_data[1].shape"
      ]
    },
    {
      "cell_type": "code",
      "execution_count": 13,
      "metadata": {
        "colab": {
          "base_uri": "https://localhost:8080/"
        },
        "id": "8mExn3jxEKDb",
        "outputId": "36df8eb0-f21b-4d17-f525-e3912a4bf2fc"
      },
      "outputs": [
        {
          "data": {
            "text/plain": [
              "(5000, 28, 28)"
            ]
          },
          "execution_count": 13,
          "metadata": {},
          "output_type": "execute_result"
        }
      ],
      "source": [
        "train_images.shape"
      ]
    },
    {
      "cell_type": "code",
      "execution_count": 14,
      "metadata": {
        "colab": {
          "base_uri": "https://localhost:8080/",
          "height": 758
        },
        "id": "IdTA3OyuEKDb",
        "outputId": "7baef5a0-c149-4bb8-c316-2d86becde813"
      },
      "outputs": [
        {
          "data": {
            "image/png": "[encoded data removed]",
            "text/plain": [
              "<Figure size 1200x900 with 10 Axes>"
            ]
          },
          "metadata": {},
          "output_type": "display_data"
        }
      ],
      "source": [
        "# とりあえず平均をとってみます。\n",
        "\n",
        "plt.figure(figsize=(12, 9))\n",
        "for label in range(10):\n",
        "    plt.subplot(3, 4, label + 1)\n",
        "    indices = np.where(train_labels == label)\n",
        "    mean_image = train_images[indices].mean(axis=0)\n",
        "    plt.imshow(mean_image, cmap='gray')\n",
        "    plt.title(names[label+1])\n",
        "    plt.axis('off')\n",
        "plt.tight_layout()"
      ]
    },
    {
      "cell_type": "code",
      "execution_count": 15,
      "metadata": {
        "colab": {
          "base_uri": "https://localhost:8080/"
        },
        "id": "WLLp2IKTEKDc",
        "outputId": "db9c6d27-b320-4a2e-b949-d3682a9a8ce5"
      },
      "outputs": [
        {
          "name": "stdout",
          "output_type": "stream",
          "text": [
            "0.8174\n",
            "              precision    recall  f1-score   support\n",
            "\n",
            "           0       0.95      0.74      0.83       516\n",
            "           1       0.87      0.86      0.87       530\n",
            "           2       0.75      0.80      0.78       495\n",
            "           3       0.87      0.91      0.89       492\n",
            "           4       0.88      0.76      0.81       513\n",
            "           5       0.74      0.85      0.79       485\n",
            "           6       0.71      0.89      0.79       506\n",
            "           7       0.92      0.74      0.82       491\n",
            "           8       0.72      0.87      0.79       504\n",
            "           9       0.90      0.77      0.83       468\n",
            "\n",
            "    accuracy                           0.82      5000\n",
            "   macro avg       0.83      0.82      0.82      5000\n",
            "weighted avg       0.83      0.82      0.82      5000\n",
            "\n",
            "[[380   0   1   2   2  70   3  18  39   1]\n",
            " [  0 457  12   0   3   3  36   0  14   5]\n",
            " [  5   5 398  20   1   8  27   4  16  11]\n",
            " [  0   2  13 448   0  12  13   0   4   0]\n",
            " [  9  13  13  11 388  18  25   2  26   8]\n",
            " [  1   3  33   8   1 411  18   0   8   2]\n",
            " [  3   6  23   6  10   1 449   1   6   1]\n",
            " [  3  11  10   4  31  11  15 361  33  12]\n",
            " [  0  12   7  15   0  11  20   1 436   2]\n",
            " [  1  16  22   3   5   8  28   5  21 359]]\n"
          ]
        }
      ],
      "source": [
        "import sklearn.neighbors\n",
        "import sklearn.ensemble\n",
        "import sklearn.metrics\n",
        "\n",
        "clf_knn = sklearn.neighbors.KNeighborsClassifier(\n",
        "    n_neighbors=4, weights='distance', n_jobs=7)\n",
        "clf_knn.fit(train_data, train_labels)\n",
        "y_pred = clf_knn.predict(test_data)\n",
        "\n",
        "print(sklearn.metrics.accuracy_score(test_labels, y_pred))\n",
        "print(sklearn.metrics.classification_report(test_labels, y_pred))\n",
        "print(sklearn.metrics.confusion_matrix(test_labels, y_pred))"
      ]
    },
    {
      "cell_type": "code",
      "execution_count": 16,
      "metadata": {
        "colab": {
          "base_uri": "https://localhost:8080/"
        },
        "id": "rL5oz8Z9EKDc",
        "outputId": "05cc43af-fa85-4e58-9f28-ab847e1b763a"
      },
      "outputs": [
        {
          "name": "stdout",
          "output_type": "stream",
          "text": [
            "(5000, 2)\n"
          ]
        }
      ],
      "source": [
        "from sklearn.decomposition import PCA\n",
        "pca = PCA(n_components=2)\n",
        "\n",
        "projected = pca.fit_transform(train_data)\n",
        "print(projected.shape)"
      ]
    },
    {
      "cell_type": "code",
      "execution_count": 17,
      "metadata": {
        "colab": {
          "base_uri": "https://localhost:8080/",
          "height": 508
        },
        "id": "hNYC8nJxEKDc",
        "outputId": "af8189a5-3005-4d0d-b66c-c96b4f2e485a"
      },
      "outputs": [
        {
          "name": "stderr",
          "output_type": "stream",
          "text": [
            "<ipython-input-17-0ae22cc6564c>:3: MatplotlibDeprecationWarning: The get_cmap function was deprecated in Matplotlib 3.7 and will be removed two minor releases later. Use ``matplotlib.colormaps[name]`` or ``matplotlib.colormaps.get_cmap(obj)`` instead.\n",
            "  cmap=plt.cm.get_cmap('tab10', 10))\n"
          ]
        },
        {
          "data": {
            "image/png": "[encoded data removed]",
            "text/plain": [
              "<Figure size 640x480 with 2 Axes>"
            ]
          },
          "metadata": {},
          "output_type": "display_data"
        }
      ],
      "source": [
        "plt.scatter(projected[:, 0], projected[:, 1],\n",
        "            c=train_labels, edgecolor='none', alpha=0.5,\n",
        "            cmap=plt.cm.get_cmap('tab10', 10))\n",
        "plt.xlabel('component 1')\n",
        "plt.ylabel('component 2')\n",
        "plt.colorbar();"
      ]
    },
    {
      "attachments": {},
      "cell_type": "markdown",
      "metadata": {
        "id": "QX_f8rR1EKDd"
      },
      "source": [
        "PCAの結果はイマイチ、、\n",
        "\n",
        "そこでTSNEの実施"
      ]
    },
    {
      "cell_type": "code",
      "execution_count": null,
      "metadata": {
        "id": "lzPu3UtNEKDe"
      },
      "outputs": [],
      "source": [
        "from sklearn.manifold import TSNE\n",
        "import sklearn.datasets\n",
        "import seaborn as sns\n",
        "import pandas as pd\n",
        "\n",
        "digits2d = TSNE(n_components=2).fit_transform(train_data)\n",
        "\n",
        "plt.scatter(digits2d[:,0], digits2d[:,1], edgecolors='k')"
      ]
    },
    {
      "attachments": {},
      "cell_type": "markdown",
      "metadata": {
        "id": "Sg24I7m8EKDe"
      },
      "source": [
        "### 課題1：ここからが問題です。"
      ]
    },
    {
      "cell_type": "code",
      "execution_count": null,
      "metadata": {
        "id": "7HBpBAvoEKDe"
      },
      "outputs": [],
      "source": [
        "## K平均法をつかってクラスタリングして結果を表示せよ\n",
        "from sklearn.cluster import KMeans\n",
        "%matplotlib inline\n",
        "from matplotlib import cm\n",
        "\n",
        "#KMeanをつかう、lecture10_clustering.ipynb　を参考\n",
        "\n",
        "#クラスタリングした結果を表示するための色付けのための予測\n",
        "#y_train_est = kmeans.predict(digits2d)\n",
        "\n",
        "#描画はこのようになるはず。\n",
        "plt.scatter(digits2d[:,0], digits2d[:,1], c=y_train_est, cmap=cm.bwr, edgecolors='k')"
      ]
    },
    {
      "attachments": {},
      "cell_type": "markdown",
      "metadata": {
        "id": "r5_tHJq0EKDf"
      },
      "source": [
        "# クラスタリングの結果と正解値を比較せよ"
      ]
    }
  ],
  "metadata": {
    "colab": {
      "provenance": []
    },
    "interpreter": {
      "hash": "2db524e06e9f5f4ffedc911c917cb75e12dbc923643829bf417064a77eb14d37"
    },
    "kernelspec": {
      "display_name": "Python 3.8.3 64-bit",
      "language": "python",
      "name": "python3"
    },
    "language_info": {
      "codemirror_mode": {
        "name": "ipython",
        "version": 3
      },
      "file_extension": ".py",
      "mimetype": "text/x-python",
      "name": "python",
      "nbconvert_exporter": "python",
      "pygments_lexer": "ipython3",
      "version": "3.8.3"
    },
    "orig_nbformat": 4
  },
  "nbformat": 4,
  "nbformat_minor": 0
}
