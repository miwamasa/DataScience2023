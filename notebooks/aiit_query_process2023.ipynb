{
  "cells": [
    {
      "cell_type": "markdown",
      "metadata": {
        "id": "t8OrbPK00I51"
      },
      "source": [
        "# Lecture 5 演習(アンケート結果の可視化)\n",
        "\n",
        "第１回講義にて、簡単なアンケートを取りました。教員は、この結果はエクセルとしてダウンロードできます。\n",
        "\n",
        "エクセル形式で保存されたアンケート結果を集計分析する例を、できるだけインタラクティブに再現してみました。"
      ]
    },
    {
      "cell_type": "markdown",
      "metadata": {
        "id": "tGt8N5JW0I54"
      },
      "source": [
        "## エクセルを読む\n",
        "最初にエクセル形式のファイル(ここでは*.xlsという古い形式のデータを読みます)\n",
        "\n",
        "ファイルはmanabaに掲載しますので、ダウンロードしてからCorab環境にuploadしてください。"
      ]
    },
    {
      "cell_type": "code",
      "execution_count": null,
      "metadata": {
        "colab": {
          "base_uri": "https://localhost:8080/",
          "height": 1000
        },
        "id": "0mRjMMWg0I55",
        "outputId": "fc91b2b2-95fc-49c8-fbc7-48e3c5de4eae"
      },
      "outputs": [],
      "source": [
        "import pandas as pd\n",
        "import numpy as np\n",
        "\n",
        "df = pd.read_excel('https://raw.githubusercontent.com/miwamasa/DataScience2023/main/notebooks/data/query-76921-77695.xlsx',skiprows=4)\n",
        "df"
      ]
    },
    {
      "cell_type": "markdown",
      "metadata": {
        "id": "-obfQ26K0I57"
      },
      "source": [
        "どうも第１行が、カラム名で、第２行はその説明、３行目以降が一人一人のアンケートのようです。\n",
        "\n",
        "とりあえず２つを行います\n",
        "- 取り扱うコラムは#回答1.1～回答1.4ですので、名前をつけなおします。(df.columnsにリストを代入すればコラム名は付け替えられました)\n",
        "- 最初の２行を読み飛ばします(行に対するスライスを使ってます。)"
      ]
    },
    {
      "cell_type": "code",
      "execution_count": null,
      "metadata": {
        "colab": {
          "base_uri": "https://localhost:8080/",
          "height": 206
        },
        "id": "n-qPNADr0I57",
        "outputId": "9150700e-23e9-46a7-859d-7e9f8a54ebda"
      },
      "outputs": [],
      "source": [
        "df.columns=['dateof','q1.1','q1.2','q1.3','q1.4']\n",
        "df=df[2:]\n",
        "df.head()"
      ]
    },
    {
      "cell_type": "markdown",
      "metadata": {
        "id": "5z6djrFE0I58"
      },
      "source": [
        "未提出でNaNのぎょうももあり、また最後の行がNaNで埋まっています、これは削除しましょう。"
      ]
    },
    {
      "cell_type": "code",
      "execution_count": null,
      "metadata": {
        "colab": {
          "base_uri": "https://localhost:8080/",
          "height": 1000
        },
        "id": "pSwitNR40I58",
        "outputId": "b690a4ed-2a01-498c-ee9a-387464df0df4"
      },
      "outputs": [],
      "source": [
        "df2=df.dropna(how='all')\n",
        "df2"
      ]
    },
    {
      "cell_type": "markdown",
      "metadata": {
        "id": "iMhK9TSP0I58"
      },
      "source": [
        "## データの概要\n",
        "さて質問は\n",
        "- q1.1: 統計を学んだ経験について（複数選択）\n",
        "- q1.2: 使ったことのあるプログラミング言語（複数選択)\n",
        "- q1.3: Pythonを使った経験（３択）\n",
        "- q1.4: データサイエンスに期待する項目は？(複数選択)\n",
        "\n",
        "このように、複数選択可能なものがあり'1,2,3'のような文字列で複数選択結果が記録されています。"
      ]
    },
    {
      "cell_type": "markdown",
      "metadata": {
        "id": "KLgrupvC0I58"
      },
      "source": [
        "## q1.2　使ったことのあるプログラミング言語\n",
        "まずは、複数選択された結果を含めて、使ったことのあるプログラミング言語の延べ数を集計します。\n",
        "\n",
        "最初に、'q1.2'の列を取り出します。"
      ]
    },
    {
      "cell_type": "code",
      "execution_count": null,
      "metadata": {
        "colab": {
          "base_uri": "https://localhost:8080/"
        },
        "id": "Y_vRDY8W0I59",
        "outputId": "d216467e-d486-47ce-e4f2-a789e9633228"
      },
      "outputs": [],
      "source": [
        "df2['q1.2'].values"
      ]
    },
    {
      "cell_type": "markdown",
      "metadata": {
        "id": "AplZhLdH0I59"
      },
      "source": [
        "'1,2,3'のような文字列を特定のセパレータ(ここでは',')でばらしたリストにするのにsplit()関数を追加います。"
      ]
    },
    {
      "cell_type": "code",
      "execution_count": null,
      "metadata": {
        "colab": {
          "base_uri": "https://localhost:8080/"
        },
        "id": "GYEzQEhC0I59",
        "outputId": "df2fb287-f533-49d6-e4b2-3e2df718561b"
      },
      "outputs": [],
      "source": [
        "hoge='1,2,3'\n",
        "hogehoge=hoge.split(',')\n",
        "hogehoge"
      ]
    },
    {
      "cell_type": "markdown",
      "metadata": {
        "id": "888II9-z0I5-"
      },
      "source": [
        "そて、q1.2列の値のリストに対して、それぞれの要素をsplit関数でバラバラにして、それを１つのリストとして集約します。\n",
        "\n",
        "ここでは**残念ながら** for文を使っています。"
      ]
    },
    {
      "cell_type": "code",
      "execution_count": null,
      "metadata": {
        "colab": {
          "base_uri": "https://localhost:8080/"
        },
        "id": "8V2ylKOZ0I5-",
        "outputId": "d5f65838-4053-4237-f54e-a5974c62f93b"
      },
      "outputs": [],
      "source": [
        "ret=[]\n",
        "q2list= df2['q1.2'].values\n",
        "for i in range(len(q2list)):\n",
        "  ret.extend(q2list[i].split(','))\n",
        "ret"
      ]
    },
    {
      "cell_type": "markdown",
      "metadata": {
        "id": "edC6O7VP0I5-"
      },
      "source": [
        "さあ、ここで、得られたリストの値は、カテゴリー変数とよばれれる変数です、'1'～'10'のカテゴリー毎に出現件数を集計するのにcollection.Counterを使います。"
      ]
    },
    {
      "cell_type": "code",
      "execution_count": null,
      "metadata": {
        "colab": {
          "base_uri": "https://localhost:8080/"
        },
        "id": "ubaYvmba0I5-",
        "outputId": "07725752-c205-4402-fe8e-690591cef650"
      },
      "outputs": [],
      "source": [
        "import collections\n",
        "\n",
        "c=collections.Counter(ret)\n",
        "c"
      ]
    },
    {
      "cell_type": "markdown",
      "metadata": {
        "id": "e0axPYz80I5-"
      },
      "source": [
        "Counterは一種の辞書dictになっています。ここでキーを'1','2'ではなくて、設問にあった選択枝'VBA','C/C++'で付け替えます。\n",
        "\n",
        "popして代入することで１行で付け替えができることに注意ください。"
      ]
    },
    {
      "cell_type": "code",
      "execution_count": null,
      "metadata": {
        "colab": {
          "base_uri": "https://localhost:8080/"
        },
        "id": "JKjkY8KV0I5-",
        "outputId": "13ebe70d-f8f2-4922-f651-48a4bfc9c228"
      },
      "outputs": [],
      "source": [
        "c['VBA']=c.pop('1')\n",
        "c['C/C++']=c.pop('2')\n",
        "c['Python']=c.pop('3')\n",
        "c['Ruby']=c.pop('4')\n",
        "c['Java']=c.pop('5')\n",
        "c['FORTRAN']=c.pop('6')\n",
        "c['COBOL']=c.pop('7')\n",
        "c['Basic']=c.pop('8')\n",
        "c['Other']=c.pop('9')\n",
        "c['Non']=c.pop('10')\n",
        "c"
      ]
    },
    {
      "cell_type": "code",
      "execution_count": null,
      "metadata": {
        "colab": {
          "base_uri": "https://localhost:8080/"
        },
        "id": "FQV3uHH_0I5-",
        "outputId": "eca02b6d-e620-480c-b81b-c1d20eda8053"
      },
      "outputs": [],
      "source": [
        "c.items()"
      ]
    },
    {
      "cell_type": "code",
      "execution_count": null,
      "metadata": {
        "colab": {
          "base_uri": "https://localhost:8080/"
        },
        "id": "sKYKgg-80I5-",
        "outputId": "c1481db4-7b8b-4e78-8ecb-9d2d19616daf"
      },
      "outputs": [],
      "source": [
        "c.values()"
      ]
    },
    {
      "cell_type": "markdown",
      "metadata": {
        "id": "optOTXwN0I5_"
      },
      "source": [
        "## 円グラフの表示\n",
        "それでは円グラフを描いてみましょう"
      ]
    },
    {
      "cell_type": "code",
      "execution_count": null,
      "metadata": {
        "colab": {
          "base_uri": "https://localhost:8080/",
          "height": 446
        },
        "id": "SnhE1QEd0I5_",
        "outputId": "f7cd1fa9-115c-4d63-9fa7-26d4d205c42a"
      },
      "outputs": [],
      "source": [
        "import matplotlib.pyplot as plt\n",
        "\n",
        "plt.pie(c.values(),labels=c.keys(), counterclock=False, startangle=90, autopct=\"%.1f%%\",\n",
        "        pctdistance=0.7)\n",
        "plt.title('Programming Language  Experience')"
      ]
    },
    {
      "cell_type": "code",
      "execution_count": null,
      "metadata": {
        "colab": {
          "base_uri": "https://localhost:8080/"
        },
        "id": "AJ29mF4u0I5_",
        "outputId": "69a9665a-eabf-454f-80cb-28b4f3481d4e"
      },
      "outputs": [],
      "source": [
        "len(q2list)"
      ]
    },
    {
      "cell_type": "markdown",
      "metadata": {
        "id": "PXxMD5Vc0I5_"
      },
      "source": [
        "## q1.3 Pythonを使った経験\n",
        "これは、３択なので簡単です。"
      ]
    },
    {
      "cell_type": "code",
      "execution_count": null,
      "metadata": {
        "colab": {
          "base_uri": "https://localhost:8080/"
        },
        "id": "tyIiCzbN0I5_",
        "outputId": "7d69a804-a62a-4e4e-d930-dc80f2b069f2"
      },
      "outputs": [],
      "source": [
        "df2['q1.3']"
      ]
    },
    {
      "cell_type": "code",
      "execution_count": null,
      "metadata": {
        "colab": {
          "base_uri": "https://localhost:8080/"
        },
        "id": "hYnRk2L60I5_",
        "outputId": "bda78086-ec2b-44bd-aeb6-aae6c203b129"
      },
      "outputs": [],
      "source": [
        "c3=collections.Counter(df2['q1.3'])\n",
        "c3"
      ]
    },
    {
      "cell_type": "code",
      "execution_count": null,
      "metadata": {
        "colab": {
          "base_uri": "https://localhost:8080/"
        },
        "id": "uLJ3CsVY0I5_",
        "outputId": "c33eea97-cd43-4657-c2f8-b6e5d3120b6b"
      },
      "outputs": [],
      "source": [
        "c3['over 3years']=c3.pop('1')\n",
        "c3['less than 3years']=c3.pop('2')\n",
        "c3['no python']=c3.pop('3')\n",
        "c3"
      ]
    },
    {
      "cell_type": "code",
      "execution_count": null,
      "metadata": {
        "colab": {
          "base_uri": "https://localhost:8080/",
          "height": 1000
        },
        "id": "_FmI_N9i0I5_",
        "outputId": "8cca911d-c6cd-4547-a696-5662663bbf3f"
      },
      "outputs": [],
      "source": [
        "plt.rcParams['font.family'] = 'IPAexGothic'\n",
        "plt.pie(c3.values(),labels=c3.keys(), counterclock=False, startangle=90, autopct=\"%.1f%%\",\n",
        "        pctdistance=0.7)\n",
        "plt.title('Python Experience')"
      ]
    },
    {
      "cell_type": "markdown",
      "metadata": {
        "id": "fu1CsE2i0I5_"
      },
      "source": [
        "## q1.1　統計を学んだ経験\n",
        "これも、複数選択された結果を集計します。\n"
      ]
    },
    {
      "cell_type": "code",
      "execution_count": null,
      "metadata": {
        "colab": {
          "base_uri": "https://localhost:8080/"
        },
        "id": "A9VyWAEB0I5_",
        "outputId": "49ad8a30-06b2-4e34-cce8-4627306bfd49"
      },
      "outputs": [],
      "source": [
        "df2['q1.1']"
      ]
    },
    {
      "cell_type": "code",
      "execution_count": null,
      "metadata": {
        "colab": {
          "base_uri": "https://localhost:8080/"
        },
        "id": "UQ7kl1ZH0I6A",
        "outputId": "ff744dce-0a57-4f29-e369-dce8d1da3ac2"
      },
      "outputs": [],
      "source": [
        "q1list= df2['q1.1'].ravel()\n",
        "ret=[]\n",
        "for i in range(len(q1list)):\n",
        "  ret.extend(q1list[i].split(','))\n",
        "ret"
      ]
    },
    {
      "cell_type": "code",
      "execution_count": null,
      "metadata": {
        "colab": {
          "base_uri": "https://localhost:8080/"
        },
        "id": "4OAa6pPs0I6A",
        "outputId": "ad496e80-327f-4a8d-df84-100648b47ac0"
      },
      "outputs": [],
      "source": [
        "c1=collections.Counter(ret)\n",
        "c1"
      ]
    },
    {
      "cell_type": "code",
      "execution_count": null,
      "metadata": {
        "id": "J6mSCmsc0I6A"
      },
      "outputs": [],
      "source": [
        "c1['HighSchool']=c1.pop('1')\n",
        "c1['University']=c1.pop('2')\n",
        "c1['GradSchool']=c1.pop('3')\n",
        "c1['OJT']=c1.pop('4')\n",
        "c1['SelfTaught']=c1.pop('5')\n",
        "c1['NoStatistics']=c1.pop('6')\n",
        "c1['Other']=c1.pop('7')"
      ]
    },
    {
      "cell_type": "code",
      "execution_count": null,
      "metadata": {
        "colab": {
          "base_uri": "https://localhost:8080/"
        },
        "id": "EN3C-MZ40I6A",
        "outputId": "911385e9-d255-44f0-e60f-4de1a9df0907"
      },
      "outputs": [],
      "source": [
        "c1"
      ]
    },
    {
      "cell_type": "code",
      "execution_count": null,
      "metadata": {
        "colab": {
          "base_uri": "https://localhost:8080/",
          "height": 446
        },
        "id": "ZfzyndK80I6A",
        "outputId": "01f25d49-5f79-4104-d36d-0739c9436d46"
      },
      "outputs": [],
      "source": [
        "plt.pie(c1.values(),labels=c1.keys(), counterclock=False, startangle=90, autopct=\"%.1f%%\",\n",
        "        pctdistance=0.7)\n",
        "plt.title('Statistic Course Experience')"
      ]
    },
    {
      "cell_type": "code",
      "execution_count": null,
      "metadata": {
        "id": "bAi6Y1BA0I6A"
      },
      "outputs": [],
      "source": []
    }
  ],
  "metadata": {
    "colab": {
      "provenance": []
    },
    "interpreter": {
      "hash": "2db524e06e9f5f4ffedc911c917cb75e12dbc923643829bf417064a77eb14d37"
    },
    "kernelspec": {
      "display_name": "Environment (conda_caret2test)",
      "language": "python",
      "name": "python3"
    },
    "language_info": {
      "codemirror_mode": {
        "name": "ipython",
        "version": 3
      },
      "file_extension": ".py",
      "mimetype": "text/x-python",
      "name": "python",
      "nbconvert_exporter": "python",
      "pygments_lexer": "ipython3",
      "version": "3.8.3"
    },
    "orig_nbformat": 4
  },
  "nbformat": 4,
  "nbformat_minor": 0
}
