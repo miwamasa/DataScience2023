{
 "cells": [
  {
   "attachments": {},
   "cell_type": "markdown",
   "metadata": {},
   "source": [
    "# Lecture4  - データの取得と操作 -\n",
    "<div dir='rtl'>\n",
    "2022.4岩政\n",
    "</div>"
   ]
  },
  {
   "cell_type": "markdown",
   "metadata": {},
   "source": [
    "最初に https://raw.githubusercontent.com/miwamasa/DataScience2022/main/notebooks/data/fortune500.csv\n",
    "\n",
    "を ローカルディスクにコピーします（ここではtmpフォルダの下にfortune500.csvとして保存します)\n",
    "\n",
    "https://raw.githubusercontent.com/miwamasa/DataScience2022/main/notebooks/data/fortune500.csv\n",
    "をブラウザで開けて、右クリックで「名前を付けて保存」でPCのローカルディスクにコピーします。"
   ]
  },
  {
   "cell_type": "markdown",
   "metadata": {},
   "source": [
    "## Recap\n",
    "ファイルのアップロードの仕方が少しわかりにくかったのでもう一度おさらいします。\n",
    "- ファイルをアップロードする\n",
    "  - Colab画面の左にある「ファイル」アイコンをクリックするとフォルダ構成画面が表示する\n",
    "  - フォルダ構成画面の上方に、「セッションストレージにアップロード」アイコンをクリックし、ファイルを選択する\n",
    "  - フォルダ画面にアップロードしたファイルが見えることを確認\n",
    "  - notebookのコードcellからファイルにアクセスできるようになる。\n",
    "- ファイルを次に残したい場合\n",
    "  - Colabではセッションが終了すると、アップロードしたファイルは消える（セッションに再接続してみえることもある）\n",
    "  - ファイルを次のセッション（翌日起動など）に残したい場合は、Google DriveをマウントしてGoogle Driveにファイルをアップロードすると使える。\n",
    "## Google Driveのマウント\n",
    "### フォルダ構造を表示\n",
    "- ドライブにnotebookをコピーした後\n",
    "- 左のバーにあるフォルダのアイコンをクリックすると、フォルダ構成が表示されます。\n",
    "\n",
    "<img src=\"figures/lec2_colab_drive0.png\" width=\"50%\">"
   ]
  },
  {
   "cell_type": "markdown",
   "metadata": {},
   "source": [
    "### ドライブをマウント\n",
    "- 「ドライブをマウント」ボタンを押すと、notebookにマウントを行うcellが挿入される\n",
    "\n",
    "\n",
    "<img src=\"figures/lec2_colab_drive1.png\" width=\"50%\">\n",
    "\n",
    "- cellを実行すると、'drive'がマウントされて、ファイル構造に反映される\n",
    "\n",
    "<img src=\"figures/lec2_colab_drive2.png\" width=\"50%\">"
   ]
  },
  {
   "cell_type": "markdown",
   "metadata": {},
   "source": [
    "#### ファイルをアップロード\n",
    "- Chromeの新しいタブを開き、GoogleメニューからGoogle Driveを開きます。\n",
    "- 最初にローカルPCに保存したfortune500.csvを「マイドライブ」の直下にアップロードします\n",
    "- 右クリックで「ファイルをアップロード」を選択してファイルアップロードします\n",
    "\n",
    "<img src=\"figures/lec2_colab_drive3.png\" width=\"50%\">\n",
    "\n",
    "- ファイルがアップロードされたことを確認します。\n",
    "\n",
    "<img src=\"figures/lec2_colab_drive4.png\" width=\"50%\">\n",
    "\n",
    "- Colabに戻ると、ファイル構成に'fortune500.csv'が反映されてます。\n",
    "\n",
    "<img src=\"figures/lec2_colab_drive5.png\" width=\"50%\">"
   ]
  },
  {
   "cell_type": "markdown",
   "metadata": {},
   "source": [
    "#### ファイルパスを修正してファイル読み込みのcellを実行\n",
    "\n",
    "<img src=\"figures/lec2_colab_drive6.png\" width=\"50%\">"
   ]
  },
  {
   "cell_type": "markdown",
   "metadata": {},
   "source": [
    "それではやってみましょう。"
   ]
  },
  {
   "cell_type": "code",
   "execution_count": null,
   "metadata": {},
   "outputs": [],
   "source": [
    "# csvパッケージを使う場合\n",
    "import csv\n",
    "filename = 'data/fortune500.csv'\n",
    "with open(filename, encoding='utf8', newline='') as f:\n",
    "    csvreader = csv.reader(f)\n",
    "    for row in csvreader:\n",
    "        print(row)"
   ]
  },
  {
   "cell_type": "code",
   "execution_count": null,
   "metadata": {},
   "outputs": [],
   "source": [
    "# pandasパッケージを使う場合\n",
    "import pandas as pd\n",
    "df = pd.read_csv('data/fortune500.csv')\n",
    "df.head()"
   ]
  },
  {
   "cell_type": "markdown",
   "metadata": {},
   "source": [
    "## numpyとndarray\n",
    "pythonのnumpyパッケージ付属のn次元配列を生成するクラス\n",
    "- 同じ型しか格納できない、型が決まっている＝安全\n",
    "- 多次元配列を表現できる\n",
    "- 数値計算のためのメソッド・関数が豊富で、高速な演算が可能\n"
   ]
  },
  {
   "cell_type": "code",
   "execution_count": null,
   "metadata": {},
   "outputs": [],
   "source": [
    "import numpy as np\n",
    "x = np.array([[1,2,3],[4,5,6]], dtype=np.float64)\n",
    "print('type(x):',type(x),'x.shape:',x.shape,'x.dtype:',x.dtype)"
   ]
  },
  {
   "cell_type": "markdown",
   "metadata": {},
   "source": [
    "numpyのloadtext、savetextの例"
   ]
  },
  {
   "cell_type": "code",
   "execution_count": null,
   "metadata": {},
   "outputs": [],
   "source": [
    "import numpy as np\n",
    "a=np.array([[2,3,4],[5,6,7],[8,9,10]])\n",
    "a"
   ]
  },
  {
   "cell_type": "code",
   "execution_count": null,
   "metadata": {},
   "outputs": [],
   "source": [
    "np.savetxt('test.txt', a)"
   ]
  },
  {
   "cell_type": "markdown",
   "metadata": {},
   "source": [
    "test.txtを確認します。"
   ]
  },
  {
   "cell_type": "code",
   "execution_count": null,
   "metadata": {},
   "outputs": [],
   "source": [
    "np.savetxt('test.txt', a, fmt=\"%.0f\")"
   ]
  },
  {
   "cell_type": "code",
   "execution_count": null,
   "metadata": {},
   "outputs": [],
   "source": [
    "np.loadtxt('test.txt')"
   ]
  },
  {
   "cell_type": "code",
   "execution_count": null,
   "metadata": {},
   "outputs": [],
   "source": [
    "np.savetxt('test.csv', a,  delimiter=',')"
   ]
  },
  {
   "cell_type": "code",
   "execution_count": null,
   "metadata": {},
   "outputs": [],
   "source": [
    "np.loadtxt('test.csv' , delimiter=',' )"
   ]
  },
  {
   "cell_type": "code",
   "execution_count": null,
   "metadata": {},
   "outputs": [],
   "source": []
  }
 ],
 "metadata": {
  "interpreter": {
   "hash": "2db524e06e9f5f4ffedc911c917cb75e12dbc923643829bf417064a77eb14d37"
  },
  "kernelspec": {
   "display_name": "Python 3.8.3 64-bit",
   "language": "python",
   "name": "python3"
  },
  "language_info": {
   "codemirror_mode": {
    "name": "ipython",
    "version": 3
   },
   "file_extension": ".py",
   "mimetype": "text/x-python",
   "name": "python",
   "nbconvert_exporter": "python",
   "pygments_lexer": "ipython3",
   "version": "3.8.3"
  },
  "orig_nbformat": 4
 },
 "nbformat": 4,
 "nbformat_minor": 2
}
