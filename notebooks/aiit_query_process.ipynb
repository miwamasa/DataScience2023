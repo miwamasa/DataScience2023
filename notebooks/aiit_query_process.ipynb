{
 "cells": [
  {
   "cell_type": "markdown",
   "metadata": {},
   "source": [
    "# Lecture 3 演習(アンケート結果の可視化)\n",
    "\n",
    "第１回講義にて、簡単なアンケートを取りました。教員は、この結果はエクセルとしてダウンロードできます。\n",
    "\n",
    "エクセル形式で保存されたアンケート結果を集計分析する例を、できるだけインタラクティブに再現してみました。"
   ]
  },
  {
   "cell_type": "markdown",
   "metadata": {},
   "source": [
    "## エクセルを読む\n",
    "最初にエクセル形式のファイル(ここでは*.xlsという古い形式のデータを読みます)\n",
    "\n",
    "ファイルはmanabaに掲載しますので、ダウンロードしてからCorab環境にuploadしてください。"
   ]
  },
  {
   "cell_type": "code",
   "execution_count": null,
   "metadata": {},
   "outputs": [],
   "source": [
    "import pandas as pd\n",
    "import numpy as np\n",
    "\n",
    "df = pd.read_excel('data/query-66083-66917.xls',skiprows=4)\n",
    "df"
   ]
  },
  {
   "cell_type": "markdown",
   "metadata": {},
   "source": [
    "Colab環境では失敗しましたね。どうもxlrdというパッケージのバージョンが1.2.0以上である必要があるようです。"
   ]
  },
  {
   "cell_type": "code",
   "execution_count": null,
   "metadata": {},
   "outputs": [],
   "source": [
    "!pip install xlrd==1.2.0"
   ]
  },
  {
   "cell_type": "markdown",
   "metadata": {},
   "source": [
    "カーネルをリスタートして、再度読み込みます。"
   ]
  },
  {
   "cell_type": "code",
   "execution_count": null,
   "metadata": {},
   "outputs": [],
   "source": [
    "df = pd.read_excel('data/query-66083-66917.xls',skiprows=4)\n",
    "df"
   ]
  },
  {
   "cell_type": "markdown",
   "metadata": {},
   "source": [
    "どうも第１行が、カラム名で、第２行はその説明、３行目以降が一人一人のアンケートのようです。\n",
    "\n",
    "とりあえず２つを行います\n",
    "- 取り扱うコラムは#回答1.1～回答1.4ですので、名前をつけなおします。(df.columnsにリストを代入すればコラム名は付け替えられました)\n",
    "- 最初の２行を読み飛ばします(行に対するスライスを使ってます。)"
   ]
  },
  {
   "cell_type": "code",
   "execution_count": null,
   "metadata": {},
   "outputs": [],
   "source": [
    "df.columns=['col0','col1','col2','col3','col4','col5','col6','q1.1','q1.2','q1.3','q1.4']\n",
    "df=df[2:]\n",
    "df.head()"
   ]
  },
  {
   "cell_type": "markdown",
   "metadata": {},
   "source": [
    "col5が'未提出'な行**以外**を絞り込み、さらにq1.1～q1.4のみを残します"
   ]
  },
  {
   "cell_type": "code",
   "execution_count": null,
   "metadata": {},
   "outputs": [],
   "source": [
    "df2=df[df.iloc[:,5]!='未提出']\n",
    "df2=df2[['q1.1','q1.2','q1.3','q1.4']]\n",
    "df2"
   ]
  },
  {
   "cell_type": "markdown",
   "metadata": {},
   "source": [
    "どうも最後の行がNaNで埋まっています、これは削除しましょう。"
   ]
  },
  {
   "cell_type": "code",
   "execution_count": null,
   "metadata": {},
   "outputs": [],
   "source": [
    "df2=df2.dropna(how='all')\n",
    "df2"
   ]
  },
  {
   "cell_type": "markdown",
   "metadata": {},
   "source": [
    "## データの概要\n",
    "さて質問は\n",
    "- q1.1: 統計を学んだ経験について（複数選択）\n",
    "- q1.2: 使ったことのあるプログラミング言語（複数選択)\n",
    "- q1.3: Pythonを使った経験（３択）\n",
    "- q1.4: データサイエンスに期待する項目は？(複数選択)\n",
    "\n",
    "このように、複数選択可能なものがあり'1,2,3'のような文字列で複数選択結果が記録されています。"
   ]
  },
  {
   "cell_type": "markdown",
   "metadata": {},
   "source": [
    "## q1.2　使ったことのあるプログラミング言語\n",
    "まずは、複数選択された結果を含めて、使ったことのあるプログラミング言語の延べ数を集計します。\n",
    "\n",
    "最初に、'q1.2'の列を取り出します。"
   ]
  },
  {
   "cell_type": "code",
   "execution_count": null,
   "metadata": {},
   "outputs": [],
   "source": [
    "df2['q1.2'].values"
   ]
  },
  {
   "cell_type": "markdown",
   "metadata": {},
   "source": [
    "'1,2,3'のような文字列を特定のセパレータ(ここでは',')でばらしたリストにするのにsplit()関数を追加います。"
   ]
  },
  {
   "cell_type": "code",
   "execution_count": null,
   "metadata": {},
   "outputs": [],
   "source": [
    "hoge='1,2,3'\n",
    "hogehoge=hoge.split(',')\n",
    "hogehoge"
   ]
  },
  {
   "cell_type": "markdown",
   "metadata": {},
   "source": [
    "そて、q1.2列の値のリストに対して、それぞれの要素をsplit関数でバラバラにして、それを１つのリストとして集約します。\n",
    "\n",
    "ここでは**残念ながら** for文を使っています。"
   ]
  },
  {
   "cell_type": "code",
   "execution_count": null,
   "metadata": {},
   "outputs": [],
   "source": [
    "ret=[]\n",
    "q2list= df2['q1.2'].values\n",
    "for i in range(len(q2list)):\n",
    "  ret.extend(q2list[i].split(','))\n",
    "ret"
   ]
  },
  {
   "cell_type": "markdown",
   "metadata": {},
   "source": [
    "さあ、ここで、得られたリストの値は、カテゴリー変数とよばれれる変数です、'1'～'10'のカテゴリー毎に出現件数を集計するのにcollection.Counterを使います。"
   ]
  },
  {
   "cell_type": "code",
   "execution_count": null,
   "metadata": {},
   "outputs": [],
   "source": [
    "import collections\n",
    "\n",
    "c=collections.Counter(ret)\n",
    "c"
   ]
  },
  {
   "cell_type": "markdown",
   "metadata": {},
   "source": [
    "Counterは一種の辞書dictになっています。ここでキーを'1','2'ではなくて、設問にあった選択枝'VBA','C/C++'で付け替えます。\n",
    "\n",
    "popして代入することで１行で付け替えができることに注意ください。"
   ]
  },
  {
   "cell_type": "code",
   "execution_count": null,
   "metadata": {},
   "outputs": [],
   "source": [
    "c['VBA']=c.pop('1')\n",
    "c['C/C++']=c.pop('2')\n",
    "c['Python']=c.pop('3')\n",
    "c['Ruby']=c.pop('4')\n",
    "c['Java']=c.pop('5')\n",
    "c['FORTRAN']=c.pop('6')\n",
    "c['COBOL']=c.pop('7')\n",
    "c['Basic']=c.pop('8')\n",
    "c['Other']=c.pop('9')\n",
    "c['Non']=c.pop('10')\n",
    "c"
   ]
  },
  {
   "cell_type": "code",
   "execution_count": null,
   "metadata": {},
   "outputs": [],
   "source": [
    "c.items()"
   ]
  },
  {
   "cell_type": "code",
   "execution_count": null,
   "metadata": {},
   "outputs": [],
   "source": [
    "c.values()"
   ]
  },
  {
   "cell_type": "markdown",
   "metadata": {},
   "source": [
    "## 円グラフの表示\n",
    "それでは円グラフを描いてみましょう"
   ]
  },
  {
   "cell_type": "code",
   "execution_count": null,
   "metadata": {},
   "outputs": [],
   "source": [
    "import matplotlib.pyplot as plt\n",
    "\n",
    "plt.pie(c.values(),labels=c.keys(), counterclock=False, startangle=90, autopct=\"%.1f%%\",\n",
    "        pctdistance=0.7)\n",
    "plt.title('Programming Language  Experience')"
   ]
  },
  {
   "cell_type": "code",
   "execution_count": null,
   "metadata": {},
   "outputs": [],
   "source": [
    "len(q2list)"
   ]
  },
  {
   "cell_type": "markdown",
   "metadata": {},
   "source": [
    "## q1.3 Pythonを使った経験\n",
    "これは、３択なので簡単です。"
   ]
  },
  {
   "cell_type": "code",
   "execution_count": null,
   "metadata": {},
   "outputs": [],
   "source": [
    "df2['q1.3']"
   ]
  },
  {
   "cell_type": "code",
   "execution_count": null,
   "metadata": {},
   "outputs": [],
   "source": [
    "c3=collections.Counter(df2['q1.3'])\n",
    "c3"
   ]
  },
  {
   "cell_type": "code",
   "execution_count": null,
   "metadata": {},
   "outputs": [],
   "source": [
    "c3['over 3years']=c3.pop('1')\n",
    "c3['less than 3years']=c3.pop('2')\n",
    "c3['no python']=c3.pop('3')\n",
    "c3"
   ]
  },
  {
   "cell_type": "code",
   "execution_count": null,
   "metadata": {},
   "outputs": [],
   "source": [
    "plt.rcParams['font.family'] = 'IPAexGothic'\n",
    "plt.pie(c3.values(),labels=c3.keys(), counterclock=False, startangle=90, autopct=\"%.1f%%\",\n",
    "        pctdistance=0.7)\n",
    "plt.title('Python Experience')"
   ]
  },
  {
   "cell_type": "markdown",
   "metadata": {},
   "source": [
    "## q1.1　統計を学んだ経験\n",
    "これも、複数選択された結果を集計します。\n"
   ]
  },
  {
   "cell_type": "code",
   "execution_count": null,
   "metadata": {},
   "outputs": [],
   "source": [
    "df2['q1.1']"
   ]
  },
  {
   "cell_type": "code",
   "execution_count": null,
   "metadata": {},
   "outputs": [],
   "source": [
    "q1list= df2['q1.1'].ravel()\n",
    "ret=[]\n",
    "for i in range(len(q1list)):\n",
    "  ret.extend(q1list[i].split(','))\n",
    "ret"
   ]
  },
  {
   "cell_type": "code",
   "execution_count": null,
   "metadata": {},
   "outputs": [],
   "source": [
    "c1=collections.Counter(ret)\n",
    "c1"
   ]
  },
  {
   "cell_type": "code",
   "execution_count": null,
   "metadata": {},
   "outputs": [],
   "source": [
    "c1['HighSchool']=c1.pop('1')\n",
    "c1['University']=c1.pop('2')\n",
    "c1['GradSchool']=c1.pop('3')\n",
    "c1['OJT']=c1.pop('4')\n",
    "c1['SelfTaught']=c1.pop('5')\n",
    "c1['NoStatistics']=c1.pop('6')\n",
    "c1['Other']=c1.pop('7')"
   ]
  },
  {
   "cell_type": "code",
   "execution_count": null,
   "metadata": {},
   "outputs": [],
   "source": [
    "c1"
   ]
  },
  {
   "cell_type": "code",
   "execution_count": null,
   "metadata": {},
   "outputs": [],
   "source": [
    "plt.pie(c1.values(),labels=c1.keys(), counterclock=False, startangle=90, autopct=\"%.1f%%\",\n",
    "        pctdistance=0.7)\n",
    "plt.title('Statistic Course Experience')"
   ]
  },
  {
   "cell_type": "code",
   "execution_count": null,
   "metadata": {},
   "outputs": [],
   "source": []
  }
 ],
 "metadata": {
  "interpreter": {
   "hash": "2db524e06e9f5f4ffedc911c917cb75e12dbc923643829bf417064a77eb14d37"
  },
  "kernelspec": {
   "display_name": "Environment (conda_caret2test)",
   "language": "python",
   "name": "python3"
  },
  "language_info": {
   "codemirror_mode": {
    "name": "ipython",
    "version": 3
   },
   "file_extension": ".py",
   "mimetype": "text/x-python",
   "name": "python",
   "nbconvert_exporter": "python",
   "pygments_lexer": "ipython3",
   "version": "3.8.3"
  },
  "orig_nbformat": 4
 },
 "nbformat": 4,
 "nbformat_minor": 2
}
